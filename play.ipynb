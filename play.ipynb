{
 "cells": [
  {
   "cell_type": "code",
   "execution_count": null,
   "metadata": {},
   "outputs": [],
   "source": [
    "import numpy as np\n",
    "import torch\n",
    "from environment import KukaEnv, MazeEnv, SnakeEnv\n",
    "from environment import Kuka2Env\n",
    "from torch_geometric.nn import knn_graph\n",
    "from collections import defaultdict\n",
    "from time import time\n",
    "import pickle\n",
    "from tqdm import tqdm\n",
    "from torch_sparse import coalesce\n",
    "\n",
    "INFINITY = float('inf')\n",
    "\n",
    "\n",
    "def construct_graph(env, points, check_collision=True):\n",
    "    edge_index = knn_graph(torch.FloatTensor(points), k=5, loop=True)\n",
    "    edge_index = torch.cat((edge_index, edge_index.flip(0)), dim=-1)\n",
    "    edge_index_torch, _ = coalesce(edge_index, None, len(points), len(points))\n",
    "    edge_index = edge_index_torch.data.cpu().numpy().T\n",
    "    edge_cost = defaultdict(list)\n",
    "    edge_free = []\n",
    "    neighbors = defaultdict(list)\n",
    "    for i, edge in enumerate(edge_index):\n",
    "        if env._edge_fp(points[edge[0]], points[edge[1]]):\n",
    "            edge_cost[edge[1]].append(np.linalg.norm(points[edge[1]]-points[edge[0]]))\n",
    "            edge_free.append(True)\n",
    "        else:\n",
    "            edge_cost[edge[1]].append(INFINITY)\n",
    "            edge_free.append(False)\n",
    "        neighbors[edge[1]].append(edge[0])\n",
    "    return edge_cost, neighbors, edge_index, edge_free\n",
    "\n",
    "\n",
    "def min_dist(q, dist):\n",
    "    \"\"\"\n",
    "    Returns the node with the smallest distance in q.\n",
    "    Implemented to keep the main algorithm clean.\n",
    "    \"\"\"\n",
    "    min_node = None\n",
    "    for node in q:\n",
    "        if min_node is None:\n",
    "            min_node = node\n",
    "        elif dist[node] < dist[min_node]:\n",
    "            min_node = node\n",
    "\n",
    "    return min_node\n",
    "\n",
    "\n",
    "def dijkstra(nodes, edges, costs, source):\n",
    "    q = set()\n",
    "    dist = {}\n",
    "    prev = {}\n",
    "\n",
    "    for v in nodes:       # initialization\n",
    "        dist[v] = INFINITY      # unknown distance from source to v\n",
    "        prev[v] = INFINITY      # previous node in optimal path from source\n",
    "        q.add(v)                # all nodes initially in q (unvisited nodes)\n",
    "\n",
    "    # distance from source to source\n",
    "    dist[source] = 0\n",
    "    prev[source] = source\n",
    "\n",
    "    while q:\n",
    "        # node with the least distance selected first\n",
    "        u = min_dist(q, dist)\n",
    "\n",
    "        q.remove(u)\n",
    "\n",
    "        for index, v in enumerate(edges[u]):\n",
    "            alt = dist[u] + costs[u][index]\n",
    "            if alt < dist[v]:\n",
    "                # a shorter path to v has been found\n",
    "                dist[v] = alt\n",
    "                prev[v] = u\n",
    "\n",
    "    return dist, prev\n",
    "\n",
    "\n",
    "data = []\n",
    "init_states = []\n",
    "goal_states = []\n",
    "maps = []\n",
    "n_sample = [50, 200, 1000]\n",
    "# env = MazeEnv(dim=2,  map_file=\"maze_files/mazes_4000.npz\")\n",
    "env = SnakeEnv(map_file='maze_files/snakes_15_2_3000.npz')\n",
    "with np.load('maze_files/mazes_100000.npz') as f:\n",
    "    env.maps = 1-f['arr_0']\n",
    "# env = KukaEnv(kuka_file=\"kuka_iiwa/model_3.urdf\", map_file=\"maze_files/kukas_13_3000.pkl\")\n",
    "# env = Kuka2Env()\n",
    "\n",
    "time0 = time()\n",
    "\n",
    "# for n in n_sample:\\\n",
    "pbar = tqdm(range(100000))\n",
    "for problem_index in pbar:\n",
    "\n",
    "    env.init_new_problem(problem_index)\n",
    "    points = env.uniform_sample(n=500)\n",
    "    edge_cost, neighbors, edge_index, edge_free = construct_graph(env, points)\n",
    "\n",
    "    for source_index in range(len(points)):\n",
    "        dist, prev = dijkstra(list(range(len(points))), neighbors, edge_cost, source_index)\n",
    "        valid_goal = np.logical_and(np.array(list(dist.values())) != INFINITY, np.array(list(dist.values()))!=0)\n",
    "        if valid_goal.sum() == 0:\n",
    "            continue\n",
    "        else:\n",
    "            goal_index = np.array(list(dist.values()))[valid_goal].argmax()\n",
    "            goal_index = np.arange(len(dist))[valid_goal][goal_index]\n",
    "            init_states.append(points[source_index])\n",
    "            goal_states.append(points[goal_index])\n",
    "            maps.append(env.maps[problem_index])\n",
    "            data.append((points, neighbors, edge_cost, edge_index, edge_free))\n",
    "            break\n",
    "\n",
    "    if len(maps) == 3000:\n",
    "        break\n",
    "\n",
    "    pbar.set_description(str(len(maps)))\n",
    "\n",
    "    #\n",
    "    # print(time()-time0)\n",
    "    # print('yes')\n",
    "\n",
    "with open('data/pkl/snake_prm_3000.pkl', 'wb') as f:\n",
    "    pickle.dump(data, f, pickle.DEFAULT_PROTOCOL)\n",
    "\n",
    "a = {'maps': maps,\n",
    "     'init_states': init_states,\n",
    "     'goal_states': goal_states, }\n",
    "np.savez('maze_files/snakes_15_2_3000.npz', **a)\n",
    "\n",
    "# with np.load('maze_files/snakes_15_2_3000.npz') as f:\n",
    "#     maps = f['maps']\n",
    "#     init_states = f['init_states']\n",
    "#     goal_states = f['goal_states']\n",
    "#\n",
    "print('yes')"
   ]
  },
  {
   "cell_type": "markdown",
   "metadata": {},
   "source": [
    "# train smoother v2"
   ]
  },
  {
   "cell_type": "code",
   "execution_count": null,
   "metadata": {},
   "outputs": [],
   "source": [
    "import os\n",
    "os.environ['CUDA_LAUNCH_BLOCKING']='1'\n",
    "%set_env CUDA_LAUNCH_BLOCKING=1"
   ]
  },
  {
   "cell_type": "code",
   "execution_count": null,
   "metadata": {
    "scrolled": true,
    "tags": []
   },
   "outputs": [],
   "source": [
    "from train_smoother import *\n",
    "\n",
    "from train_explorer import train_explorer\n",
    "from importlib import reload\n",
    "import train_smoother\n",
    "reload(train_smoother)\n",
    "from train_smoother import train_smoother\n",
    "import torch\n",
    "from environment import MazeEnv, KukaEnv, SnakeEnv, UR5Env, Kuka2Env\n",
    "from str2name import str2name\n",
    "from copy import deepcopy\n",
    "\n",
    "str_ = 'kuka13'\n",
    "epoch = 2000\n",
    "env, model_explore, model_explore_path, model_smooth, model_smooth_path = str2name(str=str_)\n",
    "model_explore.load_state_dict(torch.load(model_explore_path, map_location=torch.device(\"cpu\")))\n",
    "model_explore.to(device)\n",
    "model_smooth_path = model_smooth_path.replace('.pt', 'v2.pt')\n",
    "model = model_smooth\n",
    "model_path = model_smooth_path\n",
    "# model.load_state_dict(torch.load(model_path, map_location=torch.device(\"cpu\")))\n",
    "model.to(device)\n",
    "writer = SummaryWriter()\n",
    "INFINITY = float('inf')"
   ]
  },
  {
   "cell_type": "code",
   "execution_count": null,
   "metadata": {
    "scrolled": true,
    "tags": []
   },
   "outputs": [],
   "source": [
    "from smoother import interpolate_path\n",
    "# env = KukaEnv(kuka_file=\"kuka_iiwa/model_3.urdf\", map_file=\"maze_files/kukas_13_3000.pkl\")\n",
    "set_random_seed(1234)\n",
    "\n",
    "replay = []\n",
    "for iter_i in range(3):\n",
    "\n",
    "    indexes = np.random.permutation(epoch)\n",
    "    pbar = tqdm(indexes)\n",
    "\n",
    "    for index in pbar:\n",
    "        env.init_new_problem(index)\n",
    "        if iter_i != 0:\n",
    "            env.set_random_init_goal()\n",
    "\n",
    "        try:\n",
    "            path, free, collided = explore(env, model_explore, model, smooth=False)\n",
    "            if len(path) > 2:\n",
    "                path_smooth = joint_smoother_ratio([tuple(node) for node in path], env, iter=5)\n",
    "                replay.append((index, path, path_smooth, deepcopy(env.obstacles), free, collided))\n",
    "                \n",
    "        except Exception as e:\n",
    "            continue"
   ]
  },
  {
   "cell_type": "code",
   "execution_count": null,
   "metadata": {},
   "outputs": [],
   "source": [
    "import pickle\n",
    "pickle.dump([(r[0], r[1], r[2]) for r in replay], open(\"data/oracle_{0:s}.p\".format(str_), \"wb\"))"
   ]
  },
  {
   "cell_type": "code",
   "execution_count": null,
   "metadata": {
    "scrolled": true,
    "tags": []
   },
   "outputs": [],
   "source": [
    "import pickle\n",
    "with open(\"data/oracle_{0:s}.p\".format(str_), \"rb\") as f:\n",
    "    replay = pickle.load(f)\n",
    "\n",
    "extra_data = []\n",
    "for index in tqdm(range(epoch)):\n",
    "    env.init_new_problem(index)\n",
    "    free, collided = env.sample_n_points(500, need_negative=True)\n",
    "    extra_data.append((deepcopy(env.obstacles), free, collided))\n",
    "\n",
    "for i, r in enumerate(replay):\n",
    "    replay[i] = list(replay[i])\n",
    "    replay[i].extend(extra_data[replay[i][0]])"
   ]
  },
  {
   "cell_type": "code",
   "execution_count": null,
   "metadata": {},
   "outputs": [],
   "source": [
    "extra_data[replay[i][0]]"
   ]
  },
  {
   "cell_type": "code",
   "execution_count": null,
   "metadata": {},
   "outputs": [],
   "source": [
    "len(replay)"
   ]
  },
  {
   "cell_type": "code",
   "execution_count": null,
   "metadata": {},
   "outputs": [],
   "source": [
    "from model_smoother import ModelSmoother\n",
    "from train_smoother import *\n",
    "model = ModelSmoother(workspace_size=env.dim, config_size=env.config_dim, embed_size=128, obs_size=6, scale=1).to(device)\n",
    "_ = model.to(device)"
   ]
  },
  {
   "cell_type": "code",
   "execution_count": null,
   "metadata": {},
   "outputs": [],
   "source": [
    "np.array(env.bound).reshape(2, -1)[1,:]"
   ]
  },
  {
   "cell_type": "code",
   "execution_count": null,
   "metadata": {},
   "outputs": [],
   "source": [
    "model.load_state_dict(torch.load('data/weights/'))"
   ]
  },
  {
   "cell_type": "code",
   "execution_count": null,
   "metadata": {
    "scrolled": true,
    "tags": []
   },
   "outputs": [],
   "source": [
    "model.train()\n",
    "model_path = model_path.replace('v2.pt', 'v3.pt')\n",
    "optimizer = torch.optim.SGD(model.parameters(), lr=1e-3, momentum=0.9, weight_decay=1e-4)\n",
    "# optimizer = torch.optim.Adam(model.parameters(), lr=1e-3)\n",
    "\n",
    "scheduler = torch.optim.lr_scheduler.ReduceLROnPlateau(optimizer, 'min', patience=0)\n",
    "optimizer.zero_grad()\n",
    "\n",
    "loss_min = float('inf')\n",
    "\n",
    "for iter_i in range(20):\n",
    "\n",
    "    indexes = np.random.permutation(len(replay))\n",
    "    pbar = tqdm(np.arange(len(replay)))\n",
    "    losses = []\n",
    "\n",
    "    for index in pbar:\n",
    "\n",
    "        if index % 8 != 0:\n",
    "            continue\n",
    "\n",
    "        loss = train(env, replay, model, optimizer, batch_idx=indexes[index:(index+8)])\n",
    "\n",
    "        losses.append(float(loss))\n",
    "\n",
    "        pbar.set_description(\"loss: %.5f\" % np.mean(losses))\n",
    "        writer.add_scalar('loss', loss)\n",
    "\n",
    "    scheduler.step(np.mean(losses))\n",
    "    \n",
    "    if np.mean(losses) < loss_min:\n",
    "        loss_min = np.mean(losses)\n",
    "        torch.save(model.state_dict(), model_path)        "
   ]
  },
  {
   "cell_type": "code",
   "execution_count": null,
   "metadata": {},
   "outputs": [],
   "source": [
    "%debug"
   ]
  },
  {
   "cell_type": "code",
   "execution_count": null,
   "metadata": {},
   "outputs": [],
   "source": [
    "model.load_state_dict(torch.load(model_path, map_location=torch.device(\"cpu\")))"
   ]
  },
  {
   "cell_type": "code",
   "execution_count": null,
   "metadata": {},
   "outputs": [],
   "source": [
    "model.eval()\n",
    "env_id, path_origin, path_smooth, obstacles, free, collided = replay[0]\n",
    "data = obs_data(model.config_size, obstacles, free, collided)\n",
    "data = DotDict({k: torch.FloatTensor(v).to(device) for k, v in data.items()})\n",
    "data.path = torch.FloatTensor(path_origin).to(device)\n",
    "data.edge_index = torch.cat((torch.arange(1, len(path_origin)).reshape(1, -1),\n",
    "               \n",
    "                             torch.arange(0, len(path_origin)-1).reshape(1, -1)), dim=0)\n",
    "data.edge_index = torch.cat((data.edge_index, data.edge_index.flip(0)), dim=-1)\n",
    "data.edge_index, _ = add_self_loops(data.edge_index, num_nodes=len(data.path))\n",
    "data.edge_index = data.edge_index.to(device)"
   ]
  },
  {
   "cell_type": "code",
   "execution_count": null,
   "metadata": {},
   "outputs": [],
   "source": [
    "from eval_gnn import path_cost\n",
    "\n",
    "path_pred = model(**data, loop=10)\n",
    "path_pred = path_pred.data.cpu().numpy()\n",
    "path_pred[0]=path_smooth[0]\n",
    "path_pred[-1]=path_smooth[-1]\n",
    "print(path_cost(np.array(path_smooth)), path_cost(path_pred), path_cost(np.array(path_origin)))"
   ]
  },
  {
   "cell_type": "code",
   "execution_count": null,
   "metadata": {},
   "outputs": [],
   "source": [
    "path_pred"
   ]
  },
  {
   "cell_type": "code",
   "execution_count": null,
   "metadata": {},
   "outputs": [],
   "source": [
    "model.load_state_dict(torch.load(model_path, map_location=torch.device(\"cpu\")))"
   ]
  },
  {
   "cell_type": "code",
   "execution_count": null,
   "metadata": {},
   "outputs": [],
   "source": [
    "c0, cost, data, explored, forward, success, t0, value, path, smooth_path = explore(env, model_explore, model, smooth=True, batch=50, t_max=1000)"
   ]
  },
  {
   "cell_type": "code",
   "execution_count": null,
   "metadata": {},
   "outputs": [],
   "source": [
    "env.collision_check_count-c0"
   ]
  },
  {
   "cell_type": "code",
   "execution_count": null,
   "metadata": {},
   "outputs": [],
   "source": [
    "env.collision_check_count-c0"
   ]
  },
  {
   "cell_type": "code",
   "execution_count": null,
   "metadata": {},
   "outputs": [],
   "source": [
    "c1 = int(env.collision_check_count)"
   ]
  },
  {
   "cell_type": "code",
   "execution_count": null,
   "metadata": {},
   "outputs": [],
   "source": [
    "from algorithm.bit_star import BITStar\n",
    "bit = BITStar(env, batch_size=50, T=1000, sampling=None)\n",
    "solution = bit.plan(INFINITY, time_budget=300, refine_time_budget=0)\n",
    "path_cost(bit.get_best_path())"
   ]
  },
  {
   "cell_type": "code",
   "execution_count": null,
   "metadata": {},
   "outputs": [],
   "source": [
    "env.collision_check_count-c1"
   ]
  },
  {
   "cell_type": "code",
   "execution_count": null,
   "metadata": {},
   "outputs": [],
   "source": [
    "env.collision_check_count-c1"
   ]
  },
  {
   "cell_type": "code",
   "execution_count": null,
   "metadata": {},
   "outputs": [],
   "source": [
    "from eval_gnn import path_cost\n",
    "print(path_cost(path))\n",
    "print(path_cost(smooth_path))"
   ]
  },
  {
   "cell_type": "code",
   "execution_count": null,
   "metadata": {},
   "outputs": [],
   "source": []
  },
  {
   "cell_type": "code",
   "execution_count": null,
   "metadata": {},
   "outputs": [],
   "source": [
    "import matplotlib.pyplot as plt\n",
    "x = value.cpu().data.numpy()\n",
    "n, bins, patches = plt.hist(x, 50, density=True, facecolor='g', alpha=0.75)\n",
    "\n",
    "plt.grid(True)\n",
    "plt.show()"
   ]
  },
  {
   "cell_type": "code",
   "execution_count": null,
   "metadata": {},
   "outputs": [],
   "source": [
    "model.load_state_dict(torch.load('data/weights/smooth_14d_attv3.pt', map_location=torch.device(\"cpu\")))\n",
    "model = model.to(device)"
   ]
  },
  {
   "cell_type": "code",
   "execution_count": null,
   "metadata": {},
   "outputs": [],
   "source": [
    "result_total = {}"
   ]
  },
  {
   "cell_type": "code",
   "execution_count": null,
   "metadata": {},
   "outputs": [],
   "source": [
    "from environment import MazeEnv, UR5Env, SnakeEnv, KukaEnv, Kuka2Env\n",
    "import torch\n",
    "from train_next import str2next\n",
    "from str2name import str2name\n",
    "from algorithm.tsa import NEXT_plan\n",
    "from config import set_random_seed\n",
    "from eval_gnn import explore\n",
    "import numpy as np\n",
    "from tqdm import tqdm\n",
    "from eval_gnn import path_cost\n",
    "\n",
    "set_random_seed(1234)\n",
    "env = SnakeEnv(GUI=False)\n",
    "\n",
    "UCB_type = 'kde'\n",
    "device = torch.device(\"cuda:0\" if torch.cuda.is_available() else \"cpu\")\n",
    "cuda = True if torch.cuda.is_available() else False\n",
    "model, model_path = str2next(str(env), env)\n",
    "model.net.load_state_dict(torch.load(model_path, map_location=device))\n",
    "results = []\n",
    "\n",
    "for i in tqdm(range(3000)):\n",
    "\n",
    "    pb = env.init_new_problem(i)\n",
    "    model.set_problem(env.get_problem())\n",
    "    set_random_seed(1234)\n",
    "    solution = NEXT_plan(\n",
    "        env=env,\n",
    "        model=model,\n",
    "        T=1000,\n",
    "        g_explore_eps=0.1,\n",
    "        stop_when_success=True,\n",
    "        UCB_type=UCB_type\n",
    "    )\n",
    "    if solution[1]:\n",
    "        results.append((i, solution))"
   ]
  },
  {
   "cell_type": "code",
   "execution_count": null,
   "metadata": {},
   "outputs": [],
   "source": [
    "from eval_gnn import path_cost\n",
    "path_cost(results[1][1][0].path()[0])"
   ]
  },
  {
   "cell_type": "code",
   "execution_count": null,
   "metadata": {},
   "outputs": [],
   "source": [
    "env.init_new_problem(2085)"
   ]
  },
  {
   "cell_type": "code",
   "execution_count": null,
   "metadata": {},
   "outputs": [],
   "source": [
    "env.path"
   ]
  },
  {
   "cell_type": "code",
   "execution_count": null,
   "metadata": {},
   "outputs": [],
   "source": [
    "def str2env(str):\n",
    "    if str == 'maze2easy':\n",
    "        env = MazeEnv(dim=2)\n",
    "        indexes = np.arange(2000, 3000)\n",
    "        \n",
    "    elif str == 'maze2hard':\n",
    "        env = MazeEnv(dim=2, map_file='maze_files/mazes_hard.npz')\n",
    "        indexes = np.arange(1000)        \n",
    "\n",
    "    elif str == 'kuka7':\n",
    "        env = KukaEnv()\n",
    "        indexes = np.arange(2000, 3000)\n",
    "        \n",
    "    elif str == 'ur5':\n",
    "        env = UR5Env()\n",
    "        indexes = np.arange(2000, 3000)\n",
    "\n",
    "    elif str == 'snake7':\n",
    "        env = SnakeEnv(map_file='maze_files/snakes_15_2_3000.npz')\n",
    "        indexes = np.arange(2000, 3000)\n",
    "\n",
    "    elif str == 'kuka13':\n",
    "        env = KukaEnv(kuka_file=\"kuka_iiwa/model_3.urdf\", map_file=\"maze_files/kukas_13_3000.pkl\")\n",
    "        indexes = np.arange(2000, 3000)\n",
    "\n",
    "    elif str == 'kuka14':\n",
    "        env = Kuka2Env()\n",
    "        indexes = np.arange(2000, 3000)\n",
    "\n",
    "    return env, indexes"
   ]
  },
  {
   "cell_type": "code",
   "execution_count": null,
   "metadata": {},
   "outputs": [],
   "source": [
    "import pickle\n",
    "result_total = pickle.load(open(\"data/new_smoother.p\", \"rb\"))"
   ]
  },
  {
   "cell_type": "code",
   "execution_count": null,
   "metadata": {
    "scrolled": true,
    "tags": []
   },
   "outputs": [],
   "source": [
    "import pickle\n",
    "from importlib import reload\n",
    "import eval_gnn\n",
    "reload(eval_gnn)\n",
    "from eval_gnn import eval_gnn, eval_gnn_pure\n",
    "from eval_next import eval_next\n",
    "from eval_bit import eval_bit\n",
    "from eval_rrt import eval_rrt\n",
    "import numpy as np\n",
    "from environment import UR5Env, Kuka2Env, SnakeEnv, MazeEnv, KukaEnv\n",
    "from str2env import str2env\n",
    "from str2name import str2name\n",
    "import warnings\n",
    "warnings.filterwarnings('ignore')\n",
    "indexes = np.arange(2000, 3000)\n",
    "try:\n",
    "    if result_total is None:\n",
    "        result_total = {}\n",
    "except:\n",
    "    result_total = {}\n",
    "    \n",
    "methods = [('GNN', eval_gnn), ('GNN_pure', eval_gnn_pure)]\n",
    "\n",
    "for name, eval_method in methods:\n",
    "\n",
    "    for problem in ['maze2easy', 'maze2hard', 'snake7', 'ur5', 'kuka7', 'kuka13', 'kuka14']:\n",
    "\n",
    "        env, indexes = str2env(problem)\n",
    "        for seed in [1234, 2341, 3412, 4123]:\n",
    "            if (problem, name, str(seed)) in result_total:\n",
    "                continue\n",
    "            print(problem, name, seed)\n",
    "            result = eval_method(str(env), seed, env, indexes, use_tqdm=True)\n",
    "            result_total[problem, name, str(seed)] = result\n",
    "\n",
    "        results = [result_total[problem, name, str(seed)] for seed in [1234, 2341, 3412, 4123]]\n",
    "        print(problem, name, 'Avg')\n",
    "        print('success rate:', np.mean([result[0] for result in results]))\n",
    "        print('collision check: %.2f' % np.mean([result[1] for result in results]))\n",
    "        print('running time: %.2f' % np.mean([result[2] for result in results]))\n",
    "        print('path cost: %.2f' % np.mean([result[3] for result in results]))\n",
    "        print('total time: %.2f' % np.mean([result[4] for result in results]))\n",
    "        print('')\n",
    "        result_total[problem, name, 'Avg'] = tuple([np.mean([result[i] for result in results]) for i in range(5)])\n",
    "        results = []\n",
    "\n",
    "        pickle.dump(result_total, open(\"data/new_smoother.p\", \"wb\"))"
   ]
  },
  {
   "cell_type": "code",
   "execution_count": null,
   "metadata": {
    "scrolled": true,
    "tags": []
   },
   "outputs": [],
   "source": [
    "methods = [('BIT*', eval_bit), ('RRT*', eval_rrt)]\n",
    "\n",
    "for name, eval_method in methods:\n",
    "\n",
    "    for problem in ['maze2easy', 'maze2hard', 'snake7', 'ur5', 'kuka7', 'kuka13', 'kuka14']:\n",
    "\n",
    "        env, indexes = str2env(problem)\n",
    "        for seed in [1234, 2341, 3412, 4123]:\n",
    "            if (problem, name, str(seed)) in result_total:\n",
    "                continue\n",
    "            print(problem, name, seed)\n",
    "            result = eval_method(str(env), seed, env, indexes, batch=100, use_tqdm=True)\n",
    "            result_total[problem, name, str(seed)] = result\n",
    "\n",
    "        results = [result_total[problem, name, str(seed)] for seed in [1234, 2341, 3412, 4123]]\n",
    "        print(problem, name, 'Avg')\n",
    "        print('success rate:', np.mean([result[0] for result in results]))\n",
    "        print('collision check: %.2f' % np.mean([result[1] for result in results]))\n",
    "        print('running time: %.2f' % np.mean([result[2] for result in results]))\n",
    "        print('path cost: %.2f' % np.mean([result[3] for result in results]))\n",
    "        print('total time: %.2f' % np.mean([result[4] for result in results]))\n",
    "        print('')\n",
    "        result_total[problem, name, 'Avg'] = tuple([np.mean([result[i] for result in results]) for i in range(5)])\n",
    "        results = []\n",
    "\n",
    "        pickle.dump(result_total, open(\"data/bit_rrt_new_env.p\", \"wb\"))"
   ]
  },
  {
   "cell_type": "code",
   "execution_count": null,
   "metadata": {
    "scrolled": true,
    "tags": []
   },
   "outputs": [],
   "source": [
    "import pickle\n",
    "from importlib import reload\n",
    "import eval_gnn\n",
    "reload(eval_gnn)\n",
    "from eval_gnn import eval_gnn, eval_gnn_pure\n",
    "from eval_next import eval_next\n",
    "from eval_bit import eval_bit\n",
    "from eval_rrt import eval_rrt\n",
    "import numpy as np\n",
    "from environment import UR5Env, Kuka2Env, SnakeEnv, MazeEnv, KukaEnv\n",
    "from str2env import str2env\n",
    "from str2name import str2name\n",
    "import warnings\n",
    "warnings.filterwarnings('ignore')\n",
    "indexes = np.arange(2000, 3000)\n",
    "try:\n",
    "    if result_total is None:\n",
    "        result_total = {}\n",
    "except:\n",
    "    result_total = {}\n",
    "\n",
    "methods = [('GNN', eval_gnn)]\n",
    "\n",
    "for name, eval_method in methods:\n",
    "\n",
    "    for problem in ['maze2easy', 'maze2hard', 'snake7', 'ur5', 'kuka7', 'kuka13', 'kuka14']:\n",
    "\n",
    "        env, indexes = str2env(problem)\n",
    "        for batch in [50, 100, 200, 300, 500, 1000]:\n",
    "            if (problem, name, batch) in result_total:\n",
    "                continue\n",
    "            print(problem, name, batch)\n",
    "            result = eval_method(str(env), 1234, env, indexes, use_tqdm=True, batch=batch, t_max=batch)\n",
    "            result_total[problem, name, batch] = result\n",
    "\n",
    "        pickle.dump(result_total, open(\"data/probing_samples.p\", \"wb\"))"
   ]
  },
  {
   "cell_type": "code",
   "execution_count": null,
   "metadata": {
    "scrolled": true,
    "tags": []
   },
   "outputs": [],
   "source": [
    "import pickle\n",
    "from importlib import reload\n",
    "import eval_gnn\n",
    "reload(eval_gnn)\n",
    "from eval_gnn import eval_gnn, eval_gnn_pure\n",
    "from eval_next import eval_next\n",
    "from eval_bit import eval_bit\n",
    "from eval_rrt import eval_rrt\n",
    "import numpy as np\n",
    "from environment import UR5Env, Kuka2Env, SnakeEnv, MazeEnv, KukaEnv\n",
    "from str2env import str2env\n",
    "from str2name import str2name\n",
    "import warnings\n",
    "warnings.filterwarnings('ignore')\n",
    "indexes = np.arange(2000, 3000)\n",
    "try:\n",
    "    if result_total is None:\n",
    "        result_total = {}\n",
    "except:\n",
    "    result_total = {}\n",
    "    \n",
    "methods = [('Oracle', eval_gnn)]\n",
    "\n",
    "for name, eval_method in methods:\n",
    "\n",
    "    for problem in ['maze2easy', 'maze2hard', 'snake7', 'ur5', 'kuka7', 'kuka13', 'kuka14']:\n",
    "\n",
    "        env, indexes = str2env(problem)\n",
    "        if (problem, name) in result_total:\n",
    "            continue\n",
    "        print(problem, name)\n",
    "        result = eval_method(str(env), 1234, env, indexes, use_tqdm=True, smoother='oracle')\n",
    "        result_total[problem, name] = result\n",
    "\n",
    "        pickle.dump(result_total, open(\"data/oracle_test.p\", \"wb\"))"
   ]
  },
  {
   "cell_type": "code",
   "execution_count": 3,
   "metadata": {
    "scrolled": true,
    "tags": []
   },
   "outputs": [
    {
     "name": "stderr",
     "output_type": "stream",
     "text": [
      "gnn 0.01s, search 0.04s, explored 6:   0%|          | 0/1000 [00:00<?, ?it/s]"
     ]
    },
    {
     "name": "stdout",
     "output_type": "stream",
     "text": [
      "maze2easy GNN 1234\n"
     ]
    },
    {
     "name": "stderr",
     "output_type": "stream",
     "text": [
      "gnn 0.01s, search 0.02s, explored 4: 100%|██████████| 1000/1000 [01:14<00:00, 13.50it/s] \n",
      "  0%|          | 0/1000 [00:00<?, ?it/s]"
     ]
    },
    {
     "name": "stdout",
     "output_type": "stream",
     "text": [
      "success rate: 1000\n",
      "collision check: 581.34\n",
      "collision check explore: 474.64\n",
      "running time: 0.07\n",
      "path cost: 1.31\n",
      "total time: 72.16\n",
      "total time explore: 59.28\n",
      "\n",
      "maze2easy GNN Avg\n",
      "success rate: 1000.0\n",
      "collision check: 581.34\n",
      "running time: 0.07\n",
      "path cost: 1.31\n",
      "total time: 72.16\n",
      "\n",
      "maze2hard GNN 1234\n"
     ]
    },
    {
     "name": "stderr",
     "output_type": "stream",
     "text": [
      "gnn 0.01s, search 0.09s, explored 12:  24%|██▍       | 242/1000 [00:41<02:11,  5.77it/s] \n"
     ]
    },
    {
     "ename": "KeyboardInterrupt",
     "evalue": "",
     "output_type": "error",
     "traceback": [
      "\u001b[0;31m---------------------------------------------------------------------------\u001b[0m",
      "\u001b[0;31mKeyboardInterrupt\u001b[0m                         Traceback (most recent call last)",
      "\u001b[0;32m<ipython-input-3-21e14928d952>\u001b[0m in \u001b[0;36m<module>\u001b[0;34m()\u001b[0m\n\u001b[1;32m     33\u001b[0m                 \u001b[0;32mcontinue\u001b[0m\u001b[0;34m\u001b[0m\u001b[0;34m\u001b[0m\u001b[0m\n\u001b[1;32m     34\u001b[0m             \u001b[0mprint\u001b[0m\u001b[0;34m(\u001b[0m\u001b[0mproblem\u001b[0m\u001b[0;34m,\u001b[0m \u001b[0mname\u001b[0m\u001b[0;34m,\u001b[0m \u001b[0mseed\u001b[0m\u001b[0;34m)\u001b[0m\u001b[0;34m\u001b[0m\u001b[0;34m\u001b[0m\u001b[0m\n\u001b[0;32m---> 35\u001b[0;31m             \u001b[0mresult\u001b[0m \u001b[0;34m=\u001b[0m \u001b[0meval_method\u001b[0m\u001b[0;34m(\u001b[0m\u001b[0mstr\u001b[0m\u001b[0;34m(\u001b[0m\u001b[0menv\u001b[0m\u001b[0;34m)\u001b[0m\u001b[0;34m,\u001b[0m \u001b[0mseed\u001b[0m\u001b[0;34m,\u001b[0m \u001b[0menv\u001b[0m\u001b[0;34m,\u001b[0m \u001b[0mindexes\u001b[0m\u001b[0;34m,\u001b[0m \u001b[0muse_tqdm\u001b[0m\u001b[0;34m=\u001b[0m\u001b[0;32mTrue\u001b[0m\u001b[0;34m,\u001b[0m \u001b[0mbatch\u001b[0m\u001b[0;34m=\u001b[0m\u001b[0;36m100\u001b[0m\u001b[0;34m)\u001b[0m\u001b[0;34m\u001b[0m\u001b[0;34m\u001b[0m\u001b[0m\n\u001b[0m\u001b[1;32m     36\u001b[0m             \u001b[0mresult_total\u001b[0m\u001b[0;34m[\u001b[0m\u001b[0mproblem\u001b[0m\u001b[0;34m,\u001b[0m \u001b[0mname\u001b[0m\u001b[0;34m,\u001b[0m \u001b[0mstr\u001b[0m\u001b[0;34m(\u001b[0m\u001b[0mseed\u001b[0m\u001b[0;34m)\u001b[0m\u001b[0;34m]\u001b[0m \u001b[0;34m=\u001b[0m \u001b[0mresult\u001b[0m\u001b[0;34m\u001b[0m\u001b[0;34m\u001b[0m\u001b[0m\n\u001b[1;32m     37\u001b[0m \u001b[0;34m\u001b[0m\u001b[0m\n",
      "\u001b[0;32m/home/rainorangelemon/GNN-MP/eval_gnn.py\u001b[0m in \u001b[0;36meval_gnn\u001b[0;34m(str, seed, env, indexes, model, model_s, use_tqdm, smooth, batch, t_max, k, **kwargs)\u001b[0m\n\u001b[1;32m    110\u001b[0m \u001b[0;34m\u001b[0m\u001b[0m\n\u001b[1;32m    111\u001b[0m         \u001b[0menv\u001b[0m\u001b[0;34m.\u001b[0m\u001b[0minit_new_problem\u001b[0m\u001b[0;34m(\u001b[0m\u001b[0mindex\u001b[0m\u001b[0;34m)\u001b[0m\u001b[0;34m\u001b[0m\u001b[0;34m\u001b[0m\u001b[0m\n\u001b[0;32m--> 112\u001b[0;31m         \u001b[0mresult\u001b[0m \u001b[0;34m=\u001b[0m \u001b[0mexplore\u001b[0m\u001b[0;34m(\u001b[0m\u001b[0menv\u001b[0m\u001b[0;34m,\u001b[0m \u001b[0mmodel\u001b[0m\u001b[0;34m,\u001b[0m \u001b[0mmodel_s\u001b[0m\u001b[0;34m,\u001b[0m \u001b[0msmooth\u001b[0m\u001b[0;34m,\u001b[0m \u001b[0mbatch\u001b[0m\u001b[0;34m=\u001b[0m\u001b[0mbatch\u001b[0m\u001b[0;34m,\u001b[0m \u001b[0mt_max\u001b[0m\u001b[0;34m=\u001b[0m\u001b[0mt_max\u001b[0m\u001b[0;34m,\u001b[0m \u001b[0mk\u001b[0m\u001b[0;34m=\u001b[0m\u001b[0mk\u001b[0m\u001b[0;34m,\u001b[0m \u001b[0;34m**\u001b[0m\u001b[0mkwargs\u001b[0m\u001b[0;34m)\u001b[0m\u001b[0;34m\u001b[0m\u001b[0;34m\u001b[0m\u001b[0m\n\u001b[0m\u001b[1;32m    113\u001b[0m \u001b[0;34m\u001b[0m\u001b[0m\n\u001b[1;32m    114\u001b[0m         \u001b[0mpaths\u001b[0m\u001b[0;34m.\u001b[0m\u001b[0mappend\u001b[0m\u001b[0;34m(\u001b[0m\u001b[0mresult\u001b[0m\u001b[0;34m[\u001b[0m\u001b[0;34m'path'\u001b[0m\u001b[0;34m]\u001b[0m\u001b[0;34m)\u001b[0m\u001b[0;34m\u001b[0m\u001b[0;34m\u001b[0m\u001b[0m\n",
      "\u001b[0;32m/home/rainorangelemon/anaconda3/envs/GNN/lib/python3.6/site-packages/torch/autograd/grad_mode.py\u001b[0m in \u001b[0;36mdecorate_context\u001b[0;34m(*args, **kwargs)\u001b[0m\n\u001b[1;32m     25\u001b[0m         \u001b[0;32mdef\u001b[0m \u001b[0mdecorate_context\u001b[0m\u001b[0;34m(\u001b[0m\u001b[0;34m*\u001b[0m\u001b[0margs\u001b[0m\u001b[0;34m,\u001b[0m \u001b[0;34m**\u001b[0m\u001b[0mkwargs\u001b[0m\u001b[0;34m)\u001b[0m\u001b[0;34m:\u001b[0m\u001b[0;34m\u001b[0m\u001b[0;34m\u001b[0m\u001b[0m\n\u001b[1;32m     26\u001b[0m             \u001b[0;32mwith\u001b[0m \u001b[0mself\u001b[0m\u001b[0;34m.\u001b[0m\u001b[0m__class__\u001b[0m\u001b[0;34m(\u001b[0m\u001b[0;34m)\u001b[0m\u001b[0;34m:\u001b[0m\u001b[0;34m\u001b[0m\u001b[0;34m\u001b[0m\u001b[0m\n\u001b[0;32m---> 27\u001b[0;31m                 \u001b[0;32mreturn\u001b[0m \u001b[0mfunc\u001b[0m\u001b[0;34m(\u001b[0m\u001b[0;34m*\u001b[0m\u001b[0margs\u001b[0m\u001b[0;34m,\u001b[0m \u001b[0;34m**\u001b[0m\u001b[0mkwargs\u001b[0m\u001b[0;34m)\u001b[0m\u001b[0;34m\u001b[0m\u001b[0;34m\u001b[0m\u001b[0m\n\u001b[0m\u001b[1;32m     28\u001b[0m         \u001b[0;32mreturn\u001b[0m \u001b[0mcast\u001b[0m\u001b[0;34m(\u001b[0m\u001b[0mF\u001b[0m\u001b[0;34m,\u001b[0m \u001b[0mdecorate_context\u001b[0m\u001b[0;34m)\u001b[0m\u001b[0;34m\u001b[0m\u001b[0;34m\u001b[0m\u001b[0m\n\u001b[1;32m     29\u001b[0m \u001b[0;34m\u001b[0m\u001b[0m\n",
      "\u001b[0;32m/home/rainorangelemon/GNN-MP/eval_gnn.py\u001b[0m in \u001b[0;36mexplore\u001b[0;34m(env, model, model_s, smooth, batch, t_max, k, smoother)\u001b[0m\n\u001b[1;32m    196\u001b[0m             \u001b[0mend_a\u001b[0m \u001b[0;34m=\u001b[0m \u001b[0mexplored\u001b[0m\u001b[0;34m[\u001b[0m\u001b[0mend_a\u001b[0m\u001b[0;34m]\u001b[0m\u001b[0;34m\u001b[0m\u001b[0;34m\u001b[0m\u001b[0m\n\u001b[1;32m    197\u001b[0m             \u001b[0mexplored_edges\u001b[0m\u001b[0;34m.\u001b[0m\u001b[0mextend\u001b[0m\u001b[0;34m(\u001b[0m\u001b[0;34m[\u001b[0m\u001b[0;34m[\u001b[0m\u001b[0mend_a\u001b[0m\u001b[0;34m,\u001b[0m \u001b[0mend_b\u001b[0m\u001b[0;34m]\u001b[0m\u001b[0;34m,\u001b[0m \u001b[0;34m[\u001b[0m\u001b[0mend_b\u001b[0m\u001b[0;34m,\u001b[0m \u001b[0mend_a\u001b[0m\u001b[0;34m]\u001b[0m\u001b[0;34m]\u001b[0m\u001b[0;34m)\u001b[0m\u001b[0;34m\u001b[0m\u001b[0;34m\u001b[0m\u001b[0m\n\u001b[0;32m--> 198\u001b[0;31m             \u001b[0;32mif\u001b[0m \u001b[0menv\u001b[0m\u001b[0;34m.\u001b[0m\u001b[0m_edge_fp\u001b[0m\u001b[0;34m(\u001b[0m\u001b[0mto_np\u001b[0m\u001b[0;34m(\u001b[0m\u001b[0mdata\u001b[0m\u001b[0;34m.\u001b[0m\u001b[0mv\u001b[0m\u001b[0;34m[\u001b[0m\u001b[0mend_a\u001b[0m\u001b[0;34m]\u001b[0m\u001b[0;34m)\u001b[0m\u001b[0;34m,\u001b[0m \u001b[0mto_np\u001b[0m\u001b[0;34m(\u001b[0m\u001b[0mdata\u001b[0m\u001b[0;34m.\u001b[0m\u001b[0mv\u001b[0m\u001b[0;34m[\u001b[0m\u001b[0mend_b\u001b[0m\u001b[0;34m]\u001b[0m\u001b[0;34m)\u001b[0m\u001b[0;34m)\u001b[0m\u001b[0;34m:\u001b[0m\u001b[0;34m\u001b[0m\u001b[0;34m\u001b[0m\u001b[0m\n\u001b[0m\u001b[1;32m    199\u001b[0m                 \u001b[0mexplored\u001b[0m\u001b[0;34m.\u001b[0m\u001b[0mappend\u001b[0m\u001b[0;34m(\u001b[0m\u001b[0mend_b\u001b[0m\u001b[0;34m)\u001b[0m\u001b[0;34m\u001b[0m\u001b[0;34m\u001b[0m\u001b[0m\n\u001b[1;32m    200\u001b[0m                 \u001b[0mcosts\u001b[0m\u001b[0;34m[\u001b[0m\u001b[0mend_b\u001b[0m\u001b[0;34m]\u001b[0m \u001b[0;34m=\u001b[0m \u001b[0mcosts\u001b[0m\u001b[0;34m[\u001b[0m\u001b[0mend_a\u001b[0m\u001b[0;34m]\u001b[0m \u001b[0;34m+\u001b[0m \u001b[0mnp\u001b[0m\u001b[0;34m.\u001b[0m\u001b[0mlinalg\u001b[0m\u001b[0;34m.\u001b[0m\u001b[0mnorm\u001b[0m\u001b[0;34m(\u001b[0m\u001b[0mto_np\u001b[0m\u001b[0;34m(\u001b[0m\u001b[0mdata\u001b[0m\u001b[0;34m.\u001b[0m\u001b[0mv\u001b[0m\u001b[0;34m[\u001b[0m\u001b[0mend_a\u001b[0m\u001b[0;34m]\u001b[0m\u001b[0;34m)\u001b[0m \u001b[0;34m-\u001b[0m \u001b[0mto_np\u001b[0m\u001b[0;34m(\u001b[0m\u001b[0mdata\u001b[0m\u001b[0;34m.\u001b[0m\u001b[0mv\u001b[0m\u001b[0;34m[\u001b[0m\u001b[0mend_b\u001b[0m\u001b[0;34m]\u001b[0m\u001b[0;34m)\u001b[0m\u001b[0;34m)\u001b[0m\u001b[0;34m\u001b[0m\u001b[0;34m\u001b[0m\u001b[0m\n",
      "\u001b[0;32m/home/rainorangelemon/GNN-MP/environment/maze_env.py\u001b[0m in \u001b[0;36m_edge_fp\u001b[0;34m(self, state, new_state)\u001b[0m\n\u001b[1;32m    315\u001b[0m         \u001b[0;32mif\u001b[0m \u001b[0;32mnot\u001b[0m \u001b[0mself\u001b[0m\u001b[0;34m.\u001b[0m\u001b[0m_valid_state\u001b[0m\u001b[0;34m(\u001b[0m\u001b[0mstate\u001b[0m\u001b[0;34m)\u001b[0m \u001b[0;32mor\u001b[0m \u001b[0;32mnot\u001b[0m \u001b[0mself\u001b[0m\u001b[0;34m.\u001b[0m\u001b[0m_valid_state\u001b[0m\u001b[0;34m(\u001b[0m\u001b[0mnew_state\u001b[0m\u001b[0;34m)\u001b[0m\u001b[0;34m:\u001b[0m\u001b[0;34m\u001b[0m\u001b[0;34m\u001b[0m\u001b[0m\n\u001b[1;32m    316\u001b[0m             \u001b[0;32mreturn\u001b[0m \u001b[0;32mFalse\u001b[0m\u001b[0;34m\u001b[0m\u001b[0;34m\u001b[0m\u001b[0m\n\u001b[0;32m--> 317\u001b[0;31m         \u001b[0;32mif\u001b[0m \u001b[0;32mnot\u001b[0m \u001b[0mself\u001b[0m\u001b[0;34m.\u001b[0m\u001b[0m_state_fp\u001b[0m\u001b[0;34m(\u001b[0m\u001b[0mstate\u001b[0m\u001b[0;34m)\u001b[0m \u001b[0;32mor\u001b[0m \u001b[0;32mnot\u001b[0m \u001b[0mself\u001b[0m\u001b[0;34m.\u001b[0m\u001b[0m_state_fp\u001b[0m\u001b[0;34m(\u001b[0m\u001b[0mnew_state\u001b[0m\u001b[0;34m)\u001b[0m\u001b[0;34m:\u001b[0m\u001b[0;34m\u001b[0m\u001b[0;34m\u001b[0m\u001b[0m\n\u001b[0m\u001b[1;32m    318\u001b[0m             \u001b[0;32mreturn\u001b[0m \u001b[0;32mFalse\u001b[0m\u001b[0;34m\u001b[0m\u001b[0;34m\u001b[0m\u001b[0m\n\u001b[1;32m    319\u001b[0m \u001b[0;34m\u001b[0m\u001b[0m\n",
      "\u001b[0;32m/home/rainorangelemon/GNN-MP/environment/maze_env.py\u001b[0m in \u001b[0;36m_state_fp\u001b[0;34m(self, state)\u001b[0m\n\u001b[1;32m    290\u001b[0m \u001b[0;34m\u001b[0m\u001b[0m\n\u001b[1;32m    291\u001b[0m         \u001b[0;32mif\u001b[0m \u001b[0mstate\u001b[0m\u001b[0;34m.\u001b[0m\u001b[0msize\u001b[0m \u001b[0;34m==\u001b[0m \u001b[0;36m2\u001b[0m\u001b[0;34m:\u001b[0m\u001b[0;34m\u001b[0m\u001b[0;34m\u001b[0m\u001b[0m\n\u001b[0;32m--> 292\u001b[0;31m             \u001b[0;32mreturn\u001b[0m \u001b[0mself\u001b[0m\u001b[0;34m.\u001b[0m\u001b[0m_point_in_free_space\u001b[0m\u001b[0;34m(\u001b[0m\u001b[0mstate\u001b[0m\u001b[0;34m)\u001b[0m\u001b[0;34m\u001b[0m\u001b[0;34m\u001b[0m\u001b[0m\n\u001b[0m\u001b[1;32m    293\u001b[0m         \u001b[0;32melif\u001b[0m \u001b[0mstate\u001b[0m\u001b[0;34m.\u001b[0m\u001b[0msize\u001b[0m \u001b[0;34m==\u001b[0m \u001b[0;36m3\u001b[0m\u001b[0;34m:\u001b[0m\u001b[0;34m\u001b[0m\u001b[0;34m\u001b[0m\u001b[0m\n\u001b[1;32m    294\u001b[0m             \u001b[0;32mreturn\u001b[0m \u001b[0mself\u001b[0m\u001b[0;34m.\u001b[0m\u001b[0m_stick_in_free_space\u001b[0m\u001b[0;34m(\u001b[0m\u001b[0mstate\u001b[0m\u001b[0;34m)\u001b[0m\u001b[0;34m\u001b[0m\u001b[0;34m\u001b[0m\u001b[0m\n",
      "\u001b[0;32m/home/rainorangelemon/GNN-MP/environment/maze_env.py\u001b[0m in \u001b[0;36m_point_in_free_space\u001b[0;34m(self, state)\u001b[0m\n\u001b[1;32m    265\u001b[0m     \u001b[0;32mdef\u001b[0m \u001b[0m_point_in_free_space\u001b[0m\u001b[0;34m(\u001b[0m\u001b[0mself\u001b[0m\u001b[0;34m,\u001b[0m \u001b[0mstate\u001b[0m\u001b[0;34m)\u001b[0m\u001b[0;34m:\u001b[0m\u001b[0;34m\u001b[0m\u001b[0;34m\u001b[0m\u001b[0m\n\u001b[1;32m    266\u001b[0m         \u001b[0;32massert\u001b[0m \u001b[0mstate\u001b[0m\u001b[0;34m.\u001b[0m\u001b[0msize\u001b[0m \u001b[0;34m==\u001b[0m \u001b[0;36m2\u001b[0m\u001b[0;34m\u001b[0m\u001b[0;34m\u001b[0m\u001b[0m\n\u001b[0;32m--> 267\u001b[0;31m         \u001b[0;32mif\u001b[0m \u001b[0;32mnot\u001b[0m \u001b[0mself\u001b[0m\u001b[0;34m.\u001b[0m\u001b[0m_valid_state\u001b[0m\u001b[0;34m(\u001b[0m\u001b[0mstate\u001b[0m\u001b[0;34m)\u001b[0m\u001b[0;34m:\u001b[0m\u001b[0;34m\u001b[0m\u001b[0;34m\u001b[0m\u001b[0m\n\u001b[0m\u001b[1;32m    268\u001b[0m             \u001b[0mself\u001b[0m\u001b[0;34m.\u001b[0m\u001b[0mcollision_point\u001b[0m \u001b[0;34m=\u001b[0m \u001b[0mstate\u001b[0m\u001b[0;34m\u001b[0m\u001b[0;34m\u001b[0m\u001b[0m\n\u001b[1;32m    269\u001b[0m             \u001b[0;32mreturn\u001b[0m \u001b[0;32mFalse\u001b[0m\u001b[0;34m\u001b[0m\u001b[0;34m\u001b[0m\u001b[0m\n",
      "\u001b[0;32m/home/rainorangelemon/GNN-MP/environment/maze_env.py\u001b[0m in \u001b[0;36m_valid_state\u001b[0;34m(self, state)\u001b[0m\n\u001b[1;32m    260\u001b[0m \u001b[0;34m\u001b[0m\u001b[0m\n\u001b[1;32m    261\u001b[0m     \u001b[0;32mdef\u001b[0m \u001b[0m_valid_state\u001b[0m\u001b[0;34m(\u001b[0m\u001b[0mself\u001b[0m\u001b[0;34m,\u001b[0m \u001b[0mstate\u001b[0m\u001b[0;34m)\u001b[0m\u001b[0;34m:\u001b[0m\u001b[0;34m\u001b[0m\u001b[0;34m\u001b[0m\u001b[0m\n\u001b[0;32m--> 262\u001b[0;31m         \u001b[0;32mreturn\u001b[0m \u001b[0;34m(\u001b[0m\u001b[0mstate\u001b[0m \u001b[0;34m>=\u001b[0m \u001b[0;34m-\u001b[0m\u001b[0mLIMITS\u001b[0m\u001b[0;34m[\u001b[0m\u001b[0;34m:\u001b[0m\u001b[0mstate\u001b[0m\u001b[0;34m.\u001b[0m\u001b[0msize\u001b[0m\u001b[0;34m]\u001b[0m\u001b[0;34m)\u001b[0m\u001b[0;34m.\u001b[0m\u001b[0mall\u001b[0m\u001b[0;34m(\u001b[0m\u001b[0;34m)\u001b[0m \u001b[0;32mand\u001b[0m\u001b[0;31m \u001b[0m\u001b[0;31m\\\u001b[0m\u001b[0;34m\u001b[0m\u001b[0;34m\u001b[0m\u001b[0m\n\u001b[0m\u001b[1;32m    263\u001b[0m                \u001b[0;34m(\u001b[0m\u001b[0mstate\u001b[0m \u001b[0;34m<=\u001b[0m \u001b[0mLIMITS\u001b[0m\u001b[0;34m[\u001b[0m\u001b[0;34m:\u001b[0m\u001b[0mstate\u001b[0m\u001b[0;34m.\u001b[0m\u001b[0msize\u001b[0m\u001b[0;34m]\u001b[0m\u001b[0;34m)\u001b[0m\u001b[0;34m.\u001b[0m\u001b[0mall\u001b[0m\u001b[0;34m(\u001b[0m\u001b[0;34m)\u001b[0m\u001b[0;34m\u001b[0m\u001b[0;34m\u001b[0m\u001b[0m\n\u001b[1;32m    264\u001b[0m \u001b[0;34m\u001b[0m\u001b[0m\n",
      "\u001b[0;32m/home/rainorangelemon/anaconda3/envs/GNN/lib/python3.6/site-packages/numpy/core/_methods.py\u001b[0m in \u001b[0;36m_all\u001b[0;34m(a, axis, dtype, out, keepdims)\u001b[0m\n\u001b[1;32m     55\u001b[0m \u001b[0;34m\u001b[0m\u001b[0m\n\u001b[1;32m     56\u001b[0m \u001b[0;32mdef\u001b[0m \u001b[0m_all\u001b[0m\u001b[0;34m(\u001b[0m\u001b[0ma\u001b[0m\u001b[0;34m,\u001b[0m \u001b[0maxis\u001b[0m\u001b[0;34m=\u001b[0m\u001b[0;32mNone\u001b[0m\u001b[0;34m,\u001b[0m \u001b[0mdtype\u001b[0m\u001b[0;34m=\u001b[0m\u001b[0;32mNone\u001b[0m\u001b[0;34m,\u001b[0m \u001b[0mout\u001b[0m\u001b[0;34m=\u001b[0m\u001b[0;32mNone\u001b[0m\u001b[0;34m,\u001b[0m \u001b[0mkeepdims\u001b[0m\u001b[0;34m=\u001b[0m\u001b[0;32mFalse\u001b[0m\u001b[0;34m)\u001b[0m\u001b[0;34m:\u001b[0m\u001b[0;34m\u001b[0m\u001b[0;34m\u001b[0m\u001b[0m\n\u001b[0;32m---> 57\u001b[0;31m     \u001b[0;32mreturn\u001b[0m \u001b[0mumr_all\u001b[0m\u001b[0;34m(\u001b[0m\u001b[0ma\u001b[0m\u001b[0;34m,\u001b[0m \u001b[0maxis\u001b[0m\u001b[0;34m,\u001b[0m \u001b[0mdtype\u001b[0m\u001b[0;34m,\u001b[0m \u001b[0mout\u001b[0m\u001b[0;34m,\u001b[0m \u001b[0mkeepdims\u001b[0m\u001b[0;34m)\u001b[0m\u001b[0;34m\u001b[0m\u001b[0;34m\u001b[0m\u001b[0m\n\u001b[0m\u001b[1;32m     58\u001b[0m \u001b[0;34m\u001b[0m\u001b[0m\n\u001b[1;32m     59\u001b[0m \u001b[0;32mdef\u001b[0m \u001b[0m_count_reduce_items\u001b[0m\u001b[0;34m(\u001b[0m\u001b[0marr\u001b[0m\u001b[0;34m,\u001b[0m \u001b[0maxis\u001b[0m\u001b[0;34m)\u001b[0m\u001b[0;34m:\u001b[0m\u001b[0;34m\u001b[0m\u001b[0;34m\u001b[0m\u001b[0m\n",
      "\u001b[0;31mKeyboardInterrupt\u001b[0m: "
     ]
    }
   ],
   "source": [
    "import pickle\n",
    "from importlib import reload\n",
    "import eval_gnn\n",
    "reload(eval_gnn)\n",
    "from eval_gnn import eval_gnn, eval_gnn_pure\n",
    "from eval_next import eval_next\n",
    "from eval_bit import eval_bit\n",
    "from eval_rrt import eval_rrt\n",
    "import numpy as np\n",
    "from environment import UR5Env, Kuka2Env, SnakeEnv, MazeEnv, KukaEnv\n",
    "from str2env import str2env\n",
    "from str2name import str2name\n",
    "import warnings\n",
    "warnings.filterwarnings('ignore')\n",
    "indexes = np.arange(2000, 3000)\n",
    "try:\n",
    "    if result_total is None:\n",
    "        result_total = {}\n",
    "except:\n",
    "    result_total = {}\n",
    "    \n",
    "methods = [('GNN', eval_gnn), ('BIT*', eval_bit)]\n",
    "seeds = [1234]\n",
    "\n",
    "\n",
    "for name, eval_method in methods:\n",
    "\n",
    "    for problem in ['maze2easy', 'maze2hard', 'snake7', 'ur5', 'kuka7', 'kuka13', 'kuka14']:\n",
    "\n",
    "        env, indexes = str2env(problem)\n",
    "        for seed in seeds:\n",
    "            if (problem, name, str(seed)) in result_total:\n",
    "                continue\n",
    "            print(problem, name, seed)\n",
    "            result = eval_method(str(env), seed, env, indexes, use_tqdm=True, batch=100)\n",
    "            result_total[problem, name, str(seed)] = result\n",
    "\n",
    "        results = [result_total[problem, name, str(seed)] for seed in seeds]\n",
    "        print(problem, name, 'Avg')\n",
    "        print('success rate:', np.mean([result[0] for result in results]))\n",
    "        print('collision check: %.2f' % np.mean([result[1] for result in results]))\n",
    "        print('running time: %.2f' % np.mean([result[2] for result in results]))\n",
    "        print('path cost: %.2f' % np.mean([result[3] for result in results]))\n",
    "        print('total time: %.2f' % np.mean([result[4] for result in results]))\n",
    "        print('')\n",
    "        result_total[problem, name, 'Avg'] = tuple([np.mean([result[i] for result in results]) for i in range(5)])\n",
    "        results = []\n",
    "\n",
    "#         pickle.dump(result_total, open(\"data/new_env.p\", \"wb\"))"
   ]
  },
  {
   "cell_type": "code",
   "execution_count": 1,
   "metadata": {
    "scrolled": true,
    "tags": []
   },
   "outputs": [
    {
     "name": "stdout",
     "output_type": "stream",
     "text": [
      "maze2easy GNN 1234\n"
     ]
    },
    {
     "name": "stderr",
     "output_type": "stream",
     "text": [
      "gnn 0.01s, search 0.06s, explored 9:  11%|█▏        | 114/1000 [00:06<00:48, 18.13it/s] \n"
     ]
    },
    {
     "ename": "KeyboardInterrupt",
     "evalue": "",
     "output_type": "error",
     "traceback": [
      "\u001b[0;31m---------------------------------------------------------------------------\u001b[0m",
      "\u001b[0;31mKeyboardInterrupt\u001b[0m                         Traceback (most recent call last)",
      "\u001b[0;32m<ipython-input-1-af4a73b96a78>\u001b[0m in \u001b[0;36m<module>\u001b[0;34m()\u001b[0m\n\u001b[1;32m     33\u001b[0m                 \u001b[0;32mcontinue\u001b[0m\u001b[0;34m\u001b[0m\u001b[0;34m\u001b[0m\u001b[0m\n\u001b[1;32m     34\u001b[0m             \u001b[0mprint\u001b[0m\u001b[0;34m(\u001b[0m\u001b[0mproblem\u001b[0m\u001b[0;34m,\u001b[0m \u001b[0mname\u001b[0m\u001b[0;34m,\u001b[0m \u001b[0mseed\u001b[0m\u001b[0;34m)\u001b[0m\u001b[0;34m\u001b[0m\u001b[0;34m\u001b[0m\u001b[0m\n\u001b[0;32m---> 35\u001b[0;31m             \u001b[0mresult\u001b[0m \u001b[0;34m=\u001b[0m \u001b[0meval_method\u001b[0m\u001b[0;34m(\u001b[0m\u001b[0mstr\u001b[0m\u001b[0;34m(\u001b[0m\u001b[0menv\u001b[0m\u001b[0;34m)\u001b[0m\u001b[0;34m,\u001b[0m \u001b[0mseed\u001b[0m\u001b[0;34m,\u001b[0m \u001b[0menv\u001b[0m\u001b[0;34m,\u001b[0m \u001b[0mindexes\u001b[0m\u001b[0;34m,\u001b[0m \u001b[0muse_tqdm\u001b[0m\u001b[0;34m=\u001b[0m\u001b[0;32mTrue\u001b[0m\u001b[0;34m,\u001b[0m \u001b[0mbatch\u001b[0m\u001b[0;34m=\u001b[0m\u001b[0;36m100\u001b[0m\u001b[0;34m,\u001b[0m \u001b[0mk\u001b[0m\u001b[0;34m=\u001b[0m\u001b[0;36m10\u001b[0m\u001b[0;34m)\u001b[0m\u001b[0;34m\u001b[0m\u001b[0;34m\u001b[0m\u001b[0m\n\u001b[0m\u001b[1;32m     36\u001b[0m             \u001b[0mresult_total\u001b[0m\u001b[0;34m[\u001b[0m\u001b[0mproblem\u001b[0m\u001b[0;34m,\u001b[0m \u001b[0mname\u001b[0m\u001b[0;34m,\u001b[0m \u001b[0mstr\u001b[0m\u001b[0;34m(\u001b[0m\u001b[0mseed\u001b[0m\u001b[0;34m)\u001b[0m\u001b[0;34m]\u001b[0m \u001b[0;34m=\u001b[0m \u001b[0mresult\u001b[0m\u001b[0;34m\u001b[0m\u001b[0;34m\u001b[0m\u001b[0m\n\u001b[1;32m     37\u001b[0m \u001b[0;34m\u001b[0m\u001b[0m\n",
      "\u001b[0;32m/home/rainorangelemon/GNN-MP/eval_gnn.py\u001b[0m in \u001b[0;36meval_gnn\u001b[0;34m(str, seed, env, indexes, model, model_s, use_tqdm, smooth, batch, t_max, k, **kwargs)\u001b[0m\n\u001b[1;32m    110\u001b[0m \u001b[0;34m\u001b[0m\u001b[0m\n\u001b[1;32m    111\u001b[0m         \u001b[0menv\u001b[0m\u001b[0;34m.\u001b[0m\u001b[0minit_new_problem\u001b[0m\u001b[0;34m(\u001b[0m\u001b[0mindex\u001b[0m\u001b[0;34m)\u001b[0m\u001b[0;34m\u001b[0m\u001b[0;34m\u001b[0m\u001b[0m\n\u001b[0;32m--> 112\u001b[0;31m         \u001b[0mresult\u001b[0m \u001b[0;34m=\u001b[0m \u001b[0mexplore\u001b[0m\u001b[0;34m(\u001b[0m\u001b[0menv\u001b[0m\u001b[0;34m,\u001b[0m \u001b[0mmodel\u001b[0m\u001b[0;34m,\u001b[0m \u001b[0mmodel_s\u001b[0m\u001b[0;34m,\u001b[0m \u001b[0msmooth\u001b[0m\u001b[0;34m,\u001b[0m \u001b[0mbatch\u001b[0m\u001b[0;34m=\u001b[0m\u001b[0mbatch\u001b[0m\u001b[0;34m,\u001b[0m \u001b[0mt_max\u001b[0m\u001b[0;34m=\u001b[0m\u001b[0mt_max\u001b[0m\u001b[0;34m,\u001b[0m \u001b[0mk\u001b[0m\u001b[0;34m=\u001b[0m\u001b[0mk\u001b[0m\u001b[0;34m,\u001b[0m \u001b[0;34m**\u001b[0m\u001b[0mkwargs\u001b[0m\u001b[0;34m)\u001b[0m\u001b[0;34m\u001b[0m\u001b[0;34m\u001b[0m\u001b[0m\n\u001b[0m\u001b[1;32m    113\u001b[0m \u001b[0;34m\u001b[0m\u001b[0m\n\u001b[1;32m    114\u001b[0m         \u001b[0mpaths\u001b[0m\u001b[0;34m.\u001b[0m\u001b[0mappend\u001b[0m\u001b[0;34m(\u001b[0m\u001b[0mresult\u001b[0m\u001b[0;34m[\u001b[0m\u001b[0;34m'path'\u001b[0m\u001b[0;34m]\u001b[0m\u001b[0;34m)\u001b[0m\u001b[0;34m\u001b[0m\u001b[0;34m\u001b[0m\u001b[0m\n",
      "\u001b[0;32m/home/rainorangelemon/anaconda3/envs/GNN/lib/python3.6/site-packages/torch/autograd/grad_mode.py\u001b[0m in \u001b[0;36mdecorate_context\u001b[0;34m(*args, **kwargs)\u001b[0m\n\u001b[1;32m     25\u001b[0m         \u001b[0;32mdef\u001b[0m \u001b[0mdecorate_context\u001b[0m\u001b[0;34m(\u001b[0m\u001b[0;34m*\u001b[0m\u001b[0margs\u001b[0m\u001b[0;34m,\u001b[0m \u001b[0;34m**\u001b[0m\u001b[0mkwargs\u001b[0m\u001b[0;34m)\u001b[0m\u001b[0;34m:\u001b[0m\u001b[0;34m\u001b[0m\u001b[0;34m\u001b[0m\u001b[0m\n\u001b[1;32m     26\u001b[0m             \u001b[0;32mwith\u001b[0m \u001b[0mself\u001b[0m\u001b[0;34m.\u001b[0m\u001b[0m__class__\u001b[0m\u001b[0;34m(\u001b[0m\u001b[0;34m)\u001b[0m\u001b[0;34m:\u001b[0m\u001b[0;34m\u001b[0m\u001b[0;34m\u001b[0m\u001b[0m\n\u001b[0;32m---> 27\u001b[0;31m                 \u001b[0;32mreturn\u001b[0m \u001b[0mfunc\u001b[0m\u001b[0;34m(\u001b[0m\u001b[0;34m*\u001b[0m\u001b[0margs\u001b[0m\u001b[0;34m,\u001b[0m \u001b[0;34m**\u001b[0m\u001b[0mkwargs\u001b[0m\u001b[0;34m)\u001b[0m\u001b[0;34m\u001b[0m\u001b[0;34m\u001b[0m\u001b[0m\n\u001b[0m\u001b[1;32m     28\u001b[0m         \u001b[0;32mreturn\u001b[0m \u001b[0mcast\u001b[0m\u001b[0;34m(\u001b[0m\u001b[0mF\u001b[0m\u001b[0;34m,\u001b[0m \u001b[0mdecorate_context\u001b[0m\u001b[0;34m)\u001b[0m\u001b[0;34m\u001b[0m\u001b[0;34m\u001b[0m\u001b[0m\n\u001b[1;32m     29\u001b[0m \u001b[0;34m\u001b[0m\u001b[0m\n",
      "\u001b[0;32m/home/rainorangelemon/GNN-MP/eval_gnn.py\u001b[0m in \u001b[0;36mexplore\u001b[0;34m(env, model, model_s, smooth, batch, t_max, k, smoother)\u001b[0m\n\u001b[1;32m    247\u001b[0m         \u001b[0mpath\u001b[0m \u001b[0;34m=\u001b[0m \u001b[0mlist\u001b[0m\u001b[0;34m(\u001b[0m\u001b[0mdata\u001b[0m\u001b[0;34m.\u001b[0m\u001b[0mv\u001b[0m\u001b[0;34m[\u001b[0m\u001b[0mpath\u001b[0m\u001b[0;34m]\u001b[0m\u001b[0;34m.\u001b[0m\u001b[0mdata\u001b[0m\u001b[0;34m.\u001b[0m\u001b[0mcpu\u001b[0m\u001b[0;34m(\u001b[0m\u001b[0;34m)\u001b[0m\u001b[0;34m.\u001b[0m\u001b[0mnumpy\u001b[0m\u001b[0;34m(\u001b[0m\u001b[0;34m)\u001b[0m\u001b[0;34m)\u001b[0m\u001b[0;34m\u001b[0m\u001b[0;34m\u001b[0m\u001b[0m\n\u001b[1;32m    248\u001b[0m         \u001b[0;32mif\u001b[0m \u001b[0msmoother\u001b[0m \u001b[0;34m==\u001b[0m \u001b[0;34m'model'\u001b[0m\u001b[0;34m:\u001b[0m\u001b[0;34m\u001b[0m\u001b[0;34m\u001b[0m\u001b[0m\n\u001b[0;32m--> 249\u001b[0;31m             \u001b[0msmooth_path\u001b[0m \u001b[0;34m=\u001b[0m \u001b[0mmodel_smooth\u001b[0m\u001b[0;34m(\u001b[0m\u001b[0mmodel_s\u001b[0m\u001b[0;34m,\u001b[0m \u001b[0mfree\u001b[0m\u001b[0;34m,\u001b[0m \u001b[0mcollided\u001b[0m\u001b[0;34m,\u001b[0m \u001b[0mpath\u001b[0m\u001b[0;34m,\u001b[0m \u001b[0menv\u001b[0m\u001b[0;34m)\u001b[0m\u001b[0;34m\u001b[0m\u001b[0;34m\u001b[0m\u001b[0m\n\u001b[0m\u001b[1;32m    250\u001b[0m         \u001b[0;32melif\u001b[0m \u001b[0msmoother\u001b[0m \u001b[0;34m==\u001b[0m \u001b[0;34m'oracle'\u001b[0m\u001b[0;34m:\u001b[0m\u001b[0;34m\u001b[0m\u001b[0;34m\u001b[0m\u001b[0m\n\u001b[1;32m    251\u001b[0m             \u001b[0msmooth_path\u001b[0m \u001b[0;34m=\u001b[0m \u001b[0mjoint_smoother\u001b[0m\u001b[0;34m(\u001b[0m\u001b[0mpath\u001b[0m\u001b[0;34m,\u001b[0m \u001b[0menv\u001b[0m\u001b[0;34m,\u001b[0m \u001b[0miter\u001b[0m\u001b[0;34m=\u001b[0m\u001b[0;36m5\u001b[0m\u001b[0;34m)\u001b[0m\u001b[0;34m\u001b[0m\u001b[0;34m\u001b[0m\u001b[0m\n",
      "\u001b[0;32m/home/rainorangelemon/GNN-MP/smoother.py\u001b[0m in \u001b[0;36mmodel_smooth\u001b[0;34m(model, free, collided, old_path, env, iter)\u001b[0m\n\u001b[1;32m    241\u001b[0m \u001b[0;34m\u001b[0m\u001b[0m\n\u001b[1;32m    242\u001b[0m         \u001b[0mnew_path\u001b[0m \u001b[0;34m=\u001b[0m \u001b[0mmodel\u001b[0m\u001b[0;34m(\u001b[0m\u001b[0;34m**\u001b[0m\u001b[0mdata\u001b[0m\u001b[0;34m,\u001b[0m \u001b[0mloop\u001b[0m\u001b[0;34m=\u001b[0m\u001b[0;36m1\u001b[0m\u001b[0;34m)\u001b[0m\u001b[0;34m.\u001b[0m\u001b[0mdata\u001b[0m\u001b[0;34m.\u001b[0m\u001b[0mcpu\u001b[0m\u001b[0;34m(\u001b[0m\u001b[0;34m)\u001b[0m\u001b[0;34m.\u001b[0m\u001b[0mnumpy\u001b[0m\u001b[0;34m(\u001b[0m\u001b[0;34m)\u001b[0m\u001b[0;34m\u001b[0m\u001b[0;34m\u001b[0m\u001b[0m\n\u001b[0;32m--> 243\u001b[0;31m         \u001b[0mold_path\u001b[0m \u001b[0;34m=\u001b[0m \u001b[0mproposed_path_smootherv2\u001b[0m\u001b[0;34m(\u001b[0m\u001b[0mold_path\u001b[0m\u001b[0;34m,\u001b[0m \u001b[0mnew_path\u001b[0m\u001b[0;34m,\u001b[0m \u001b[0menv\u001b[0m\u001b[0;34m)\u001b[0m\u001b[0;34m\u001b[0m\u001b[0;34m\u001b[0m\u001b[0m\n\u001b[0m\u001b[1;32m    244\u001b[0m \u001b[0;34m\u001b[0m\u001b[0m\n\u001b[1;32m    245\u001b[0m     \u001b[0;32mreturn\u001b[0m \u001b[0mold_path\u001b[0m\u001b[0;34m\u001b[0m\u001b[0;34m\u001b[0m\u001b[0m\n",
      "\u001b[0;32m/home/rainorangelemon/GNN-MP/smoother.py\u001b[0m in \u001b[0;36mproposed_path_smootherv2\u001b[0;34m(old_path, new_path, env)\u001b[0m\n\u001b[1;32m    201\u001b[0m             \u001b[0mi\u001b[0m \u001b[0;34m=\u001b[0m \u001b[0mi\u001b[0m\u001b[0;34m+\u001b[0m\u001b[0;36m1\u001b[0m\u001b[0;34m\u001b[0m\u001b[0;34m\u001b[0m\u001b[0m\n\u001b[1;32m    202\u001b[0m             \u001b[0mold_n\u001b[0m\u001b[0;34m,\u001b[0m \u001b[0mnew_n\u001b[0m \u001b[0;34m=\u001b[0m \u001b[0mns\u001b[0m\u001b[0;34m\u001b[0m\u001b[0;34m\u001b[0m\u001b[0m\n\u001b[0;32m--> 203\u001b[0;31m             \u001b[0mdist\u001b[0m \u001b[0;34m=\u001b[0m \u001b[0mnp\u001b[0m\u001b[0;34m.\u001b[0m\u001b[0mlinalg\u001b[0m\u001b[0;34m.\u001b[0m\u001b[0mnorm\u001b[0m\u001b[0;34m(\u001b[0m\u001b[0mold_n\u001b[0m \u001b[0;34m-\u001b[0m \u001b[0mnew_n\u001b[0m\u001b[0;34m)\u001b[0m\u001b[0;34m\u001b[0m\u001b[0;34m\u001b[0m\u001b[0m\n\u001b[0m\u001b[1;32m    204\u001b[0m             \u001b[0;32mif\u001b[0m \u001b[0mdist\u001b[0m \u001b[0;34m<\u001b[0m \u001b[0menv\u001b[0m\u001b[0;34m.\u001b[0m\u001b[0mRRT_EPS\u001b[0m\u001b[0;34m:\u001b[0m\u001b[0;34m\u001b[0m\u001b[0;34m\u001b[0m\u001b[0m\n\u001b[1;32m    205\u001b[0m                 \u001b[0mnext_path\u001b[0m\u001b[0;34m[\u001b[0m\u001b[0mi\u001b[0m\u001b[0;34m]\u001b[0m \u001b[0;34m=\u001b[0m \u001b[0mnew_n\u001b[0m\u001b[0;34m\u001b[0m\u001b[0;34m\u001b[0m\u001b[0m\n",
      "\u001b[0;32m<__array_function__ internals>\u001b[0m in \u001b[0;36mnorm\u001b[0;34m(*args, **kwargs)\u001b[0m\n",
      "\u001b[0;32m/home/rainorangelemon/anaconda3/envs/GNN/lib/python3.6/site-packages/numpy/linalg/linalg.py\u001b[0m in \u001b[0;36mnorm\u001b[0;34m(x, ord, axis, keepdims)\u001b[0m\n\u001b[1;32m   2529\u001b[0m             \u001b[0;32melse\u001b[0m\u001b[0;34m:\u001b[0m\u001b[0;34m\u001b[0m\u001b[0;34m\u001b[0m\u001b[0m\n\u001b[1;32m   2530\u001b[0m                 \u001b[0msqnorm\u001b[0m \u001b[0;34m=\u001b[0m \u001b[0mdot\u001b[0m\u001b[0;34m(\u001b[0m\u001b[0mx\u001b[0m\u001b[0;34m,\u001b[0m \u001b[0mx\u001b[0m\u001b[0;34m)\u001b[0m\u001b[0;34m\u001b[0m\u001b[0;34m\u001b[0m\u001b[0m\n\u001b[0;32m-> 2531\u001b[0;31m             \u001b[0mret\u001b[0m \u001b[0;34m=\u001b[0m \u001b[0msqrt\u001b[0m\u001b[0;34m(\u001b[0m\u001b[0msqnorm\u001b[0m\u001b[0;34m)\u001b[0m\u001b[0;34m\u001b[0m\u001b[0;34m\u001b[0m\u001b[0m\n\u001b[0m\u001b[1;32m   2532\u001b[0m             \u001b[0;32mif\u001b[0m \u001b[0mkeepdims\u001b[0m\u001b[0;34m:\u001b[0m\u001b[0;34m\u001b[0m\u001b[0;34m\u001b[0m\u001b[0m\n\u001b[1;32m   2533\u001b[0m                 \u001b[0mret\u001b[0m \u001b[0;34m=\u001b[0m \u001b[0mret\u001b[0m\u001b[0;34m.\u001b[0m\u001b[0mreshape\u001b[0m\u001b[0;34m(\u001b[0m\u001b[0mndim\u001b[0m\u001b[0;34m*\u001b[0m\u001b[0;34m[\u001b[0m\u001b[0;36m1\u001b[0m\u001b[0;34m]\u001b[0m\u001b[0;34m)\u001b[0m\u001b[0;34m\u001b[0m\u001b[0;34m\u001b[0m\u001b[0m\n",
      "\u001b[0;31mKeyboardInterrupt\u001b[0m: "
     ]
    }
   ],
   "source": [
    "import pickle\n",
    "from importlib import reload\n",
    "import eval_gnn\n",
    "reload(eval_gnn)\n",
    "from eval_gnn import eval_gnn, eval_gnn_pure\n",
    "from eval_next import eval_next\n",
    "from eval_bit import eval_bit\n",
    "from eval_rrt import eval_rrt\n",
    "import numpy as np\n",
    "from environment import UR5Env, Kuka2Env, SnakeEnv, MazeEnv, KukaEnv\n",
    "from str2env import str2env\n",
    "from str2name import str2name\n",
    "import warnings\n",
    "warnings.filterwarnings('ignore')\n",
    "indexes = np.arange(2000, 3000)\n",
    "try:\n",
    "    if result_total is None:\n",
    "        result_total = {}\n",
    "except:\n",
    "    result_total = {}\n",
    "    \n",
    "methods = [('GNN', eval_gnn), ('GNN_pure', eval_gnn_pure)]\n",
    "seeds = [1234, 2341, 3412, 4123]\n",
    "\n",
    "\n",
    "for name, eval_method in methods:\n",
    "\n",
    "    for problem in ['maze2easy', 'maze2hard', 'snake7', 'ur5', 'kuka7', 'kuka13', 'kuka14']:\n",
    "\n",
    "        env, indexes = str2env(problem)\n",
    "        for seed in seeds:\n",
    "            if (problem, name, str(seed)) in result_total:\n",
    "                continue\n",
    "            print(problem, name, seed)\n",
    "            result = eval_method(str(env), seed, env, indexes, use_tqdm=True, batch=100, k=10)\n",
    "            result_total[problem, name, str(seed)] = result\n",
    "\n",
    "        results = [result_total[problem, name, str(seed)] for seed in seeds]\n",
    "        print(problem, name, 'Avg')\n",
    "        print('success rate:', np.mean([result[0] for result in results]))\n",
    "        print('collision check: %.2f' % np.mean([result[1] for result in results]))\n",
    "        print('running time: %.2f' % np.mean([result[2] for result in results]))\n",
    "        print('path cost: %.2f' % np.mean([result[3] for result in results]))\n",
    "        print('total time: %.2f' % np.mean([result[4] for result in results]))\n",
    "        print('')\n",
    "        result_total[problem, name, 'Avg'] = tuple([np.mean([result[i] for result in results]) for i in range(5)])\n",
    "        results = []\n",
    "\n",
    "#         pickle.dump(result_total, open(\"data/gnn_new_env.p\", \"wb\"))"
   ]
  },
  {
   "cell_type": "code",
   "execution_count": null,
   "metadata": {},
   "outputs": [],
   "source": [
    "another_r = {}\n",
    "for key, value in result_total.items():\n",
    "    another_r[key[0], 'Oracle'] = value"
   ]
  },
  {
   "cell_type": "code",
   "execution_count": null,
   "metadata": {},
   "outputs": [],
   "source": [
    "pickle.dump(another_r, open(\"data/oracle_test.p\", \"wb\"))"
   ]
  },
  {
   "cell_type": "code",
   "execution_count": null,
   "metadata": {},
   "outputs": [],
   "source": [
    "!python maze_prm.py"
   ]
  },
  {
   "cell_type": "code",
   "execution_count": null,
   "metadata": {},
   "outputs": [],
   "source": [
    "pickle.dump(result_total, open(\"data/new_smoother.p\", \"wb\"))"
   ]
  },
  {
   "cell_type": "code",
   "execution_count": null,
   "metadata": {},
   "outputs": [],
   "source": [
    "%debug"
   ]
  },
  {
   "cell_type": "code",
   "execution_count": null,
   "metadata": {},
   "outputs": [],
   "source": [
    "result_total.keys()"
   ]
  },
  {
   "cell_type": "code",
   "execution_count": null,
   "metadata": {},
   "outputs": [],
   "source": [
    "pickle.dump(result_total, open(\"data/kuka14.p\", \"wb\"))"
   ]
  },
  {
   "cell_type": "code",
   "execution_count": null,
   "metadata": {},
   "outputs": [],
   "source": [
    "with open(\"data/kuka14.p\", \"rb\") as f:\n",
    "    result_total = pickle.load(f)"
   ]
  },
  {
   "cell_type": "code",
   "execution_count": null,
   "metadata": {},
   "outputs": [],
   "source": [
    "%debug"
   ]
  },
  {
   "cell_type": "code",
   "execution_count": null,
   "metadata": {},
   "outputs": [],
   "source": [
    "from eval_gnn import path_cost\n",
    "save = [path_cost(p1)-path_cost(p2) for p1, p2 in zip(result_total['kuka14', 'GNN', '1234'][-2], result_total['kuka14', 'GNN', '1234'][-1])]"
   ]
  },
  {
   "cell_type": "code",
   "execution_count": null,
   "metadata": {},
   "outputs": [],
   "source": [
    "from eval_gnn import path_cost\n",
    "save2 = [path_cost(r[1])-path_cost(r[2]) for r in replay]"
   ]
  },
  {
   "cell_type": "code",
   "execution_count": null,
   "metadata": {},
   "outputs": [],
   "source": [
    "np.mean(save2)"
   ]
  },
  {
   "cell_type": "code",
   "execution_count": null,
   "metadata": {},
   "outputs": [],
   "source": [
    "np.mean(save)"
   ]
  },
  {
   "cell_type": "code",
   "execution_count": null,
   "metadata": {},
   "outputs": [],
   "source": [
    "bad_prob = np.array(save)==0"
   ]
  },
  {
   "cell_type": "code",
   "execution_count": null,
   "metadata": {},
   "outputs": [],
   "source": [
    "azhe = np.logical_and(np.array([len(p1) for p1 in result_total['kuka14', 'GNN', '1234'][-2]])>=4, bad_prob)"
   ]
  },
  {
   "cell_type": "code",
   "execution_count": null,
   "metadata": {},
   "outputs": [],
   "source": [
    "np.mean(np.array([path_cost(p1)-path_cost(p2) for p1, p2 in zip(result_total['kuka14', 'GNN', '1234'][-1],  result_total['kuka14', 'BIT*', '1234'][-1])])[azhe])"
   ]
  },
  {
   "cell_type": "code",
   "execution_count": null,
   "metadata": {},
   "outputs": [],
   "source": [
    "len(np.where(np.array(save)==0)[0])"
   ]
  },
  {
   "cell_type": "code",
   "execution_count": null,
   "metadata": {},
   "outputs": [],
   "source": [
    "fail = [len(p2)==0 for p2 in result_total['kuka14', 'GNN_pure', '4123'][-1]]"
   ]
  },
  {
   "cell_type": "code",
   "execution_count": null,
   "metadata": {},
   "outputs": [],
   "source": [
    "pickle.dump(result_total, open(\"data/kuka14.p\", \"wb\"))"
   ]
  },
  {
   "cell_type": "code",
   "execution_count": null,
   "metadata": {},
   "outputs": [],
   "source": [
    "import pickle\n",
    "pickle.dump(result_total, open(\"data/snake_gnn_bit_rrt.p\", \"wb\"))"
   ]
  },
  {
   "cell_type": "markdown",
   "metadata": {},
   "source": [
    "## Train NEXT"
   ]
  },
  {
   "cell_type": "code",
   "execution_count": null,
   "metadata": {},
   "outputs": [],
   "source": [
    "!python train_next.py"
   ]
  },
  {
   "cell_type": "code",
   "execution_count": null,
   "metadata": {},
   "outputs": [],
   "source": [
    "str(env)"
   ]
  },
  {
   "cell_type": "code",
   "execution_count": null,
   "metadata": {},
   "outputs": [],
   "source": [
    "result_total = pickle.load(open('data/new_next.p', 'rb'))"
   ]
  },
  {
   "cell_type": "code",
   "execution_count": null,
   "metadata": {
    "scrolled": true,
    "tags": []
   },
   "outputs": [],
   "source": [
    "from eval_next import eval_next\n",
    "from str2name import str2name\n",
    "from str2env import str2env\n",
    "import numpy as np\n",
    "import pickle\n",
    "import warnings\n",
    "warnings.filterwarnings('ignore')\n",
    "try:\n",
    "    if result_total is None:\n",
    "        result_total = {}\n",
    "except:\n",
    "    result_total = {}\n",
    "\n",
    "for str_ in ['maze2easy', 'maze2hard', 'snake7', 'ur5', 'kuka7', 'kuka13', 'kuka14']:\n",
    "\n",
    "    env, indexes = str2env(str_)\n",
    "    for seed in [1234, 2341, 3412, 4123]:\n",
    "        if (str_, 'NEXT', str(seed)) in result_total:\n",
    "            continue\n",
    "        print(str_, 'NEXT', seed)\n",
    "        result = eval_next(str(env), seed, env, indexes, use_tqdm=True)\n",
    "        result_total[str_, 'NEXT', str(seed)] = result\n",
    "\n",
    "    results = [result_total[str_, 'NEXT', str(seed)] for seed in [1234, 2341, 3412, 4123]]\n",
    "    print(str_, 'NEXT', 'Avg')\n",
    "    print('success rate:', np.mean([result[0] for result in results]))\n",
    "    print('collision check: %.2f' % np.mean([result[1] for result in results]))\n",
    "    print('running time: %.2f' % np.mean([result[2] for result in results]))\n",
    "    print('path cost: %.2f' % np.mean([result[3] for result in results]))\n",
    "    print('total time: %.2f' % np.mean([result[4] for result in results]))\n",
    "    print('')\n",
    "    result_total[str_, 'NEXT', 'Avg'] = tuple([np.mean([result[i] for result in results]) for i in range(5)])\n",
    "    results = []\n",
    "\n",
    "    pickle.dump(result_total, open(\"data/new_next.p\", \"wb\"))"
   ]
  },
  {
   "cell_type": "code",
   "execution_count": null,
   "metadata": {
    "scrolled": true,
    "tags": []
   },
   "outputs": [],
   "source": [
    "from eval_next import eval_next\n",
    "from str2name import str2name\n",
    "from str2env import str2env\n",
    "import numpy as np\n",
    "import pickle\n",
    "import warnings\n",
    "warnings.filterwarnings('ignore')\n",
    "try:\n",
    "    if result_total is None:\n",
    "        result_total = {}\n",
    "except:\n",
    "    result_total = {}\n",
    "\n",
    "seeds = [1234]\n",
    "    \n",
    "for str_ in ['maze2easy', 'maze2hard']:\n",
    "\n",
    "    env, indexes = str2env(str_)\n",
    "    for seed in seeds:\n",
    "        if (str_, 'NEXT', str(seed)) in result_total:\n",
    "            continue\n",
    "        print(str_, 'NEXT', seed)\n",
    "        result = eval_next(str(env), seed, env, indexes, use_tqdm=True, t_max=1000)\n",
    "        result_total[str_, 'NEXT', str(seed)] = result\n",
    "\n",
    "    results = [result_total[str_, 'NEXT', str(seed)] for seed in seeds]\n",
    "    print(str_, 'NEXT', 'Avg')\n",
    "    print('success rate:', np.mean([result[0] for result in results]))\n",
    "    print('collision check: %.2f' % np.mean([result[1] for result in results]))\n",
    "    print('running time: %.2f' % np.mean([result[2] for result in results]))\n",
    "    print('path cost: %.2f' % np.mean([result[3] for result in results]))\n",
    "    print('total time: %.2f' % np.mean([result[4] for result in results]))\n",
    "    print('')\n",
    "    result_total[str_, 'NEXT', 'Avg'] = tuple([np.mean([result[i] for result in results]) for i in range(5)])\n",
    "    results = []"
   ]
  },
  {
   "cell_type": "code",
   "execution_count": null,
   "metadata": {},
   "outputs": [],
   "source": [
    "from eval_gnn import path_cost\n",
    "costs = []\n",
    "for i, p in enumerate(result[-1]):\n",
    "    c = path_cost(p)\n",
    "    costs.append(c)"
   ]
  },
  {
   "cell_type": "code",
   "execution_count": null,
   "metadata": {},
   "outputs": [],
   "source": [
    "np.argmax(costs)"
   ]
  },
  {
   "cell_type": "code",
   "execution_count": null,
   "metadata": {},
   "outputs": [],
   "source": [
    "result_total.keys()"
   ]
  },
  {
   "cell_type": "code",
   "execution_count": null,
   "metadata": {
    "scrolled": true,
    "tags": []
   },
   "outputs": [],
   "source": [
    "!python train_no_obstacle.py"
   ]
  },
  {
   "cell_type": "code",
   "execution_count": null,
   "metadata": {},
   "outputs": [],
   "source": [
    "e = pickle.load(open(\"data/pure.p\", \"rb\"))"
   ]
  },
  {
   "cell_type": "code",
   "execution_count": null,
   "metadata": {},
   "outputs": [],
   "source": [
    "for k, v in list(e.items()):\n",
    "    e[k[0], k[1], str(k[2])] = v\n",
    "    del e[k]"
   ]
  },
  {
   "cell_type": "code",
   "execution_count": null,
   "metadata": {},
   "outputs": [],
   "source": [
    "result_total = e"
   ]
  },
  {
   "cell_type": "code",
   "execution_count": null,
   "metadata": {
    "tags": []
   },
   "outputs": [],
   "source": [
    "env_names = ['Kuka_13D', 'Kuka_14D']\n",
    "envs = [\n",
    "    KukaEnv(kuka_file=\"kuka_iiwa/model_3.urdf\", map_file=\"maze_files/kukas_13_3000.pkl\"),\n",
    "    Kuka2Env(),\n",
    "    ]\n",
    "indexeses = [np.arange(2000, 3000), np.arange(2000, 3000)]\n",
    "seeds = [1234, 2341, 3412, 4123]\n",
    "methods = [eval_gnn]\n",
    "method_names = ['GNN_pure']\n",
    "result_total = {}\n",
    "\n",
    "\n",
    "for env_name, env, indexes in zip(env_names, envs, indexeses):\n",
    "    for seed in seeds:\n",
    "        results = []\n",
    "\n",
    "        print(env_name, 'GNN_pure', seed)\n",
    "        env, model_explore, model_explore_path, model_smooth, model_smooth_path = str2name(env.__str__(), get_data=False, use_obstacle=False)\n",
    "        model_explore.load_state_dict(torch.load(model_explore_path, map_location=torch.device(\"cpu\")))\n",
    "        model_smooth.load_state_dict(torch.load(model_smooth_path, map_location=torch.device(\"cpu\")))\n",
    "        result = eval_gnn(env.__str__(), seed, env, indexes, model=model_explore, model_s=model_smooth, use_tqdm=True)\n",
    "        results.append(result)\n",
    "        result_total[env_name, 'GNN_pure', str(seed)] = result\n",
    "        pickle.dump(result_total, open(\"data/pure.p\", \"wb\"))\n",
    "\n",
    "    print(env_name, 'GNN_pure', 'Avg')\n",
    "    print('success rate:', np.mean([result[0] for result in results]))\n",
    "    print('collision check: %.2f' % np.mean([result[1] for result in results]))\n",
    "    print('running time: %.2f' % np.mean([result[2] for result in results]))\n",
    "    print('path cost: %.2f' % np.mean([result[3] for result in results]))\n",
    "    print('total time: %.2f' % np.mean([result[4] for result in results]))\n",
    "    print('')\n",
    "    result_total[env_name, 'GNN_pure', 'Avg'] = tuple([np.mean([result[i] for result in results]) for i in range(5)])"
   ]
  },
  {
   "cell_type": "code",
   "execution_count": null,
   "metadata": {},
   "outputs": [],
   "source": [
    "result_total = {**e, **result_total}"
   ]
  },
  {
   "cell_type": "code",
   "execution_count": null,
   "metadata": {},
   "outputs": [],
   "source": [
    "result_total.keys()"
   ]
  },
  {
   "cell_type": "code",
   "execution_count": null,
   "metadata": {},
   "outputs": [],
   "source": [
    "import torch_geometric\n",
    "from torch_cluster import knn\n",
    "knn(torch.arange(10), torch.arange(20), 1)"
   ]
  },
  {
   "cell_type": "code",
   "execution_count": null,
   "metadata": {
    "scrolled": true,
    "tags": []
   },
   "outputs": [],
   "source": [
    "len(result_total['Kuka_14D', 'GNN_pure', '1234'])"
   ]
  },
  {
   "cell_type": "code",
   "execution_count": null,
   "metadata": {},
   "outputs": [],
   "source": [
    "with open('data/pure.p', 'wb') as f:\n",
    "    pickle.dump(result_total, f, pickle.DEFAULT_PROTOCOL)"
   ]
  },
  {
   "cell_type": "code",
   "execution_count": null,
   "metadata": {},
   "outputs": [],
   "source": [
    "torch.cuda.is_available()"
   ]
  },
  {
   "cell_type": "code",
   "execution_count": null,
   "metadata": {},
   "outputs": [],
   "source": [
    "import plotly.graph_objects as go\n",
    "import plotly\n",
    "from plotly.subplots import make_subplots\n",
    "import matplotlib.pyplot as plt\n",
    "from collections import defaultdict\n",
    "\n",
    "envs = ['Maze_2D_Easy', 'Maze_2D_Normal', 'Maze_2D_Hard', 'Kuka_7D', 'Kuka_13D', 'Kuka_14D']\n",
    "envs_dimension = ['2D Easy', '2D Normal', '2D Hard', '7D', '13D', '14D']\n",
    "metrics = ['success rate', 'collision check', 'running time', 'path cost', 'total time']\n",
    "titles = ['Success Rate', 'Collision Check', 'Running Time', 'Path Cost', 'Total Time']\n",
    "metric_values = {}\n",
    "method_names = ['GNN', 'BIT*', 'NEXT', 'RRT*' ]\n",
    "colors = ['rgb(236, 86, 86)', 'orange', '#2ca02c', 'rgb(100, 114, 246)']\n",
    "\n",
    "plotly.io.orca.config.executable = '/Users/rainorangelemon/anaconda3/envs/pybullet/bin/orca'\n",
    "\n",
    "# fig = go.Figure(data=[\n",
    "#     go.Bar(name='GNN', x=envs, y=[1000, 1000, 1000]),\n",
    "#     go.Bar(name='BIT*', x=envs, y=[1000, 1000, 1000]),\n",
    "#     go.Bar(name='RRT*', x=envs, y=[958.5, 609.5, 170.25]),\n",
    "#     go.Bar(name='NEXT', x=envs, y=[999, 992.25, 655.5]),\n",
    "# ])\n",
    "# # Change the bar mode\n",
    "# fig.update_layout(barmode='group', title=\"Success Rates\",\n",
    "#     xaxis_title=\"environments\",\n",
    "#     yaxis_title=\"success rates\",)\n",
    "# fig.show()\n",
    "\n",
    "with open(\"data/results/result__.txt\", \"r\") as f:\n",
    "    for line in f:\n",
    "        result = line.strip()\n",
    "        if len(set(result.split(' ')) & set(envs)) and 'Avg' in result:\n",
    "            key = result.split()[:2]\n",
    "            for metric in metrics:\n",
    "                value = float(f.readline().split(': ')[1])\n",
    "                metric_values[tuple([metric] + key)] = value\n",
    "print(metric_values)\n",
    "\n",
    "for metric in metrics:\n",
    "    for method in method_names:\n",
    "        metric_values[metric, 'Maze_2D_Easy', method] = (metric_values[metric, 'Maze_2D_Easy', method] + metric_values[metric, 'Maze_2D_Normal', method]) / 2\n",
    "\n",
    "envs.remove(\"Maze_2D_Normal\")\n",
    "envs_dimension.remove(\"2D Normal\")\n",
    "\n",
    "for metric_id, metric_title in enumerate(zip(metrics, titles)):\n",
    "    metric, title = metric_title\n",
    "    data = defaultdict(list)\n",
    "    for env, env_dimension in zip(envs, envs_dimension):\n",
    "        for method in method_names:\n",
    "            if metric != 'success rate':\n",
    "                data[method].append(metric_values[metric, env, method])\n",
    "            else:\n",
    "                data[method].append(metric_values[metric, env, method] / 1000)\n",
    "\n",
    "    fig = go.Figure(\n",
    "        [go.Bar(name=method, x=envs_dimension, y=data[method], text=data[method], marker_color=color) for color, method in zip(colors, method_names)]\n",
    "    )\n",
    "    # Change the bar mode\n",
    "    # fig.update_traces(texttemplate='%{text:.2f}', textposition='outside')\n",
    "    fig.layout.margin.autoexpand = False\n",
    "    fig.layout.margin.t = 10\n",
    "    fig.layout.margin.b = 40\n",
    "    fig.layout.margin.l = 60\n",
    "    fig.update_layout(barmode='group', paper_bgcolor='rgba(0,0,0,0)', plot_bgcolor='rgba(0,0,0,0)', title=title,\n",
    "        title_xanchor='center',\n",
    "        font_color='black',\n",
    "        title_x=0.5,\n",
    "        title_y=0.98,\n",
    "        xaxis_title=\"Environments\",\n",
    "        yaxis_title=title,)\n",
    "    if \"success\" in metric:\n",
    "        fig.update_layout(yaxis_range=[0, 1.05])\n",
    "    if \"collision\" in metric:\n",
    "        fig.update_layout(yaxis_range=[0, 5300])\n",
    "    fig.update_xaxes(showline=True, gridcolor='white', linecolor='rgb(176,176,176)')\n",
    "    fig.update_yaxes(showline=True, gridcolor='rgb(176,176,176)', linecolor='rgb(176,176,176)', )\n",
    "    fig.write_image(\"data/images/%s.pdf\" % metric.replace(\" \", \"_\"))\n",
    "    fig.show()\n",
    "\n",
    "\n",
    "# print(metric_values.items())\n",
    "#\n",
    "# for metric in metrics:\n",
    "#     for method in method_names:\n",
    "#         plt.xlabel('environment')\n",
    "#         plt.title(metric)\n",
    "#         plt.ylabel(metric)\n",
    "#         plt.plot(envs_dimension, [v for k, v in metric_values.items() if ((k[2]==method) and (k[0]==metric))], label=method)\n",
    "#     plt.legend()\n",
    "#     plt.savefig(\"data/images/%s.pdf\" % metric.replace(\" \", \"_\"))\n",
    "#     plt.clf()\n"
   ]
  },
  {
   "cell_type": "code",
   "execution_count": null,
   "metadata": {},
   "outputs": [],
   "source": [
    "!conda install -y psutil"
   ]
  },
  {
   "cell_type": "code",
   "execution_count": null,
   "metadata": {},
   "outputs": [],
   "source": [
    "import numpy as np\n",
    "import torch\n",
    "from environment import KukaEnv, MazeEnv, SnakeEnv, UR5Env\n",
    "from environment import Kuka2Env\n",
    "from torch_geometric.nn import knn_graph\n",
    "from collections import defaultdict\n",
    "from time import time\n",
    "import pickle\n",
    "from tqdm import tqdm\n",
    "from torch_sparse import coalesce\n",
    "\n",
    "INFINITY = float('inf')\n",
    "\n",
    "\n",
    "def construct_graph(env, points, check_collision=True):\n",
    "    edge_index = knn_graph(torch.FloatTensor(points), k=5, loop=True)\n",
    "    edge_index = torch.cat((edge_index, edge_index.flip(0)), dim=-1)\n",
    "    edge_index_torch, _ = coalesce(edge_index, None, len(points), len(points))\n",
    "    edge_index = edge_index_torch.data.cpu().numpy().T\n",
    "    edge_cost = defaultdict(list)\n",
    "    edge_free = []\n",
    "    neighbors = defaultdict(list)\n",
    "    for i, edge in enumerate(edge_index):\n",
    "        if env._edge_fp(points[edge[0]], points[edge[1]]):\n",
    "            edge_cost[edge[1]].append(np.linalg.norm(points[edge[1]]-points[edge[0]]))\n",
    "            edge_free.append(True)\n",
    "        else:\n",
    "            edge_cost[edge[1]].append(INFINITY)\n",
    "            edge_free.append(False)\n",
    "        neighbors[edge[1]].append(edge[0])\n",
    "    return edge_cost, neighbors, edge_index, edge_free\n",
    "\n",
    "\n",
    "def min_dist(q, dist):\n",
    "    \"\"\"\n",
    "    Returns the node with the smallest distance in q.\n",
    "    Implemented to keep the main algorithm clean.\n",
    "    \"\"\"\n",
    "    min_node = None\n",
    "    for node in q:\n",
    "        if min_node is None:\n",
    "            min_node = node\n",
    "        elif dist[node] < dist[min_node]:\n",
    "            min_node = node\n",
    "\n",
    "    return min_node\n",
    "\n",
    "\n",
    "def dijkstra(nodes, edges, costs, source):\n",
    "    q = set()\n",
    "    dist = {}\n",
    "    prev = {}\n",
    "\n",
    "    for v in nodes:       # initialization\n",
    "        dist[v] = INFINITY      # unknown distance from source to v\n",
    "        prev[v] = INFINITY      # previous node in optimal path from source\n",
    "        q.add(v)                # all nodes initially in q (unvisited nodes)\n",
    "\n",
    "    # distance from source to source\n",
    "    dist[source] = 0\n",
    "    prev[source] = source\n",
    "\n",
    "    while q:\n",
    "        # node with the least distance selected first\n",
    "        u = min_dist(q, dist)\n",
    "\n",
    "        q.remove(u)\n",
    "\n",
    "        for index, v in enumerate(edges[u]):\n",
    "            alt = dist[u] + costs[u][index]\n",
    "            if alt < dist[v]:\n",
    "                # a shorter path to v has been found\n",
    "                dist[v] = alt\n",
    "                prev[v] = u\n",
    "\n",
    "    return dist, prev\n",
    "\n",
    "\n",
    "\n",
    "data = []\n",
    "problems = []\n",
    "env = UR5Env()\n",
    "\n",
    "with open('data/pkl/ur5_prm_3000.pkl', 'rb') as f:\n",
    "    old_data = pickle.load(f)\n",
    "\n",
    "time0 = time()\n",
    "\n",
    "pbar = tqdm(range(3000))\n",
    "for problem_index in pbar:\n",
    "\n",
    "    points, neighbors, edge_cost, edge_index, edge_free = old_data[problem_index]\n",
    "\n",
    "    source_idxs = np.random.permutation(len(points))\n",
    "    for source_index in source_idxs:\n",
    "        dist, prev = dijkstra(list(range(len(points))), neighbors, edge_cost, source_index)\n",
    "        valid_goal = np.logical_and(np.array(list(dist.values())) != INFINITY, np.array(list(dist.values()))!=0)\n",
    "\n",
    "        if np.sum(valid_goal) == 0:\n",
    "            continue\n",
    "\n",
    "        goal_index = np.array(list(dist.values()))[valid_goal].argmax()\n",
    "        goal_index = np.arange(len(dist))[valid_goal][goal_index]\n",
    "\n",
    "        path = []\n",
    "        parent_idx = goal_index\n",
    "        while parent_idx != source_index:\n",
    "            path.append(points[parent_idx])\n",
    "            parent_idx = prev[parent_idx]\n",
    "        path.append(points[source_index])\n",
    "        path.reverse()\n",
    "\n",
    "        problems.append([env.problems[problem_index][0], points[source_index], points[goal_index], path])\n",
    "        data.append((points, neighbors, edge_cost, edge_index, edge_free))\n",
    "        break\n",
    "\n",
    "with open('data/pkl/problems_ur5_3000.pkl', 'wb') as f:\n",
    "    pickle.dump([problems[i] for i in index_3000], f, pickle.DEFAULT_PROTOCOL)\n",
    "\n",
    "with open('maze_files/ur5s_6_3000.pkl', 'wb') as f:\n",
    "    pickle.dump([problems[i] for i in index_3000], f, pickle.DEFAULT_PROTOCOL)"
   ]
  },
  {
   "cell_type": "code",
   "execution_count": null,
   "metadata": {},
   "outputs": [],
   "source": [
    "env = UR5Env()\n",
    "env.problems[0][0]"
   ]
  },
  {
   "cell_type": "code",
   "execution_count": null,
   "metadata": {},
   "outputs": [],
   "source": [
    "with open('data/pkl/problems_ur5_3000.pkl', 'wb') as f:\n",
    "    pickle.dump(problems, f, pickle.DEFAULT_PROTOCOL)\n",
    "\n",
    "with open('maze_files/ur5s_6_3000.pkl', 'wb') as f:\n",
    "    pickle.dump(problems, f, pickle.DEFAULT_PROTOCOL)"
   ]
  },
  {
   "cell_type": "markdown",
   "metadata": {},
   "source": [
    "# Figure 1"
   ]
  },
  {
   "cell_type": "code",
   "execution_count": null,
   "metadata": {
    "scrolled": true,
    "tags": []
   },
   "outputs": [],
   "source": [
    "from environment import MazeEnv, UR5Env, SnakeEnv, KukaEnv, Kuka2Env\n",
    "import torch\n",
    "from train_next import str2next\n",
    "from str2name import str2name\n",
    "from algorithm.tsa import NEXT_plan, RRTS_plan\n",
    "from config import set_random_seed\n",
    "from eval_gnn import explore\n",
    "import numpy as np\n",
    "from tqdm import tqdm\n",
    "import pybullet as p\n",
    "from time import time\n",
    "from algorithm.bit_star import BITStar\n",
    "from eval_gnn import path_cost\n",
    "\n",
    "visualize = False\n",
    "\n",
    "set_random_seed(3412)\n",
    "env = KukaEnv(GUI=visualize)\n",
    "p.resetDebugVisualizerCamera(\n",
    "    cameraDistance=2.25,\n",
    "    cameraYaw=-325,\n",
    "    cameraPitch=-32,\n",
    "    cameraTargetPosition=[0, 0, 0])\n",
    "_, model_explore, _, model_smooth, _ = str2name(str(env), load=True)\n",
    "# env.problems[pb_i][0].pop(3)\n",
    "\n",
    "\n",
    "\n",
    "    '-------------------------------------------------BIT*----------------------------------------------'\n",
    "\n",
    "    set_random_seed(3412)\n",
    "    env.init_new_problem(pb_i)\n",
    "    c0 = env.collision_check_count\n",
    "    bit_star = BITStar(env, batch_size=50, T=1000)\n",
    "    _, _, c, length, _, t = bit_star.plan(float('inf'), 0, 180)\n",
    "#     print('BIT*', t, env.collision_check_count-c0, length)\n",
    "    t_bit = t\n",
    "\n",
    "    '-------------------------------------------------GNN----------------------------------------------'\n",
    "\n",
    "    set_random_seed(3412)\n",
    "    c0 = env.collision_check_count\n",
    "    env.init_new_problem(pb_i)\n",
    "    c0, cost, data, explored, forward, success, t0, value, path, smooth_path = \\\n",
    "        explore(env, model_explore, model_smooth, t_max=1000, batch=50, k=30)\n",
    "#     print('GNN', time()-t0, env.collision_check_count-c0, forward, path_cost(smooth_path))\n",
    "    t_gnn = time()-t0\n",
    "    \n",
    "    if t_gnn < t_bit:\n",
    "        print(pb_i, length, c,  env.collision_check_count-c0, path_cost(smooth_path), success, t_gnn, t_bit)"
   ]
  },
  {
   "cell_type": "code",
   "execution_count": null,
   "metadata": {},
   "outputs": [],
   "source": [
    "!python visualize_figure1.py "
   ]
  },
  {
   "cell_type": "code",
   "execution_count": null,
   "metadata": {
    "tags": []
   },
   "outputs": [],
   "source": [
    "import numpy as np\n",
    "import matplotlib.pyplot as plt\n",
    "plt.style.use('seaborn')\n",
    "\n",
    "category_names = ['Collision Checking', 'Others']\n",
    "results = {\n",
    "    'GNN': [1.7223258018493652, 4.602714538574219-1.7223258018493652],\n",
    "    'BIT*': [16.37259006500244, 28.814308643341064-16.37259006500244],\n",
    "    'RRT* (Failed)': [16.088326930999756, 63.17657995223999-16.088326930999756],\n",
    "    'NEXT (Failed)': [3.7327802181243896, 65.67735195159912-3.7327802181243896],\n",
    "}\n",
    "\n",
    "\n",
    "def survey(results, category_names):\n",
    "    \"\"\"\n",
    "    Parameters\n",
    "    ----------\n",
    "    results : dict\n",
    "        A mapping from question labels to a list of answers per category.\n",
    "        It is assumed all lists contain the same number of entries and that\n",
    "        it matches the length of *category_names*.\n",
    "    category_names : list of str\n",
    "        The category labels.\n",
    "    \"\"\"\n",
    "    labels = list(results.keys())\n",
    "    data = np.array(list(results.values()))\n",
    "    data_cum = data.cumsum(axis=1)\n",
    "    category_colors = plt.get_cmap('RdYlGn')(\n",
    "        np.linspace(0.15, 0.85, data.shape[1]))\n",
    "\n",
    "    fig, ax = plt.subplots(figsize=(6.05, 5))\n",
    "    ax.invert_yaxis()\n",
    "    ax.xaxis.set_visible(True)\n",
    "    ax.set_xlim(0, np.sum(data, axis=1).max())\n",
    "\n",
    "    for i, (colname, color) in enumerate(zip(category_names, category_colors)):\n",
    "        hatch = '\\\\' if (colname=='Collision Checking') else ''\n",
    "        widths = data[:, i]\n",
    "        starts = data_cum[:, i] - widths\n",
    "        rects = ax.barh(labels, widths, left=starts, height=0.5,\n",
    "                        label=colname, color=color, hatch=hatch)\n",
    "\n",
    "        r, g, b, _ = color\n",
    "        text_color = 'white' if r * g * b < 0.5 else 'darkgrey'\n",
    "#         ax.bar_label(rects, label_type='center', color=text_color)\n",
    "    \n",
    "    ax.set_yticklabels(results.keys(), fontsize='x-large')\n",
    "    ax.set_xlabel('Time (s)', fontsize='x-large')\n",
    "    ax.set_title('Collision Checking vs. Other Queries', loc='center', fontsize='x-large')\n",
    "    ax.legend(ncol=2, bbox_to_anchor=(1, 1),\n",
    "          loc='upper right', fontsize='large')\n",
    "    return fig, ax\n",
    "\n",
    "\n",
    "fig, ax = survey(results, category_names)\n",
    "fig.tight_layout()\n",
    "plt.savefig(\"cc.pdf\", dpi=10)\n",
    "plt.show()"
   ]
  },
  {
   "cell_type": "markdown",
   "metadata": {},
   "source": [
    "# Retrain the Explorer"
   ]
  },
  {
   "cell_type": "code",
   "execution_count": null,
   "metadata": {},
   "outputs": [],
   "source": [
    "from train_explorer import train_explorer\n",
    "from str2env import str2env\n",
    "from model_explore import Explorer\n",
    "\n",
    "env, _ = str2env('maze2easy')\n",
    "model = Explorer(env.dim, env.config_dim, 32, 2)\n",
    "train_explorer(epoch=2000, data_path='./data/pkl/maze2_prm_k_20.pkl', model=model, \n",
    "               model_path='data/weights/2d_explorer.pt', env=env, use_obstacle=True, batch=2)"
   ]
  },
  {
   "cell_type": "code",
   "execution_count": null,
   "metadata": {},
   "outputs": [],
   "source": [
    "from train_explorer import train_explorer\n",
    "from str2env import str2env\n",
    "from model_explore import Explorer\n",
    "\n",
    "env, _ = str2env('maze2easy')\n",
    "model = Explorer(env.dim, env.config_dim, 32, 2)\n",
    "train_explorer(epoch=2000, data_path='./data/pkl/maze2_prm_k_20.pkl', model=model, \n",
    "               model_path='data/weights/2d_explorer_pure.pt', env=env, use_obstacle=False, batch=2)"
   ]
  },
  {
   "cell_type": "code",
   "execution_count": null,
   "metadata": {},
   "outputs": [],
   "source": [
    "import torch\n",
    "model.load_state_dict(torch.load('data/weights/2d_explorer_pure.pt'))"
   ]
  },
  {
   "cell_type": "code",
   "execution_count": 5,
   "metadata": {
    "scrolled": true,
    "tags": []
   },
   "outputs": [
    {
     "name": "stderr",
     "output_type": "stream",
     "text": [
      "gnn 0.01s, search 0.03s: 100%|██████████| 1000/1000 [01:27<00:00, 11.43it/s]"
     ]
    },
    {
     "name": "stdout",
     "output_type": "stream",
     "text": [
      "success rate: 970\n",
      "collision check: 582.82\n",
      "collision check explore: 396.60\n",
      "running time: 0.06\n",
      "path cost: 1.54\n",
      "total time: 86.68\n",
      "total time explore: 72.16\n",
      "\n"
     ]
    },
    {
     "name": "stderr",
     "output_type": "stream",
     "text": [
      "\n"
     ]
    }
   ],
   "source": [
    "from environment import MazeEnv\n",
    "from eval_gnn import *\n",
    "import pybullet as p\n",
    "from time import sleep\n",
    "env = MazeEnv(dim=2)\n",
    "_ = eval_gnn_pure(str(env), 1234, env, np.arange(2000, 3000), model=None, model_s=None, use_tqdm=True, smooth=True, batch=100, t_max=1000, k=20)"
   ]
  },
  {
   "cell_type": "code",
   "execution_count": 12,
   "metadata": {},
   "outputs": [
    {
     "name": "stderr",
     "output_type": "stream",
     "text": [
      "gnn 0.00s, search 0.30s: 100%|██████████| 1000/1000 [09:41<00:00,  1.72it/s]"
     ]
    },
    {
     "name": "stdout",
     "output_type": "stream",
     "text": [
      "success rate: 615\n",
      "collision check: 6281.89\n",
      "collision check explore: 3070.66\n",
      "running time: 0.70\n",
      "path cost: 10.83\n",
      "total time: 538.37\n",
      "total time explore: 323.21\n",
      "\n"
     ]
    },
    {
     "name": "stderr",
     "output_type": "stream",
     "text": [
      "\n"
     ]
    }
   ],
   "source": [
    "from eval_gnn import *\n",
    "_ = eval_gnn_pure(str(env), 1234, env, np.arange(2000, 3000), model=model2, model_s=None, use_tqdm=True, smooth=True, batch=100, t_max=1000, k=20)"
   ]
  },
  {
   "cell_type": "code",
   "execution_count": 16,
   "metadata": {},
   "outputs": [],
   "source": [
    "model2.use_obstacles = False"
   ]
  },
  {
   "cell_type": "code",
   "execution_count": 4,
   "metadata": {},
   "outputs": [
    {
     "name": "stderr",
     "output_type": "stream",
     "text": [
      "  0%|          | 0/1000 [00:00<?, ?it/s]\n"
     ]
    },
    {
     "ename": "NameError",
     "evalue": "name 'points' is not defined",
     "output_type": "error",
     "traceback": [
      "\u001b[0;31m---------------------------------------------------------------------------\u001b[0m",
      "\u001b[0;31mNameError\u001b[0m                                 Traceback (most recent call last)",
      "\u001b[0;32m<ipython-input-4-4b4f61ac6c04>\u001b[0m in \u001b[0;36m<module>\u001b[0;34m()\u001b[0m\n\u001b[1;32m      1\u001b[0m \u001b[0;32mfrom\u001b[0m \u001b[0meval_gnn\u001b[0m \u001b[0;32mimport\u001b[0m \u001b[0;34m*\u001b[0m\u001b[0;34m\u001b[0m\u001b[0;34m\u001b[0m\u001b[0m\n\u001b[0;32m----> 2\u001b[0;31m \u001b[0m_\u001b[0m \u001b[0;34m=\u001b[0m \u001b[0meval_gnn_pure\u001b[0m\u001b[0;34m(\u001b[0m\u001b[0mstr\u001b[0m\u001b[0;34m(\u001b[0m\u001b[0menv\u001b[0m\u001b[0;34m)\u001b[0m\u001b[0;34m,\u001b[0m \u001b[0;36m1234\u001b[0m\u001b[0;34m,\u001b[0m \u001b[0menv\u001b[0m\u001b[0;34m,\u001b[0m \u001b[0mnp\u001b[0m\u001b[0;34m.\u001b[0m\u001b[0marange\u001b[0m\u001b[0;34m(\u001b[0m\u001b[0;36m2000\u001b[0m\u001b[0;34m,\u001b[0m \u001b[0;36m3000\u001b[0m\u001b[0;34m)\u001b[0m\u001b[0;34m,\u001b[0m \u001b[0mmodel\u001b[0m\u001b[0;34m=\u001b[0m\u001b[0mmodel2\u001b[0m\u001b[0;34m.\u001b[0m\u001b[0mto\u001b[0m\u001b[0;34m(\u001b[0m\u001b[0mdevice\u001b[0m\u001b[0;34m)\u001b[0m\u001b[0;34m,\u001b[0m \u001b[0mmodel_s\u001b[0m\u001b[0;34m=\u001b[0m\u001b[0;32mNone\u001b[0m\u001b[0;34m,\u001b[0m \u001b[0muse_tqdm\u001b[0m\u001b[0;34m=\u001b[0m\u001b[0;32mTrue\u001b[0m\u001b[0;34m,\u001b[0m \u001b[0msmooth\u001b[0m\u001b[0;34m=\u001b[0m\u001b[0;32mTrue\u001b[0m\u001b[0;34m,\u001b[0m \u001b[0mbatch\u001b[0m\u001b[0;34m=\u001b[0m\u001b[0;36m100\u001b[0m\u001b[0;34m,\u001b[0m \u001b[0mt_max\u001b[0m\u001b[0;34m=\u001b[0m\u001b[0;36m1000\u001b[0m\u001b[0;34m,\u001b[0m \u001b[0mk\u001b[0m\u001b[0;34m=\u001b[0m\u001b[0;36m10\u001b[0m\u001b[0;34m)\u001b[0m\u001b[0;34m\u001b[0m\u001b[0;34m\u001b[0m\u001b[0m\n\u001b[0m",
      "\u001b[0;32m/home/rainorangelemon/GNN-MP/eval_gnn.py\u001b[0m in \u001b[0;36meval_gnn_pure\u001b[0;34m(str, seed, env, indexes, model, model_s, use_tqdm, smooth, batch, t_max, k, **kwargs)\u001b[0m\n\u001b[1;32m     88\u001b[0m         \u001b[0mmodel_s\u001b[0m\u001b[0;34m.\u001b[0m\u001b[0mload_state_dict\u001b[0m\u001b[0;34m(\u001b[0m\u001b[0mtorch\u001b[0m\u001b[0;34m.\u001b[0m\u001b[0mload\u001b[0m\u001b[0;34m(\u001b[0m\u001b[0mmodel_s_path\u001b[0m\u001b[0;34m,\u001b[0m \u001b[0mmap_location\u001b[0m\u001b[0;34m=\u001b[0m\u001b[0mtorch\u001b[0m\u001b[0;34m.\u001b[0m\u001b[0mdevice\u001b[0m\u001b[0;34m(\u001b[0m\u001b[0;34m\"cpu\"\u001b[0m\u001b[0;34m)\u001b[0m\u001b[0;34m)\u001b[0m\u001b[0;34m)\u001b[0m\u001b[0;34m\u001b[0m\u001b[0;34m\u001b[0m\u001b[0m\n\u001b[1;32m     89\u001b[0m \u001b[0;34m\u001b[0m\u001b[0m\n\u001b[0;32m---> 90\u001b[0;31m     \u001b[0;32mreturn\u001b[0m \u001b[0meval_gnn\u001b[0m\u001b[0;34m(\u001b[0m\u001b[0mstr\u001b[0m\u001b[0;34m,\u001b[0m \u001b[0mseed\u001b[0m\u001b[0;34m,\u001b[0m \u001b[0menv\u001b[0m\u001b[0;34m,\u001b[0m \u001b[0mindexes\u001b[0m\u001b[0;34m,\u001b[0m \u001b[0mmodel\u001b[0m\u001b[0;34m,\u001b[0m \u001b[0mmodel_s\u001b[0m\u001b[0;34m,\u001b[0m \u001b[0muse_tqdm\u001b[0m\u001b[0;34m,\u001b[0m \u001b[0msmooth\u001b[0m\u001b[0;34m,\u001b[0m \u001b[0mbatch\u001b[0m\u001b[0;34m,\u001b[0m \u001b[0mt_max\u001b[0m\u001b[0;34m,\u001b[0m \u001b[0mk\u001b[0m\u001b[0;34m,\u001b[0m \u001b[0;34m**\u001b[0m\u001b[0mkwargs\u001b[0m\u001b[0;34m)\u001b[0m\u001b[0;34m\u001b[0m\u001b[0;34m\u001b[0m\u001b[0m\n\u001b[0m\u001b[1;32m     91\u001b[0m \u001b[0;34m\u001b[0m\u001b[0m\n\u001b[1;32m     92\u001b[0m \u001b[0;34m\u001b[0m\u001b[0m\n",
      "\u001b[0;32m/home/rainorangelemon/GNN-MP/eval_gnn.py\u001b[0m in \u001b[0;36meval_gnn\u001b[0;34m(str, seed, env, indexes, model, model_s, use_tqdm, smooth, batch, t_max, k, **kwargs)\u001b[0m\n\u001b[1;32m    110\u001b[0m \u001b[0;34m\u001b[0m\u001b[0m\n\u001b[1;32m    111\u001b[0m         \u001b[0menv\u001b[0m\u001b[0;34m.\u001b[0m\u001b[0minit_new_problem\u001b[0m\u001b[0;34m(\u001b[0m\u001b[0mindex\u001b[0m\u001b[0;34m)\u001b[0m\u001b[0;34m\u001b[0m\u001b[0;34m\u001b[0m\u001b[0m\n\u001b[0;32m--> 112\u001b[0;31m         \u001b[0mresult\u001b[0m \u001b[0;34m=\u001b[0m \u001b[0mexplore\u001b[0m\u001b[0;34m(\u001b[0m\u001b[0menv\u001b[0m\u001b[0;34m,\u001b[0m \u001b[0mmodel\u001b[0m\u001b[0;34m,\u001b[0m \u001b[0mmodel_s\u001b[0m\u001b[0;34m,\u001b[0m \u001b[0msmooth\u001b[0m\u001b[0;34m,\u001b[0m \u001b[0mbatch\u001b[0m\u001b[0;34m=\u001b[0m\u001b[0mbatch\u001b[0m\u001b[0;34m,\u001b[0m \u001b[0mt_max\u001b[0m\u001b[0;34m=\u001b[0m\u001b[0mt_max\u001b[0m\u001b[0;34m,\u001b[0m \u001b[0mk\u001b[0m\u001b[0;34m=\u001b[0m\u001b[0mk\u001b[0m\u001b[0;34m,\u001b[0m \u001b[0;34m**\u001b[0m\u001b[0mkwargs\u001b[0m\u001b[0;34m)\u001b[0m\u001b[0;34m\u001b[0m\u001b[0;34m\u001b[0m\u001b[0m\n\u001b[0m\u001b[1;32m    113\u001b[0m \u001b[0;34m\u001b[0m\u001b[0m\n\u001b[1;32m    114\u001b[0m         \u001b[0mpaths\u001b[0m\u001b[0;34m.\u001b[0m\u001b[0mappend\u001b[0m\u001b[0;34m(\u001b[0m\u001b[0mresult\u001b[0m\u001b[0;34m[\u001b[0m\u001b[0;34m'path'\u001b[0m\u001b[0;34m]\u001b[0m\u001b[0;34m)\u001b[0m\u001b[0;34m\u001b[0m\u001b[0;34m\u001b[0m\u001b[0m\n",
      "\u001b[0;32m/home/rainorangelemon/anaconda3/envs/GNN/lib/python3.6/site-packages/torch/autograd/grad_mode.py\u001b[0m in \u001b[0;36mdecorate_context\u001b[0;34m(*args, **kwargs)\u001b[0m\n\u001b[1;32m     25\u001b[0m         \u001b[0;32mdef\u001b[0m \u001b[0mdecorate_context\u001b[0m\u001b[0;34m(\u001b[0m\u001b[0;34m*\u001b[0m\u001b[0margs\u001b[0m\u001b[0;34m,\u001b[0m \u001b[0;34m**\u001b[0m\u001b[0mkwargs\u001b[0m\u001b[0;34m)\u001b[0m\u001b[0;34m:\u001b[0m\u001b[0;34m\u001b[0m\u001b[0;34m\u001b[0m\u001b[0m\n\u001b[1;32m     26\u001b[0m             \u001b[0;32mwith\u001b[0m \u001b[0mself\u001b[0m\u001b[0;34m.\u001b[0m\u001b[0m__class__\u001b[0m\u001b[0;34m(\u001b[0m\u001b[0;34m)\u001b[0m\u001b[0;34m:\u001b[0m\u001b[0;34m\u001b[0m\u001b[0;34m\u001b[0m\u001b[0m\n\u001b[0;32m---> 27\u001b[0;31m                 \u001b[0;32mreturn\u001b[0m \u001b[0mfunc\u001b[0m\u001b[0;34m(\u001b[0m\u001b[0;34m*\u001b[0m\u001b[0margs\u001b[0m\u001b[0;34m,\u001b[0m \u001b[0;34m**\u001b[0m\u001b[0mkwargs\u001b[0m\u001b[0;34m)\u001b[0m\u001b[0;34m\u001b[0m\u001b[0;34m\u001b[0m\u001b[0m\n\u001b[0m\u001b[1;32m     28\u001b[0m         \u001b[0;32mreturn\u001b[0m \u001b[0mcast\u001b[0m\u001b[0;34m(\u001b[0m\u001b[0mF\u001b[0m\u001b[0;34m,\u001b[0m \u001b[0mdecorate_context\u001b[0m\u001b[0;34m)\u001b[0m\u001b[0;34m\u001b[0m\u001b[0;34m\u001b[0m\u001b[0m\n\u001b[1;32m     29\u001b[0m \u001b[0;34m\u001b[0m\u001b[0m\n",
      "\u001b[0;32m/home/rainorangelemon/GNN-MP/eval_gnn.py\u001b[0m in \u001b[0;36mexplore\u001b[0;34m(env, model, model_s, smooth, batch, t_max, k, smoother)\u001b[0m\n\u001b[1;32m    154\u001b[0m     \u001b[0mfree\u001b[0m \u001b[0;34m=\u001b[0m \u001b[0;34m[\u001b[0m\u001b[0menv\u001b[0m\u001b[0;34m.\u001b[0m\u001b[0minit_state\u001b[0m\u001b[0;34m]\u001b[0m \u001b[0;34m+\u001b[0m \u001b[0mlist\u001b[0m\u001b[0;34m(\u001b[0m\u001b[0menv\u001b[0m\u001b[0;34m.\u001b[0m\u001b[0mgoal_state\u001b[0m\u001b[0;34m)\u001b[0m \u001b[0;34m+\u001b[0m \u001b[0mlist\u001b[0m\u001b[0;34m(\u001b[0m\u001b[0mfree\u001b[0m\u001b[0;34m)\u001b[0m\u001b[0;34m\u001b[0m\u001b[0;34m\u001b[0m\u001b[0m\n\u001b[1;32m    155\u001b[0m     data = Data(goal=torch.FloatTensor(env.goal_state),\n\u001b[0;32m--> 156\u001b[0;31m                 v=torch.FloatTensor(points), )\n\u001b[0m\u001b[1;32m    157\u001b[0m     data.v = torch.cat((torch.FloatTensor(free).view(1, -1),\n\u001b[1;32m    158\u001b[0m                         torch.FloatTensor(collided).view(1, -1)), dim=0)\n",
      "\u001b[0;31mNameError\u001b[0m: name 'points' is not defined"
     ]
    }
   ],
   "source": [
    "from eval_gnn import *\n",
    "_ = eval_gnn_pure(str(env), 1234, env, np.arange(2000, 3000), model=model2.to(device), model_s=None, use_tqdm=True, smooth=True, batch=100, t_max=1000, k=10)"
   ]
  },
  {
   "cell_type": "code",
   "execution_count": 7,
   "metadata": {},
   "outputs": [
    {
     "name": "stderr",
     "output_type": "stream",
     "text": [
      "gnn 0.01s, search 0.03s: 100%|██████████| 1000/1000 [00:55<00:00, 18.09it/s]"
     ]
    },
    {
     "name": "stdout",
     "output_type": "stream",
     "text": [
      "success rate: 1000\n",
      "collision check: 500.08\n",
      "collision check explore: 342.91\n",
      "running time: 0.05\n",
      "path cost: 1.35\n",
      "total time: 54.45\n",
      "total time explore: 40.48\n",
      "\n"
     ]
    },
    {
     "name": "stderr",
     "output_type": "stream",
     "text": [
      "\n"
     ]
    }
   ],
   "source": [
    "from eval_gnn import *\n",
    "_ = eval_gnn(str(env), 1234, env, np.arange(2000, 3000), model=model2.to(device), model_s=None, use_tqdm=True, smooth=True, batch=100, t_max=1000, k=10)"
   ]
  },
  {
   "cell_type": "code",
   "execution_count": 5,
   "metadata": {},
   "outputs": [
    {
     "name": "stderr",
     "output_type": "stream",
     "text": [
      "gnn 0.01s, search 0.03s: 100%|██████████| 1000/1000 [00:56<00:00, 17.65it/s]"
     ]
    },
    {
     "name": "stdout",
     "output_type": "stream",
     "text": [
      "success rate: 1000\n",
      "collision check: 499.48\n",
      "collision check explore: 342.55\n",
      "running time: 0.06\n",
      "path cost: 1.35\n",
      "total time: 55.83\n",
      "total time explore: 41.92\n",
      "\n"
     ]
    },
    {
     "name": "stderr",
     "output_type": "stream",
     "text": [
      "\n"
     ]
    }
   ],
   "source": [
    "from eval_gnn import *\n",
    "_ = eval_gnn(str(env), 1234, env, np.arange(2000, 3000), model=None, model_s=None, use_tqdm=True, smooth=True, batch=100, t_max=1000, k=10)"
   ]
  },
  {
   "cell_type": "code",
   "execution_count": 22,
   "metadata": {},
   "outputs": [],
   "source": [
    "model2.use_obstacles = False"
   ]
  },
  {
   "cell_type": "code",
   "execution_count": 11,
   "metadata": {},
   "outputs": [],
   "source": [
    "from train_explorer import train_explorer\n",
    "from str2env import str2env\n",
    "from model_explore import Explorer\n",
    "\n",
    "env, _ = str2env('ur5')\n",
    "model2 = Explorer(env.dim, env.config_dim, 32, 6)\n",
    "# train_explorer(epoch=2000, data_path='./data/pkl/ur5_prm_3000.pkl', model=model2, \n",
    "#                model_path='data/weights/ur5_explorer.pt', env=env, use_obstacle=False)"
   ]
  },
  {
   "cell_type": "code",
   "execution_count": 1,
   "metadata": {},
   "outputs": [],
   "source": [
    "from train_explorer import train_explorer\n",
    "from str2env import str2env\n",
    "from model_explore import Explorer\n",
    "\n",
    "env, _ = str2env('maze2easy')\n",
    "model2 = Explorer(env.dim, env.config_dim, 128, 2)\n",
    "# train_explorer(epoch=2000, data_path='./data/pkl/maze_prm.pkl', model=model2, \n",
    "#                model_path='data/weights/2d_explorer_128.pt', env=env, use_obstacle=False)"
   ]
  },
  {
   "cell_type": "code",
   "execution_count": 4,
   "metadata": {},
   "outputs": [],
   "source": [
    "a = model2.labels"
   ]
  },
  {
   "cell_type": "code",
   "execution_count": 5,
   "metadata": {
    "scrolled": true,
    "tags": []
   },
   "outputs": [
    {
     "data": {
      "text/plain": [
       "tensor([[1., 0., 0.],\n",
       "        [1., 0., 0.],\n",
       "        [0., 1., 0.],\n",
       "        [1., 0., 0.],\n",
       "        [0., 1., 0.],\n",
       "        [0., 1., 0.],\n",
       "        [0., 1., 0.],\n",
       "        [1., 0., 0.],\n",
       "        [0., 1., 0.],\n",
       "        [1., 0., 0.],\n",
       "        [1., 0., 0.],\n",
       "        [1., 0., 0.],\n",
       "        [1., 0., 0.],\n",
       "        [1., 0., 0.],\n",
       "        [1., 0., 0.],\n",
       "        [1., 0., 0.],\n",
       "        [0., 1., 0.],\n",
       "        [1., 0., 0.],\n",
       "        [1., 0., 0.],\n",
       "        [1., 0., 0.],\n",
       "        [0., 1., 0.],\n",
       "        [1., 0., 0.],\n",
       "        [1., 0., 0.],\n",
       "        [1., 0., 0.],\n",
       "        [1., 0., 0.],\n",
       "        [0., 1., 0.],\n",
       "        [1., 0., 0.],\n",
       "        [0., 1., 0.],\n",
       "        [1., 0., 0.],\n",
       "        [1., 0., 0.],\n",
       "        [1., 0., 0.],\n",
       "        [1., 0., 1.],\n",
       "        [0., 1., 0.],\n",
       "        [1., 0., 0.],\n",
       "        [1., 0., 0.],\n",
       "        [1., 0., 0.],\n",
       "        [1., 0., 0.],\n",
       "        [1., 0., 0.],\n",
       "        [0., 1., 0.],\n",
       "        [0., 1., 0.],\n",
       "        [0., 1., 0.],\n",
       "        [0., 1., 0.],\n",
       "        [1., 0., 0.],\n",
       "        [0., 1., 0.],\n",
       "        [1., 0., 0.],\n",
       "        [1., 0., 0.],\n",
       "        [1., 0., 0.],\n",
       "        [1., 0., 0.],\n",
       "        [1., 0., 0.],\n",
       "        [0., 1., 0.],\n",
       "        [1., 0., 0.],\n",
       "        [1., 0., 0.],\n",
       "        [1., 0., 0.],\n",
       "        [0., 1., 0.],\n",
       "        [0., 1., 0.],\n",
       "        [0., 1., 0.],\n",
       "        [1., 0., 0.],\n",
       "        [0., 1., 0.],\n",
       "        [1., 0., 0.],\n",
       "        [1., 0., 0.],\n",
       "        [1., 0., 0.],\n",
       "        [1., 0., 0.],\n",
       "        [0., 1., 0.],\n",
       "        [0., 1., 0.],\n",
       "        [0., 1., 0.],\n",
       "        [0., 1., 0.],\n",
       "        [1., 0., 0.],\n",
       "        [1., 0., 0.],\n",
       "        [1., 0., 0.],\n",
       "        [0., 1., 0.],\n",
       "        [1., 0., 0.],\n",
       "        [1., 0., 0.],\n",
       "        [0., 1., 0.],\n",
       "        [1., 0., 0.],\n",
       "        [0., 1., 0.],\n",
       "        [1., 0., 0.],\n",
       "        [0., 1., 0.],\n",
       "        [0., 1., 0.],\n",
       "        [0., 1., 0.],\n",
       "        [1., 0., 0.],\n",
       "        [1., 0., 0.],\n",
       "        [1., 0., 0.],\n",
       "        [0., 1., 0.],\n",
       "        [1., 0., 0.],\n",
       "        [1., 0., 0.],\n",
       "        [1., 0., 0.],\n",
       "        [1., 0., 0.],\n",
       "        [1., 0., 0.],\n",
       "        [1., 0., 0.],\n",
       "        [1., 0., 0.],\n",
       "        [0., 1., 0.],\n",
       "        [1., 0., 0.],\n",
       "        [0., 1., 0.],\n",
       "        [1., 0., 0.],\n",
       "        [1., 0., 0.],\n",
       "        [1., 0., 0.],\n",
       "        [0., 1., 0.],\n",
       "        [0., 1., 0.],\n",
       "        [1., 0., 0.],\n",
       "        [1., 0., 0.],\n",
       "        [1., 0., 0.],\n",
       "        [1., 0., 0.],\n",
       "        [1., 0., 0.],\n",
       "        [0., 1., 0.],\n",
       "        [1., 0., 0.],\n",
       "        [1., 0., 0.],\n",
       "        [0., 1., 0.],\n",
       "        [1., 0., 0.],\n",
       "        [1., 0., 0.],\n",
       "        [0., 1., 0.],\n",
       "        [0., 1., 0.],\n",
       "        [1., 0., 0.],\n",
       "        [1., 0., 0.],\n",
       "        [1., 0., 0.],\n",
       "        [0., 1., 0.],\n",
       "        [1., 0., 0.],\n",
       "        [0., 1., 0.],\n",
       "        [1., 0., 0.],\n",
       "        [0., 1., 0.],\n",
       "        [0., 1., 0.],\n",
       "        [0., 1., 0.],\n",
       "        [0., 1., 0.],\n",
       "        [1., 0., 0.],\n",
       "        [1., 0., 0.],\n",
       "        [1., 0., 0.],\n",
       "        [0., 1., 0.],\n",
       "        [1., 0., 0.],\n",
       "        [0., 1., 0.],\n",
       "        [1., 0., 0.],\n",
       "        [1., 0., 0.],\n",
       "        [0., 1., 0.],\n",
       "        [1., 0., 0.],\n",
       "        [0., 1., 0.],\n",
       "        [1., 0., 0.],\n",
       "        [0., 1., 0.],\n",
       "        [1., 0., 0.],\n",
       "        [1., 0., 0.],\n",
       "        [0., 1., 0.],\n",
       "        [1., 0., 0.],\n",
       "        [1., 0., 0.],\n",
       "        [1., 0., 0.],\n",
       "        [1., 0., 0.],\n",
       "        [1., 0., 0.],\n",
       "        [0., 1., 0.],\n",
       "        [0., 1., 0.],\n",
       "        [1., 0., 0.],\n",
       "        [1., 0., 0.],\n",
       "        [1., 0., 0.],\n",
       "        [0., 1., 0.],\n",
       "        [0., 1., 0.],\n",
       "        [1., 0., 0.],\n",
       "        [1., 0., 0.],\n",
       "        [0., 1., 0.],\n",
       "        [1., 0., 0.],\n",
       "        [1., 0., 0.],\n",
       "        [1., 0., 0.],\n",
       "        [0., 1., 0.],\n",
       "        [0., 1., 0.],\n",
       "        [0., 1., 0.],\n",
       "        [1., 0., 0.]], device='cuda:0')"
      ]
     },
     "execution_count": 5,
     "metadata": {},
     "output_type": "execute_result"
    }
   ],
   "source": [
    "a"
   ]
  },
  {
   "cell_type": "code",
   "execution_count": 9,
   "metadata": {},
   "outputs": [],
   "source": [
    "import torch\n",
    "model2 = Explorer(env.dim, env.config_dim, 32, 2)\n",
    "model2.load_state_dict(torch.load('data/weights/2d_explorer_eta_on_x.pt'))"
   ]
  },
  {
   "cell_type": "code",
   "execution_count": 3,
   "metadata": {},
   "outputs": [
    {
     "name": "stdout",
     "output_type": "stream",
     "text": [
      "env: CUDA_LAUNCH_BLOCKING=1\n"
     ]
    }
   ],
   "source": [
    "import os\n",
    "os.environ['CUDA_LAUNCH_BLOCKING']='1'\n",
    "%set_env CUDA_LAUNCH_BLOCKING=1"
   ]
  },
  {
   "cell_type": "code",
   "execution_count": 1,
   "metadata": {},
   "outputs": [
    {
     "name": "stderr",
     "output_type": "stream",
     "text": [
      "total 2.00, value 0.00, policy 2.00, node 0.00, edge 0.00: 100%|██████████| 2000/2000 [00:31<00:00, 63.05it/s]\n",
      "total 0.55, value 0.00, policy 0.55, node 0.00, edge 0.00: 100%|██████████| 2000/2000 [00:28<00:00, 70.59it/s]\n",
      "total 0.61, value 0.00, policy 0.61, node 0.00, edge 0.00: 100%|██████████| 2000/2000 [00:27<00:00, 73.15it/s] \n",
      "total 0.76, value 0.00, policy 0.76, node 0.00, edge 0.00: 100%|██████████| 2000/2000 [00:26<00:00, 74.38it/s]\n",
      "total 0.69, value 0.00, policy 0.69, node 0.00, edge 0.00: 100%|██████████| 2000/2000 [00:26<00:00, 74.17it/s]\n",
      "total 0.37, value 0.00, policy 0.37, node 0.00, edge 0.00: 100%|██████████| 2000/2000 [00:26<00:00, 75.53it/s]\n",
      "total 0.54, value 0.00, policy 0.54, node 0.00, edge 0.00: 100%|██████████| 2000/2000 [00:26<00:00, 76.57it/s] \n",
      "total 1.08, value 0.00, policy 1.08, node 0.00, edge 0.00: 100%|██████████| 2000/2000 [00:26<00:00, 74.85it/s]\n",
      "total 0.49, value 0.00, policy 0.49, node 0.00, edge 0.00: 100%|██████████| 2000/2000 [00:26<00:00, 74.92it/s] \n",
      "total 0.88, value 0.00, policy 0.88, node 0.00, edge 0.00: 100%|██████████| 2000/2000 [00:27<00:00, 73.93it/s]\n",
      "total 0.25, value 0.00, policy 0.25, node 0.00, edge 0.00: 100%|██████████| 2000/2000 [00:27<00:00, 73.88it/s]\n",
      "total 0.34, value 0.00, policy 0.34, node 0.00, edge 0.00: 100%|██████████| 2000/2000 [00:26<00:00, 74.62it/s]\n",
      "total 0.31, value 0.00, policy 0.31, node 0.00, edge 0.00: 100%|██████████| 2000/2000 [00:26<00:00, 75.42it/s]\n",
      "total 1.48, value 0.00, policy 1.48, node 0.00, edge 0.00: 100%|██████████| 2000/2000 [00:26<00:00, 76.13it/s] \n",
      "total 0.35, value 0.00, policy 0.35, node 0.00, edge 0.00: 100%|██████████| 2000/2000 [00:25<00:00, 77.03it/s] \n",
      "total 0.46, value 0.00, policy 0.46, node 0.00, edge 0.00: 100%|██████████| 2000/2000 [00:26<00:00, 75.90it/s] \n",
      "total 0.70, value 0.00, policy 0.70, node 0.00, edge 0.00: 100%|██████████| 2000/2000 [00:26<00:00, 75.43it/s]\n",
      "total 0.31, value 0.00, policy 0.31, node 0.00, edge 0.00: 100%|██████████| 2000/2000 [00:27<00:00, 72.82it/s] \n",
      "total 0.25, value 0.00, policy 0.25, node 0.00, edge 0.00: 100%|██████████| 2000/2000 [00:26<00:00, 74.95it/s]\n",
      "total 0.23, value 0.00, policy 0.23, node 0.00, edge 0.00: 100%|██████████| 2000/2000 [00:26<00:00, 76.41it/s]\n"
     ]
    }
   ],
   "source": [
    "from train_explorer import train_explorer\n",
    "from str2env import str2env\n",
    "from model import EncoderProcessDecoder\n",
    "\n",
    "env, _ = str2env('maze2easy')\n",
    "model = EncoderProcessDecoder(env.dim, env.config_dim, 32, 2)\n",
    "train_explorer(epoch=2000, data_path='./data/pkl/maze_prm_4000.pkl', model=model, \n",
    "               model_path='data/weights/2d_explorer_orig.pt', env=env, use_obstacle=False)"
   ]
  },
  {
   "cell_type": "code",
   "execution_count": 12,
   "metadata": {},
   "outputs": [
    {
     "data": {
      "text/plain": [
       "<All keys matched successfully>"
      ]
     },
     "execution_count": 12,
     "metadata": {},
     "output_type": "execute_result"
    }
   ],
   "source": [
    "model.load_state_dict(torch.load('data/weights/weights_maze.pt'))"
   ]
  },
  {
   "cell_type": "code",
   "execution_count": 1,
   "metadata": {},
   "outputs": [
    {
     "name": "stdout",
     "output_type": "stream",
     "text": [
      " agent.py\t        play_batch_size.py\n",
      " algorithm\t        play.ipynb\n",
      " cc.pdf\t\t        play.py\n",
      " config.py\t        play_smooth.py\n",
      " data\t\t        play_train_size.py\n",
      " diversify_maze.py      process_batch_txt.py\n",
      " environment\t        process_probing_samples.py\n",
      " eval_2d_explore.py     process_smoother.py\n",
      " eval_2d.py\t        process_txt.py\n",
      " eval_2d_smoother.py    __pycache__\n",
      " eval_2d_visualize.py   README.md\n",
      " eval_7d_explore.py     replay.py\n",
      " eval_7d_hier.py        runs\n",
      " eval_7d_mpnet.py       smoother.py\n",
      " eval_7d_radius.py      snake_prm.py\n",
      " eval_all.py\t        stats.py\n",
      " eval_batch.py\t        str2env.py\n",
      " eval_bit.py\t        str2name.py\n",
      " eval_gnn.py\t        test_bit.py\n",
      " eval_next.py\t        test.py\n",
      " eval_only_gnn.py       train_2d_explore.py\n",
      " eval_rrt.py\t        train_2d.py\n",
      " GNN-MP-2d.ipynb        train_2d_smoother.py\n",
      " hyperspherical_vae    'train_7d_ backup.py'\n",
      " kuka_bit_explore.py    train_7d_bpr.py\n",
      " kuka_iiwa\t        train_7d_explore.py\n",
      " kuka_rrt_explore.py    train_7d_mpnet.py\n",
      " kuka_rrt.py\t        train_different_training_set.py\n",
      " main.py\t        train_explorer.py\n",
      " maze_bit.py\t        train_next.py\n",
      " maze_files\t        train_no_obstacle.py\n",
      " maze_prm.py\t        train_smoother.py\n",
      " model2.py\t        ur5\n",
      " model_explore.py       ur5_prm.py\n",
      " model_pure.py\t        utils\n",
      " model.py\t        visualize_figure1.py\n",
      " model_smoother2.py     visualize.ipynb\n",
      " model_smoother.py      visualize_kuka.py\n",
      " MPNN.py\t        visualize_local_minima.py\n",
      " nets.py\t        visualize_next_gnn.py\n",
      " next_model\n"
     ]
    }
   ],
   "source": [
    "!ls"
   ]
  },
  {
   "cell_type": "code",
   "execution_count": null,
   "metadata": {},
   "outputs": [],
   "source": []
  }
 ],
 "metadata": {
  "kernelspec": {
   "display_name": "Python 3",
   "language": "python",
   "name": "python3"
  },
  "language_info": {
   "codemirror_mode": {
    "name": "ipython",
    "version": 3
   },
   "file_extension": ".py",
   "mimetype": "text/x-python",
   "name": "python",
   "nbconvert_exporter": "python",
   "pygments_lexer": "ipython3",
   "version": "3.6.13"
  }
 },
 "nbformat": 4,
 "nbformat_minor": 4
}
