{
 "cells": [
  {
   "cell_type": "code",
   "execution_count": 1,
   "id": "3e316de5-ec7e-4c98-805b-fe6693ce3c04",
   "metadata": {},
   "outputs": [],
   "source": [
    "%matplotlib inline"
   ]
  },
  {
   "cell_type": "code",
   "execution_count": 2,
   "id": "53185bf1-6501-4f3a-a051-bb3608da0754",
   "metadata": {},
   "outputs": [],
   "source": [
    "import pickle\n",
    "from importlib import reload\n",
    "import eval_gnn\n",
    "reload(eval_gnn)\n",
    "from eval_gnn import eval_gnn, eval_gnn_pure\n",
    "from eval_next import eval_next\n",
    "from eval_bit import eval_bit\n",
    "from eval_rrt import eval_rrt\n",
    "import numpy as np\n",
    "from environment import UR5Env, Kuka2Env, SnakeEnv, MazeEnv, KukaEnv\n",
    "from str2env import str2env\n",
    "from str2name import str2name\n",
    "import warnings\n",
    "warnings.filterwarnings('ignore')\n",
    "# indexes = np.arange(2000, 3000)\n",
    "\n",
    "# try:\n",
    "#     if result_total is None:\n",
    "#         result_total = {}\n",
    "# except:\n",
    "#     result_total = {}\n",
    "\n",
    "# methods = [('BIT*', eval_bit), ('RRT*', eval_rrt)]\n",
    "\n",
    "# for name, eval_method in methods:\n",
    "\n",
    "#     for problem in ['maze2easy', 'maze2hard', 'snake7', 'ur5', 'kuka7', 'kuka13', 'kuka14']:\n",
    "\n",
    "#         env, indexes = str2env(problem)\n",
    "#         for seed in [1234, 2341, 3412, 4123]:\n",
    "#             if (problem, name, str(seed)) in result_total:\n",
    "#                 continue\n",
    "#             print(problem, name, seed)\n",
    "#             result = eval_method(str(env), seed, env, indexes, batch=100, use_tqdm=True)\n",
    "#             result_total[problem, name, str(seed)] = result\n",
    "\n",
    "#         results = [result_total[problem, name, str(seed)] for seed in [1234, 2341, 3412, 4123]]\n",
    "#         print(problem, name, 'Avg')\n",
    "#         print('success rate:', np.mean([result[0] for result in results]))\n",
    "#         print('collision check: %.2f' % np.mean([result[1] for result in results]))\n",
    "#         print('running time: %.2f' % np.mean([result[2] for result in results]))\n",
    "#         print('path cost: %.2f' % np.mean([result[3] for result in results]))\n",
    "#         print('total time: %.2f' % np.mean([result[4] for result in results]))\n",
    "#         print('')\n",
    "#         result_total[problem, name, 'Avg'] = tuple([np.mean([result[i] for result in results]) for i in range(5)])\n",
    "#         results = []"
   ]
  },
  {
   "cell_type": "code",
   "execution_count": 16,
   "id": "46753b3b-15f3-4061-a2f5-07159c4bff56",
   "metadata": {
    "scrolled": true,
    "tags": []
   },
   "outputs": [
    {
     "ename": "NameError",
     "evalue": "name 'LazySP' is not defined",
     "output_type": "error",
     "traceback": [
      "\u001b[0;31m---------------------------------------------------------------------------\u001b[0m",
      "\u001b[0;31mNameError\u001b[0m                                 Traceback (most recent call last)",
      "\u001b[0;32m<ipython-input-16-512017763bb0>\u001b[0m in \u001b[0;36m<module>\u001b[0;34m()\u001b[0m\n\u001b[1;32m      2\u001b[0m \u001b[0menv\u001b[0m\u001b[0;34m,\u001b[0m \u001b[0mindexes\u001b[0m \u001b[0;34m=\u001b[0m \u001b[0mstr2env\u001b[0m\u001b[0;34m(\u001b[0m\u001b[0;34m'ur5'\u001b[0m\u001b[0;34m)\u001b[0m\u001b[0;34m\u001b[0m\u001b[0;34m\u001b[0m\u001b[0m\n\u001b[1;32m      3\u001b[0m \u001b[0menv\u001b[0m\u001b[0;34m.\u001b[0m\u001b[0minit_new_problem\u001b[0m\u001b[0;34m(\u001b[0m\u001b[0;36m1\u001b[0m\u001b[0;34m)\u001b[0m\u001b[0;34m\u001b[0m\u001b[0;34m\u001b[0m\u001b[0m\n\u001b[0;32m----> 4\u001b[0;31m \u001b[0mlazy_sp\u001b[0m \u001b[0;34m=\u001b[0m \u001b[0mLazySP\u001b[0m\u001b[0;34m(\u001b[0m\u001b[0menv\u001b[0m\u001b[0;34m)\u001b[0m\u001b[0;34m\u001b[0m\u001b[0;34m\u001b[0m\u001b[0m\n\u001b[0m\u001b[1;32m      5\u001b[0m \u001b[0mnodes\u001b[0m\u001b[0;34m,\u001b[0m \u001b[0mcollisions\u001b[0m\u001b[0;34m,\u001b[0m \u001b[0mpath\u001b[0m\u001b[0;34m,\u001b[0m \u001b[0mn_sample\u001b[0m\u001b[0;34m,\u001b[0m \u001b[0mtotal_time\u001b[0m \u001b[0;34m=\u001b[0m \u001b[0mlazy_sp\u001b[0m\u001b[0;34m.\u001b[0m\u001b[0mplan\u001b[0m\u001b[0;34m(\u001b[0m\u001b[0;34m)\u001b[0m\u001b[0;34m\u001b[0m\u001b[0;34m\u001b[0m\u001b[0m\n\u001b[1;32m      6\u001b[0m \u001b[0;34m\u001b[0m\u001b[0m\n",
      "\u001b[0;31mNameError\u001b[0m: name 'LazySP' is not defined"
     ]
    }
   ],
   "source": [
    "from eval_bit import eval_lazysp\n",
    "env, indexes = str2env('ur5')\n",
    "env.init_new_problem(1)\n",
    "lazy_sp = LazySP(env)\n",
    "nodes, collisions, path, n_sample, total_time = lazy_sp.plan()\n",
    "\n",
    "from eval_gnn import path_cost\n",
    "from config import set_random_seed\n",
    "from tqdm import tqdm"
   ]
  },
  {
   "cell_type": "code",
   "execution_count": null,
   "id": "1eaf8b4d-ef11-4454-bc28-2fea62818c0e",
   "metadata": {},
   "outputs": [
    {
     "name": "stderr",
     "output_type": "stream",
     "text": [
      "100%|██████████| 1000/1000 [03:15<00:00,  5.11it/s]"
     ]
    },
    {
     "name": "stdout",
     "output_type": "stream",
     "text": [
      "success rate: 745\n",
      "collision check: 1281.52\n",
      "running time: 0.13\n",
      "path cost: 8.89\n",
      "total time: 157.34\n",
      "\n"
     ]
    },
    {
     "name": "stderr",
     "output_type": "stream",
     "text": [
      "\n"
     ]
    }
   ],
   "source": [
    "_ = eval_lazysp('ur5', 1234, env, indexes, batch=100, t_max=100, use_tqdm=True)"
   ]
  },
  {
   "cell_type": "code",
   "execution_count": 18,
   "id": "dc2236d9-7fe9-40d6-bda7-e10e803ff792",
   "metadata": {},
   "outputs": [
    {
     "name": "stderr",
     "output_type": "stream",
     "text": [
      "gnn 0.01s, search 0.29s, explored 2: 100%|██████████| 1000/1000 [05:07<00:00,  3.25it/s]"
     ]
    },
    {
     "name": "stdout",
     "output_type": "stream",
     "text": [
      "success rate: 741\n",
      "collision check: 2647.89\n",
      "collision check explore: 1436.05\n",
      "running time: 0.25\n",
      "path cost: 7.40\n",
      "total time: 267.51\n",
      "total time explore: 182.87\n",
      "\n"
     ]
    },
    {
     "name": "stderr",
     "output_type": "stream",
     "text": [
      "\n"
     ]
    }
   ],
   "source": [
    "_ = eval_gnn('ur5', 1234, env, indexes, batch=100, t_max=100, k=10, use_tqdm=True)"
   ]
  },
  {
   "cell_type": "code",
   "execution_count": 129,
   "id": "b6e39127-ba61-48ad-b5d9-bb3d7e2de5de",
   "metadata": {},
   "outputs": [],
   "source": [
    "env.init_new_problem(0)\n",
    "env.map[1:-1,1:-1] = 0\n",
    "env.map[10, 4:10] = 1\n",
    "env.map[11, 4:10] = 1\n",
    "env.map[4, 4:10] = 1\n",
    "env.map[3, 4:10] = 1\n",
    "env.map[3:12, 10] = 1\n",
    "env.map[3:12, 9] = 1\n",
    "env.map[3:11, 8] = 1"
   ]
  },
  {
   "cell_type": "code",
   "execution_count": 130,
   "id": "9c445b17-7ff0-4c28-9c8c-bc065b667f39",
   "metadata": {},
   "outputs": [],
   "source": [
    "import numpy as np\n",
    "# (array([-0.85735603,  0.57040995]), array([-0.22299576, -0.28646506]))\n",
    "env.init_state = np.array([-0.,  -0.08646506])\n",
    "env.goal_state = np.array([-0.,  0.57040995])"
   ]
  },
  {
   "cell_type": "code",
   "execution_count": 136,
   "id": "af1f2aae-ecd1-491b-8555-de07f68f7f8d",
   "metadata": {},
   "outputs": [
    {
     "data": {
      "image/png": "[encoded data removed]",
      "text/plain": [
       "<Figure size 288x288 with 1 Axes>"
      ]
     },
     "execution_count": 136,
     "metadata": {},
     "output_type": "execute_result"
    }
   ],
   "source": [
    "%matplotlib inline\n",
    "import matplotlib.pyplot as plt\n",
    "from utils.plot import plot_edges\n",
    "plot_edges({}, {}, env.get_problem(), save='wall.png')"
   ]
  },
  {
   "cell_type": "code",
   "execution_count": 25,
   "id": "56902222-0999-415a-9976-72ad8442defa",
   "metadata": {},
   "outputs": [
    {
     "name": "stderr",
     "output_type": "stream",
     "text": [
      "100%|██████████| 1000/1000 [03:43<00:00,  4.48it/s]\n"
     ]
    }
   ],
   "source": [
    "import torch\n",
    "import numpy as np\n",
    "from torch_geometric.data import Data\n",
    "from config import set_random_seed\n",
    "from tqdm import tqdm as tqdm\n",
    "from torch_sparse import coalesce\n",
    "from torch_geometric.nn import knn_graph\n",
    "from time import time\n",
    "from smoother import model_smooth, proposed_path_smoother, joint_smoother, interpolate_path\n",
    "from str2name import str2name\n",
    "from eval_gnn import explore\n",
    "\n",
    "from str2env import str2env\n",
    "env, indexes = str2env('maze2hard')\n",
    "cs = []\n",
    "bs = 100\n",
    "result_gnns = []\n",
    "result_sps = []\n",
    "\n",
    "for i in tqdm(range(1000)):\n",
    "    \n",
    "    env.init_new_problem(i)\n",
    "\n",
    "    str = 'maze2'\n",
    "    set_random_seed(1234)\n",
    "    _, model, model_path, _, _ = str2name(str)\n",
    "    model.load_state_dict(torch.load(model_path, map_location=torch.device(\"cpu\")))\n",
    "    _, _, _, model_s, model_s_path = str2name(str)\n",
    "    model_s.load_state_dict(torch.load(model_s_path, map_location=torch.device(\"cpu\")))\n",
    "\n",
    "    model.eval()\n",
    "    model_s.eval()\n",
    "    result = explore(env, model, model_s, smooth=True, batch=bs, t_max=bs, k=10) \n",
    "\n",
    "    from algorithm.lazy_sp import LazySP\n",
    "    set_random_seed(1234)\n",
    "    lazy_sp = LazySP(env, batch_size=bs, T=bs)\n",
    "    result_sp = lazy_sp.plan()\n",
    "    \n",
    "    result_gnns.append(result)\n",
    "    result_sps.append(result_sp)"
   ]
  },
  {
   "cell_type": "code",
   "execution_count": 48,
   "id": "85e6f7f9-7645-47d5-8666-d484986279bd",
   "metadata": {
    "tags": []
   },
   "outputs": [
    {
     "name": "stdout",
     "output_type": "stream",
     "text": [
      "-------------------------------\n"
     ]
    }
   ],
   "source": [
    "%matplotlib inline\n",
    "import matplotlib.pyplot as plt\n",
    "from utils.plot import plot_edges, merge_pic\n",
    "paths = []\n",
    "for i in range(1000):\n",
    "    if len(result_gnns[i]['path'])==0 or len(result_sps[i][2])==0:\n",
    "        continue\n",
    "    if 0.55 * result_gnns[i]['c_explore'] > result_sps[i][1]:\n",
    "#         print(i, result_gnns[i]['c_explore'], result_sps[i][1])\n",
    "        env.init_new_problem(i)\n",
    "        edges = result_gnns[i]['data'].v[np.array(result_gnns[i]['explored_edges']).reshape(-1)].reshape(-1, 2, 2)\n",
    "        edges = [[tuple(k), tuple(v)] for k, v in zip(edges[:, 0, :].cpu().numpy(), edges[:, 1, :].cpu().numpy())]\n",
    "        plot_edges(result_gnns[i]['path'], edges, env.get_problem(), \\\n",
    "                   title='GNN explores {0:d} edges'.format(result_gnns[i]['c_explore']), \\\n",
    "                   save='data/images/{0:d}-gnn.png'.format(i))\n",
    "        plt.show()\n",
    "        plot_edges(result_sps[i][2], [[result_sps[i][0][k], result_sps[i][0][v]] for set_ in [result_sps[i][5], result_sps[i][6]] for k, v in set_ ], \\\n",
    "                   env.get_problem(), title='LazySP explores {0:d} edges'.format(result_sps[i][1]), \\\n",
    "                   save='data/images/{0:d}-lazy.png'.format(i))\n",
    "        plt.show()\n",
    "        paths.extend(['data/images/{0:d}-gnn.png'.format(i), 'data/images/{0:d}-lazy.png'.format(i)])\n",
    "        print('-------------------------------')"
   ]
  },
  {
   "cell_type": "code",
   "execution_count": 44,
   "id": "8dcf263a-76c8-4a0d-aa91-9ed59f2f9dfc",
   "metadata": {},
   "outputs": [
    {
     "data": {
      "text/plain": [
       "8"
      ]
     },
     "execution_count": 44,
     "metadata": {},
     "output_type": "execute_result"
    }
   ],
   "source": [
    "len(paths)"
   ]
  },
  {
   "cell_type": "code",
   "execution_count": 49,
   "id": "f3ed5334-44c6-4369-b286-edcb4db74eeb",
   "metadata": {},
   "outputs": [],
   "source": [
    "merge_pic(paths, 2, 1, 'data/images/2dhard_lazy.png')"
   ]
  },
  {
   "cell_type": "code",
   "execution_count": 5,
   "id": "5d4ef613-d11b-4d41-afeb-9a57bca6cb5e",
   "metadata": {
    "scrolled": true,
    "tags": []
   },
   "outputs": [
    {
     "data": {
      "text/plain": [
       "[[0, 0],\n",
       " [0, 51],\n",
       " [51, 0],\n",
       " [0, 91],\n",
       " [91, 0],\n",
       " [0, 49],\n",
       " [49, 0],\n",
       " [0, 27],\n",
       " [27, 0],\n",
       " [27, 30],\n",
       " [30, 27],\n",
       " [27, 48],\n",
       " [48, 27],\n",
       " [27, 9],\n",
       " [9, 27],\n",
       " [27, 75],\n",
       " [75, 27],\n",
       " [27, 51],\n",
       " [51, 27],\n",
       " [0, 86],\n",
       " [86, 0],\n",
       " [86, 48],\n",
       " [48, 86],\n",
       " [86, 51],\n",
       " [51, 86],\n",
       " [86, 49],\n",
       " [49, 86],\n",
       " [0, 17],\n",
       " [17, 0],\n",
       " [17, 51],\n",
       " [51, 17],\n",
       " [17, 91],\n",
       " [91, 17],\n",
       " [17, 49],\n",
       " [49, 17],\n",
       " [86, 90],\n",
       " [90, 86],\n",
       " [90, 72],\n",
       " [72, 90],\n",
       " [72, 13],\n",
       " [13, 72],\n",
       " [13, 100],\n",
       " [100, 13],\n",
       " [13, 55],\n",
       " [55, 13],\n",
       " [13, 60],\n",
       " [60, 13],\n",
       " [13, 98],\n",
       " [98, 13],\n",
       " [72, 2],\n",
       " [2, 72],\n",
       " [2, 54],\n",
       " [54, 2],\n",
       " [2, 93],\n",
       " [93, 2],\n",
       " [2, 43],\n",
       " [43, 2],\n",
       " [2, 22],\n",
       " [22, 2],\n",
       " [2, 98],\n",
       " [98, 2],\n",
       " [2, 60],\n",
       " [60, 2],\n",
       " [72, 84],\n",
       " [84, 72],\n",
       " [84, 98],\n",
       " [98, 84],\n",
       " [84, 60],\n",
       " [60, 84],\n",
       " [84, 96],\n",
       " [96, 84],\n",
       " [96, 98],\n",
       " [98, 96],\n",
       " [96, 60],\n",
       " [60, 96],\n",
       " [96, 28],\n",
       " [28, 96],\n",
       " [84, 28],\n",
       " [28, 84],\n",
       " [72, 28],\n",
       " [28, 72],\n",
       " [2, 28],\n",
       " [28, 2],\n",
       " [90, 33],\n",
       " [33, 90],\n",
       " [33, 48],\n",
       " [48, 33],\n",
       " [48, 93],\n",
       " [93, 48],\n",
       " [48, 6],\n",
       " [6, 48],\n",
       " [48, 43],\n",
       " [43, 48],\n",
       " [48, 22],\n",
       " [22, 48],\n",
       " [48, 30],\n",
       " [30, 48],\n",
       " [30, 4],\n",
       " [4, 30],\n",
       " [4, 41],\n",
       " [41, 4],\n",
       " [41, 68],\n",
       " [68, 41],\n",
       " [41, 31],\n",
       " [31, 41],\n",
       " [31, 1],\n",
       " [1, 31],\n",
       " [31, 68],\n",
       " [68, 31],\n",
       " [31, 89],\n",
       " [89, 31],\n",
       " [31, 83],\n",
       " [83, 31],\n",
       " [31, 44],\n",
       " [44, 31],\n",
       " [31, 58],\n",
       " [58, 31],\n",
       " [31, 40],\n",
       " [40, 31],\n",
       " [41, 88],\n",
       " [88, 41],\n",
       " [88, 68],\n",
       " [68, 88],\n",
       " [88, 44],\n",
       " [44, 88],\n",
       " [4, 19],\n",
       " [19, 4],\n",
       " [88, 37],\n",
       " [37, 88],\n",
       " [37, 68],\n",
       " [68, 37],\n",
       " [37, 44],\n",
       " [44, 37],\n",
       " [37, 94],\n",
       " [94, 37],\n",
       " [88, 94],\n",
       " [94, 88],\n",
       " [37, 76],\n",
       " [76, 37],\n",
       " [41, 19],\n",
       " [19, 41],\n",
       " [19, 70],\n",
       " [70, 19],\n",
       " [70, 58],\n",
       " [58, 70],\n",
       " [70, 40],\n",
       " [40, 70],\n",
       " [88, 76],\n",
       " [76, 88],\n",
       " [37, 23],\n",
       " [23, 37],\n",
       " [70, 56],\n",
       " [56, 70],\n",
       " [56, 58],\n",
       " [58, 56],\n",
       " [56, 40],\n",
       " [40, 56],\n",
       " [56, 29],\n",
       " [29, 56],\n",
       " [29, 58],\n",
       " [58, 29],\n",
       " [29, 40],\n",
       " [40, 29],\n",
       " [4, 3],\n",
       " [3, 4],\n",
       " [4, 87],\n",
       " [87, 4],\n",
       " [29, 52],\n",
       " [52, 29],\n",
       " [52, 58],\n",
       " [58, 52],\n",
       " [52, 40],\n",
       " [40, 52],\n",
       " [52, 12],\n",
       " [12, 52],\n",
       " [12, 40],\n",
       " [40, 12],\n",
       " [12, 99],\n",
       " [99, 12],\n",
       " [99, 58],\n",
       " [58, 99],\n",
       " [99, 40],\n",
       " [40, 99],\n",
       " [4, 54],\n",
       " [54, 4],\n",
       " [99, 57],\n",
       " [57, 99],\n",
       " [12, 87],\n",
       " [87, 12],\n",
       " [52, 57],\n",
       " [57, 52],\n",
       " [99, 87],\n",
       " [87, 99],\n",
       " [52, 87],\n",
       " [87, 52],\n",
       " [56, 87],\n",
       " [87, 56],\n",
       " [29, 87],\n",
       " [87, 29],\n",
       " [70, 87],\n",
       " [87, 70],\n",
       " [19, 87],\n",
       " [87, 19],\n",
       " [30, 93],\n",
       " [93, 30],\n",
       " [30, 6],\n",
       " [6, 30],\n",
       " [37, 85],\n",
       " [85, 37],\n",
       " [30, 43],\n",
       " [43, 30],\n",
       " [43, 39],\n",
       " [39, 43],\n",
       " [6, 39],\n",
       " [39, 6],\n",
       " [30, 22],\n",
       " [22, 30],\n",
       " [37, 34],\n",
       " [34, 37],\n",
       " [34, 94],\n",
       " [94, 34],\n",
       " [34, 76],\n",
       " [76, 34],\n",
       " [34, 23],\n",
       " [23, 34],\n",
       " [34, 15],\n",
       " [15, 34],\n",
       " [34, 85],\n",
       " [85, 34],\n",
       " [34, 100],\n",
       " [100, 34],\n",
       " [100, 94],\n",
       " [94, 100],\n",
       " [100, 76],\n",
       " [76, 100],\n",
       " [100, 85],\n",
       " [85, 100],\n",
       " [99, 47],\n",
       " [47, 99],\n",
       " [52, 47],\n",
       " [47, 52],\n",
       " [34, 7],\n",
       " [7, 34],\n",
       " [7, 94],\n",
       " [94, 7],\n",
       " [7, 76],\n",
       " [76, 7],\n",
       " [7, 15],\n",
       " [15, 7],\n",
       " [7, 85],\n",
       " [85, 7],\n",
       " [87, 39],\n",
       " [39, 87],\n",
       " [30, 79],\n",
       " [79, 30],\n",
       " [39, 50],\n",
       " [50, 39],\n",
       " [100, 55],\n",
       " [55, 100],\n",
       " [55, 94],\n",
       " [94, 55],\n",
       " [55, 76],\n",
       " [76, 55],\n",
       " [55, 85],\n",
       " [85, 55],\n",
       " [99, 10],\n",
       " [10, 99],\n",
       " [52, 10],\n",
       " [10, 52],\n",
       " [55, 61],\n",
       " [61, 55],\n",
       " [34, 61],\n",
       " [61, 34],\n",
       " [43, 79],\n",
       " [79, 43],\n",
       " [100, 61],\n",
       " [61, 100],\n",
       " [7, 61],\n",
       " [61, 7],\n",
       " [39, 79],\n",
       " [79, 39],\n",
       " [79, 50],\n",
       " [50, 79],\n",
       " [87, 50],\n",
       " [50, 87],\n",
       " [12, 101],\n",
       " [101, 12],\n",
       " [99, 101],\n",
       " [101, 99],\n",
       " [52, 101],\n",
       " [101, 52],\n",
       " [55, 60],\n",
       " [60, 55],\n",
       " [60, 98],\n",
       " [98, 60],\n",
       " [12, 50],\n",
       " [50, 12],\n",
       " [29, 101],\n",
       " [101, 29],\n",
       " [56, 101],\n",
       " [101, 56],\n",
       " [56, 50],\n",
       " [50, 56],\n",
       " [48, 92],\n",
       " [92, 48],\n",
       " [30, 92],\n",
       " [92, 30],\n",
       " [79, 92],\n",
       " [92, 79],\n",
       " [92, 50],\n",
       " [50, 92],\n",
       " [92, 71],\n",
       " [71, 92],\n",
       " [79, 71],\n",
       " [71, 79],\n",
       " [48, 9],\n",
       " [9, 48],\n",
       " [9, 82],\n",
       " [82, 9],\n",
       " [33, 28],\n",
       " [28, 33],\n",
       " [92, 82],\n",
       " [82, 92],\n",
       " [82, 50],\n",
       " [50, 82],\n",
       " [82, 71],\n",
       " [71, 82],\n",
       " [39, 71],\n",
       " [71, 39],\n",
       " [33, 45],\n",
       " [45, 33],\n",
       " [90, 38],\n",
       " [38, 90],\n",
       " [90, 91],\n",
       " [91, 90],\n",
       " [9, 75],\n",
       " [75, 9],\n",
       " [82, 75],\n",
       " [75, 82],\n",
       " [75, 71],\n",
       " [71, 75],\n",
       " [33, 51],\n",
       " [51, 33],\n",
       " [51, 91],\n",
       " [91, 51],\n",
       " [90, 49],\n",
       " [49, 90],\n",
       " [91, 49],\n",
       " [49, 91],\n",
       " [82, 14],\n",
       " [14, 82],\n",
       " [75, 14],\n",
       " [14, 75],\n",
       " [14, 71],\n",
       " [71, 14],\n",
       " [17, 65],\n",
       " [65, 17],\n",
       " [14, 21],\n",
       " [21, 14],\n",
       " [21, 71],\n",
       " [71, 21],\n",
       " [21, 25],\n",
       " [25, 21],\n",
       " [21, 69],\n",
       " [69, 21],\n",
       " [65, 67],\n",
       " [67, 65],\n",
       " [65, 11],\n",
       " [11, 65],\n",
       " [21, 5],\n",
       " [5, 21],\n",
       " [5, 25],\n",
       " [25, 5],\n",
       " [5, 69],\n",
       " [69, 5],\n",
       " [5, 26],\n",
       " [26, 5],\n",
       " [26, 25],\n",
       " [25, 26],\n",
       " [26, 69],\n",
       " [69, 26],\n",
       " [5, 77],\n",
       " [77, 5],\n",
       " [77, 71],\n",
       " [71, 77],\n",
       " [77, 36],\n",
       " [36, 77],\n",
       " [36, 71],\n",
       " [71, 36],\n",
       " [36, 25],\n",
       " [25, 36],\n",
       " [5, 95],\n",
       " [95, 5],\n",
       " [95, 53],\n",
       " [53, 95],\n",
       " [95, 25],\n",
       " [25, 95],\n",
       " [25, 101],\n",
       " [101, 25],\n",
       " [25, 50],\n",
       " [50, 25],\n",
       " [25, 62],\n",
       " [62, 25],\n",
       " [25, 71],\n",
       " [71, 25],\n",
       " [71, 101],\n",
       " [101, 71],\n",
       " [71, 50],\n",
       " [50, 71],\n",
       " [50, 101],\n",
       " [101, 50],\n",
       " [101, 64],\n",
       " [64, 101],\n",
       " [101, 73],\n",
       " [73, 101],\n",
       " [101, 62],\n",
       " [62, 101],\n",
       " [62, 47],\n",
       " [47, 62],\n",
       " [47, 81],\n",
       " [81, 47],\n",
       " [81, 59],\n",
       " [59, 81],\n",
       " [81, 32],\n",
       " [32, 81],\n",
       " [81, 58],\n",
       " [58, 81],\n",
       " [81, 40],\n",
       " [40, 81],\n",
       " [81, 63],\n",
       " [63, 81],\n",
       " [47, 57],\n",
       " [57, 47],\n",
       " [57, 58],\n",
       " [58, 57],\n",
       " [57, 40],\n",
       " [40, 57],\n",
       " [57, 63],\n",
       " [63, 57],\n",
       " [47, 20],\n",
       " [20, 47],\n",
       " [20, 59],\n",
       " [59, 20],\n",
       " [20, 32],\n",
       " [32, 20],\n",
       " [20, 58],\n",
       " [58, 20],\n",
       " [20, 40],\n",
       " [40, 20],\n",
       " [20, 63],\n",
       " [63, 20],\n",
       " [62, 10],\n",
       " [10, 62],\n",
       " [10, 66],\n",
       " [66, 10],\n",
       " [66, 35],\n",
       " [35, 66],\n",
       " [66, 59],\n",
       " [59, 66],\n",
       " [66, 32],\n",
       " [32, 66],\n",
       " [66, 58],\n",
       " [58, 66],\n",
       " [66, 63],\n",
       " [63, 66],\n",
       " [62, 64],\n",
       " [64, 62],\n",
       " [62, 73],\n",
       " [73, 62],\n",
       " [62, 18],\n",
       " [18, 62],\n",
       " [25, 53],\n",
       " [53, 25],\n",
       " [101, 53],\n",
       " [53, 101],\n",
       " [95, 69],\n",
       " [69, 95],\n",
       " [25, 97],\n",
       " [97, 25],\n",
       " [69, 8],\n",
       " [8, 69],\n",
       " [25, 80],\n",
       " [80, 25],\n",
       " [95, 8],\n",
       " [8, 95],\n",
       " [53, 8],\n",
       " [8, 53],\n",
       " [5, 42],\n",
       " [42, 5],\n",
       " [5, 74],\n",
       " [74, 5],\n",
       " [74, 46],\n",
       " [46, 74]]"
      ]
     },
     "execution_count": 5,
     "metadata": {},
     "output_type": "execute_result"
    }
   ],
   "source": [
    "result_gnns[i]['explored_edges']"
   ]
  },
  {
   "cell_type": "code",
   "execution_count": 15,
   "id": "7dfe8150-9b3f-4e0b-80d1-f2f058a7cded",
   "metadata": {},
   "outputs": [
    {
     "data": {
      "text/plain": [
       "<AxesSubplot:>"
      ]
     },
     "execution_count": 15,
     "metadata": {},
     "output_type": "execute_result"
    },
    {
     "data": {
      "image/png": "[encoded data removed]",
      "text/plain": [
       "<Figure size 432x288 with 1 Axes>"
      ]
     },
     "metadata": {
      "needs_background": "light"
     },
     "output_type": "display_data"
    }
   ],
   "source": []
  },
  {
   "cell_type": "code",
   "execution_count": 13,
   "id": "268d6113-b0c4-4b82-b658-79820ac92a72",
   "metadata": {},
   "outputs": [
    {
     "ename": "TypeError",
     "evalue": "subplot() takes 1 or 3 positional arguments but 2 were given",
     "output_type": "error",
     "traceback": [
      "\u001b[0;31m---------------------------------------------------------------------------\u001b[0m",
      "\u001b[0;31mTypeError\u001b[0m                                 Traceback (most recent call last)",
      "\u001b[0;32m<ipython-input-13-786b8ffa6beb>\u001b[0m in \u001b[0;36m<module>\u001b[0;34m()\u001b[0m\n\u001b[0;32m----> 1\u001b[0;31m \u001b[0mplt\u001b[0m\u001b[0;34m.\u001b[0m\u001b[0msubplot\u001b[0m\u001b[0;34m(\u001b[0m\u001b[0;36m1\u001b[0m\u001b[0;34m,\u001b[0m \u001b[0;36m2\u001b[0m\u001b[0;34m)\u001b[0m\u001b[0;34m\u001b[0m\u001b[0;34m\u001b[0m\u001b[0m\n\u001b[0m",
      "\u001b[0;32m/home/rainorangelemon/anaconda3/envs/GNN/lib/python3.6/site-packages/matplotlib/pyplot.py\u001b[0m in \u001b[0;36msubplot\u001b[0;34m(*args, **kwargs)\u001b[0m\n\u001b[1;32m   1140\u001b[0m \u001b[0;34m\u001b[0m\u001b[0m\n\u001b[1;32m   1141\u001b[0m     \u001b[0mfig\u001b[0m \u001b[0;34m=\u001b[0m \u001b[0mgcf\u001b[0m\u001b[0;34m(\u001b[0m\u001b[0;34m)\u001b[0m\u001b[0;34m\u001b[0m\u001b[0;34m\u001b[0m\u001b[0m\n\u001b[0;32m-> 1142\u001b[0;31m     \u001b[0max\u001b[0m \u001b[0;34m=\u001b[0m \u001b[0mfig\u001b[0m\u001b[0;34m.\u001b[0m\u001b[0madd_subplot\u001b[0m\u001b[0;34m(\u001b[0m\u001b[0;34m*\u001b[0m\u001b[0margs\u001b[0m\u001b[0;34m,\u001b[0m \u001b[0;34m**\u001b[0m\u001b[0mkwargs\u001b[0m\u001b[0;34m)\u001b[0m\u001b[0;34m\u001b[0m\u001b[0;34m\u001b[0m\u001b[0m\n\u001b[0m\u001b[1;32m   1143\u001b[0m     \u001b[0mbbox\u001b[0m \u001b[0;34m=\u001b[0m \u001b[0max\u001b[0m\u001b[0;34m.\u001b[0m\u001b[0mbbox\u001b[0m\u001b[0;34m\u001b[0m\u001b[0;34m\u001b[0m\u001b[0m\n\u001b[1;32m   1144\u001b[0m     \u001b[0maxes_to_delete\u001b[0m \u001b[0;34m=\u001b[0m \u001b[0;34m[\u001b[0m\u001b[0;34m]\u001b[0m\u001b[0;34m\u001b[0m\u001b[0;34m\u001b[0m\u001b[0m\n",
      "\u001b[0;32m/home/rainorangelemon/anaconda3/envs/GNN/lib/python3.6/site-packages/matplotlib/figure.py\u001b[0m in \u001b[0;36madd_subplot\u001b[0;34m(self, *args, **kwargs)\u001b[0m\n\u001b[1;32m   1400\u001b[0m                     \u001b[0;31m# more similar to add_axes.\u001b[0m\u001b[0;34m\u001b[0m\u001b[0;34m\u001b[0m\u001b[0;34m\u001b[0m\u001b[0m\n\u001b[1;32m   1401\u001b[0m                     \u001b[0mself\u001b[0m\u001b[0;34m.\u001b[0m\u001b[0m_axstack\u001b[0m\u001b[0;34m.\u001b[0m\u001b[0mremove\u001b[0m\u001b[0;34m(\u001b[0m\u001b[0max\u001b[0m\u001b[0;34m)\u001b[0m\u001b[0;34m\u001b[0m\u001b[0;34m\u001b[0m\u001b[0m\n\u001b[0;32m-> 1402\u001b[0;31m             \u001b[0max\u001b[0m \u001b[0;34m=\u001b[0m \u001b[0msubplot_class_factory\u001b[0m\u001b[0;34m(\u001b[0m\u001b[0mprojection_class\u001b[0m\u001b[0;34m)\u001b[0m\u001b[0;34m(\u001b[0m\u001b[0mself\u001b[0m\u001b[0;34m,\u001b[0m \u001b[0;34m*\u001b[0m\u001b[0margs\u001b[0m\u001b[0;34m,\u001b[0m \u001b[0;34m**\u001b[0m\u001b[0mkwargs\u001b[0m\u001b[0;34m)\u001b[0m\u001b[0;34m\u001b[0m\u001b[0;34m\u001b[0m\u001b[0m\n\u001b[0m\u001b[1;32m   1403\u001b[0m \u001b[0;34m\u001b[0m\u001b[0m\n\u001b[1;32m   1404\u001b[0m         \u001b[0;32mreturn\u001b[0m \u001b[0mself\u001b[0m\u001b[0;34m.\u001b[0m\u001b[0m_add_axes_internal\u001b[0m\u001b[0;34m(\u001b[0m\u001b[0mkey\u001b[0m\u001b[0;34m,\u001b[0m \u001b[0max\u001b[0m\u001b[0;34m)\u001b[0m\u001b[0;34m\u001b[0m\u001b[0;34m\u001b[0m\u001b[0m\n",
      "\u001b[0;32m/home/rainorangelemon/anaconda3/envs/GNN/lib/python3.6/site-packages/matplotlib/axes/_subplots.py\u001b[0m in \u001b[0;36m__init__\u001b[0;34m(self, fig, *args, **kwargs)\u001b[0m\n\u001b[1;32m     37\u001b[0m \u001b[0;34m\u001b[0m\u001b[0m\n\u001b[1;32m     38\u001b[0m         \u001b[0mself\u001b[0m\u001b[0;34m.\u001b[0m\u001b[0mfigure\u001b[0m \u001b[0;34m=\u001b[0m \u001b[0mfig\u001b[0m\u001b[0;34m\u001b[0m\u001b[0;34m\u001b[0m\u001b[0m\n\u001b[0;32m---> 39\u001b[0;31m         \u001b[0mself\u001b[0m\u001b[0;34m.\u001b[0m\u001b[0m_subplotspec\u001b[0m \u001b[0;34m=\u001b[0m \u001b[0mSubplotSpec\u001b[0m\u001b[0;34m.\u001b[0m\u001b[0m_from_subplot_args\u001b[0m\u001b[0;34m(\u001b[0m\u001b[0mfig\u001b[0m\u001b[0;34m,\u001b[0m \u001b[0margs\u001b[0m\u001b[0;34m)\u001b[0m\u001b[0;34m\u001b[0m\u001b[0;34m\u001b[0m\u001b[0m\n\u001b[0m\u001b[1;32m     40\u001b[0m         \u001b[0mself\u001b[0m\u001b[0;34m.\u001b[0m\u001b[0mupdate_params\u001b[0m\u001b[0;34m(\u001b[0m\u001b[0;34m)\u001b[0m\u001b[0;34m\u001b[0m\u001b[0;34m\u001b[0m\u001b[0m\n\u001b[1;32m     41\u001b[0m         \u001b[0;31m# _axes_class is set in the subplot_class_factory\u001b[0m\u001b[0;34m\u001b[0m\u001b[0;34m\u001b[0m\u001b[0;34m\u001b[0m\u001b[0m\n",
      "\u001b[0;32m/home/rainorangelemon/anaconda3/envs/GNN/lib/python3.6/site-packages/matplotlib/gridspec.py\u001b[0m in \u001b[0;36m_from_subplot_args\u001b[0;34m(figure, args)\u001b[0m\n\u001b[1;32m    691\u001b[0m                 \u001b[0;32mreturn\u001b[0m \u001b[0mgs\u001b[0m\u001b[0;34m[\u001b[0m\u001b[0mnum\u001b[0m \u001b[0;34m-\u001b[0m \u001b[0;36m1\u001b[0m\u001b[0;34m]\u001b[0m   \u001b[0;31m# -1 due to MATLAB indexing.\u001b[0m\u001b[0;34m\u001b[0m\u001b[0;34m\u001b[0m\u001b[0m\n\u001b[1;32m    692\u001b[0m         \u001b[0;32melse\u001b[0m\u001b[0;34m:\u001b[0m\u001b[0;34m\u001b[0m\u001b[0;34m\u001b[0m\u001b[0m\n\u001b[0;32m--> 693\u001b[0;31m             raise TypeError(f\"subplot() takes 1 or 3 positional arguments but \"\n\u001b[0m\u001b[1;32m    694\u001b[0m                             f\"{len(args)} were given\")\n\u001b[1;32m    695\u001b[0m \u001b[0;34m\u001b[0m\u001b[0m\n",
      "\u001b[0;31mTypeError\u001b[0m: subplot() takes 1 or 3 positional arguments but 2 were given"
     ]
    },
    {
     "data": {
      "text/plain": [
       "<Figure size 432x288 with 0 Axes>"
      ]
     },
     "metadata": {},
     "output_type": "display_data"
    }
   ],
   "source": [
    "plt.subplot(1, 2)"
   ]
  },
  {
   "cell_type": "code",
   "execution_count": 162,
   "id": "93cbe1df-02e9-4c9d-81d9-c80ea3e0f715",
   "metadata": {},
   "outputs": [
    {
     "data": {
      "text/plain": [
       "[array([ 0.6352847 , -0.25574026], dtype=float32),\n",
       " array([ 0.5239478 , -0.14958164], dtype=float32),\n",
       " array([0.43289623, 0.00171848], dtype=float32),\n",
       " array([0.48086154, 0.12859489], dtype=float32),\n",
       " array([0.5583276 , 0.19830956], dtype=float32),\n",
       " array([0.7007331 , 0.30573872], dtype=float32),\n",
       " array([0.7671286 , 0.40555128], dtype=float32),\n",
       " array([0.7862296 , 0.55176246], dtype=float32),\n",
       " array([0.78377336, 0.62070644], dtype=float32),\n",
       " array([0.7278602, 0.7975414], dtype=float32),\n",
       " array([0.52320784, 0.8288062 ], dtype=float32),\n",
       " array([0.28823224, 0.82888955], dtype=float32)]"
      ]
     },
     "execution_count": 162,
     "metadata": {},
     "output_type": "execute_result"
    }
   ],
   "source": [
    "result_gnns[i]['path']"
   ]
  },
  {
   "cell_type": "code",
   "execution_count": 10,
   "id": "84434644-2622-49da-a309-381717300320",
   "metadata": {},
   "outputs": [
    {
     "data": {
      "image/png": "[encoded data removed]",
      "text/plain": [
       "<Figure size 288x288 with 1 Axes>"
      ]
     },
     "execution_count": 10,
     "metadata": {},
     "output_type": "execute_result"
    }
   ],
   "source": [
    "fig1"
   ]
  },
  {
   "cell_type": "code",
   "execution_count": 11,
   "id": "761eb6dc-bdba-4121-812e-0fa27c193a54",
   "metadata": {},
   "outputs": [
    {
     "data": {
      "image/png": "[encoded data removed]",
      "text/plain": [
       "<Figure size 288x288 with 1 Axes>"
      ]
     },
     "execution_count": 11,
     "metadata": {},
     "output_type": "execute_result"
    }
   ],
   "source": [
    "fig2"
   ]
  },
  {
   "cell_type": "code",
   "execution_count": 9,
   "id": "3eedb59b-e55e-46e5-8c53-8adf4fa64735",
   "metadata": {},
   "outputs": [
    {
     "ename": "ValueError",
     "evalue": "x and y must have same first dimension, but have shapes (1,) and (0,)",
     "output_type": "error",
     "traceback": [
      "\u001b[0;31m---------------------------------------------------------------------------\u001b[0m",
      "\u001b[0;31mValueError\u001b[0m                                Traceback (most recent call last)",
      "\u001b[0;32m<ipython-input-9-ef1a32a5be2c>\u001b[0m in \u001b[0;36m<module>\u001b[0;34m()\u001b[0m\n\u001b[0;32m----> 1\u001b[0;31m \u001b[0mplt\u001b[0m\u001b[0;34m.\u001b[0m\u001b[0mplot\u001b[0m\u001b[0;34m(\u001b[0m\u001b[0mbs\u001b[0m\u001b[0;34m,\u001b[0m \u001b[0mcs\u001b[0m\u001b[0;34m)\u001b[0m\u001b[0;34m\u001b[0m\u001b[0;34m\u001b[0m\u001b[0m\n\u001b[0m\u001b[1;32m      2\u001b[0m \u001b[0mplt\u001b[0m\u001b[0;34m.\u001b[0m\u001b[0mxlabel\u001b[0m\u001b[0;34m(\u001b[0m\u001b[0;34m'batch size'\u001b[0m\u001b[0;34m)\u001b[0m\u001b[0;34m\u001b[0m\u001b[0;34m\u001b[0m\u001b[0m\n\u001b[1;32m      3\u001b[0m \u001b[0mplt\u001b[0m\u001b[0;34m.\u001b[0m\u001b[0mylabel\u001b[0m\u001b[0;34m(\u001b[0m\u001b[0;34m'collision checks'\u001b[0m\u001b[0;34m)\u001b[0m\u001b[0;34m\u001b[0m\u001b[0;34m\u001b[0m\u001b[0m\n\u001b[1;32m      4\u001b[0m \u001b[0mplt\u001b[0m\u001b[0;34m.\u001b[0m\u001b[0mlegend\u001b[0m\u001b[0;34m(\u001b[0m\u001b[0;34m[\u001b[0m\u001b[0;34m'GNN'\u001b[0m\u001b[0;34m,\u001b[0m \u001b[0;34m'LazySP'\u001b[0m\u001b[0;34m]\u001b[0m\u001b[0;34m)\u001b[0m\u001b[0;34m\u001b[0m\u001b[0;34m\u001b[0m\u001b[0m\n\u001b[1;32m      5\u001b[0m \u001b[0mplt\u001b[0m\u001b[0;34m.\u001b[0m\u001b[0msavefig\u001b[0m\u001b[0;34m(\u001b[0m\u001b[0;34m'./lazysp.png'\u001b[0m\u001b[0;34m)\u001b[0m\u001b[0;34m\u001b[0m\u001b[0;34m\u001b[0m\u001b[0m\n",
      "\u001b[0;32m/home/rainorangelemon/anaconda3/envs/GNN/lib/python3.6/site-packages/matplotlib/pyplot.py\u001b[0m in \u001b[0;36mplot\u001b[0;34m(scalex, scaley, data, *args, **kwargs)\u001b[0m\n\u001b[1;32m   2840\u001b[0m     return gca().plot(\n\u001b[1;32m   2841\u001b[0m         \u001b[0;34m*\u001b[0m\u001b[0margs\u001b[0m\u001b[0;34m,\u001b[0m \u001b[0mscalex\u001b[0m\u001b[0;34m=\u001b[0m\u001b[0mscalex\u001b[0m\u001b[0;34m,\u001b[0m \u001b[0mscaley\u001b[0m\u001b[0;34m=\u001b[0m\u001b[0mscaley\u001b[0m\u001b[0;34m,\u001b[0m\u001b[0;34m\u001b[0m\u001b[0;34m\u001b[0m\u001b[0m\n\u001b[0;32m-> 2842\u001b[0;31m         **({\"data\": data} if data is not None else {}), **kwargs)\n\u001b[0m\u001b[1;32m   2843\u001b[0m \u001b[0;34m\u001b[0m\u001b[0m\n\u001b[1;32m   2844\u001b[0m \u001b[0;34m\u001b[0m\u001b[0m\n",
      "\u001b[0;32m/home/rainorangelemon/anaconda3/envs/GNN/lib/python3.6/site-packages/matplotlib/axes/_axes.py\u001b[0m in \u001b[0;36mplot\u001b[0;34m(self, scalex, scaley, data, *args, **kwargs)\u001b[0m\n\u001b[1;32m   1741\u001b[0m         \"\"\"\n\u001b[1;32m   1742\u001b[0m         \u001b[0mkwargs\u001b[0m \u001b[0;34m=\u001b[0m \u001b[0mcbook\u001b[0m\u001b[0;34m.\u001b[0m\u001b[0mnormalize_kwargs\u001b[0m\u001b[0;34m(\u001b[0m\u001b[0mkwargs\u001b[0m\u001b[0;34m,\u001b[0m \u001b[0mmlines\u001b[0m\u001b[0;34m.\u001b[0m\u001b[0mLine2D\u001b[0m\u001b[0;34m)\u001b[0m\u001b[0;34m\u001b[0m\u001b[0;34m\u001b[0m\u001b[0m\n\u001b[0;32m-> 1743\u001b[0;31m         \u001b[0mlines\u001b[0m \u001b[0;34m=\u001b[0m \u001b[0;34m[\u001b[0m\u001b[0;34m*\u001b[0m\u001b[0mself\u001b[0m\u001b[0;34m.\u001b[0m\u001b[0m_get_lines\u001b[0m\u001b[0;34m(\u001b[0m\u001b[0;34m*\u001b[0m\u001b[0margs\u001b[0m\u001b[0;34m,\u001b[0m \u001b[0mdata\u001b[0m\u001b[0;34m=\u001b[0m\u001b[0mdata\u001b[0m\u001b[0;34m,\u001b[0m \u001b[0;34m**\u001b[0m\u001b[0mkwargs\u001b[0m\u001b[0;34m)\u001b[0m\u001b[0;34m]\u001b[0m\u001b[0;34m\u001b[0m\u001b[0;34m\u001b[0m\u001b[0m\n\u001b[0m\u001b[1;32m   1744\u001b[0m         \u001b[0;32mfor\u001b[0m \u001b[0mline\u001b[0m \u001b[0;32min\u001b[0m \u001b[0mlines\u001b[0m\u001b[0;34m:\u001b[0m\u001b[0;34m\u001b[0m\u001b[0;34m\u001b[0m\u001b[0m\n\u001b[1;32m   1745\u001b[0m             \u001b[0mself\u001b[0m\u001b[0;34m.\u001b[0m\u001b[0madd_line\u001b[0m\u001b[0;34m(\u001b[0m\u001b[0mline\u001b[0m\u001b[0;34m)\u001b[0m\u001b[0;34m\u001b[0m\u001b[0;34m\u001b[0m\u001b[0m\n",
      "\u001b[0;32m/home/rainorangelemon/anaconda3/envs/GNN/lib/python3.6/site-packages/matplotlib/axes/_base.py\u001b[0m in \u001b[0;36m__call__\u001b[0;34m(self, data, *args, **kwargs)\u001b[0m\n\u001b[1;32m    271\u001b[0m                 \u001b[0mthis\u001b[0m \u001b[0;34m+=\u001b[0m \u001b[0margs\u001b[0m\u001b[0;34m[\u001b[0m\u001b[0;36m0\u001b[0m\u001b[0;34m]\u001b[0m\u001b[0;34m,\u001b[0m\u001b[0;34m\u001b[0m\u001b[0;34m\u001b[0m\u001b[0m\n\u001b[1;32m    272\u001b[0m                 \u001b[0margs\u001b[0m \u001b[0;34m=\u001b[0m \u001b[0margs\u001b[0m\u001b[0;34m[\u001b[0m\u001b[0;36m1\u001b[0m\u001b[0;34m:\u001b[0m\u001b[0;34m]\u001b[0m\u001b[0;34m\u001b[0m\u001b[0;34m\u001b[0m\u001b[0m\n\u001b[0;32m--> 273\u001b[0;31m             \u001b[0;32myield\u001b[0m \u001b[0;32mfrom\u001b[0m \u001b[0mself\u001b[0m\u001b[0;34m.\u001b[0m\u001b[0m_plot_args\u001b[0m\u001b[0;34m(\u001b[0m\u001b[0mthis\u001b[0m\u001b[0;34m,\u001b[0m \u001b[0mkwargs\u001b[0m\u001b[0;34m)\u001b[0m\u001b[0;34m\u001b[0m\u001b[0;34m\u001b[0m\u001b[0m\n\u001b[0m\u001b[1;32m    274\u001b[0m \u001b[0;34m\u001b[0m\u001b[0m\n\u001b[1;32m    275\u001b[0m     \u001b[0;32mdef\u001b[0m \u001b[0mget_next_color\u001b[0m\u001b[0;34m(\u001b[0m\u001b[0mself\u001b[0m\u001b[0;34m)\u001b[0m\u001b[0;34m:\u001b[0m\u001b[0;34m\u001b[0m\u001b[0;34m\u001b[0m\u001b[0m\n",
      "\u001b[0;32m/home/rainorangelemon/anaconda3/envs/GNN/lib/python3.6/site-packages/matplotlib/axes/_base.py\u001b[0m in \u001b[0;36m_plot_args\u001b[0;34m(self, tup, kwargs)\u001b[0m\n\u001b[1;32m    397\u001b[0m \u001b[0;34m\u001b[0m\u001b[0m\n\u001b[1;32m    398\u001b[0m         \u001b[0;32mif\u001b[0m \u001b[0mx\u001b[0m\u001b[0;34m.\u001b[0m\u001b[0mshape\u001b[0m\u001b[0;34m[\u001b[0m\u001b[0;36m0\u001b[0m\u001b[0;34m]\u001b[0m \u001b[0;34m!=\u001b[0m \u001b[0my\u001b[0m\u001b[0;34m.\u001b[0m\u001b[0mshape\u001b[0m\u001b[0;34m[\u001b[0m\u001b[0;36m0\u001b[0m\u001b[0;34m]\u001b[0m\u001b[0;34m:\u001b[0m\u001b[0;34m\u001b[0m\u001b[0;34m\u001b[0m\u001b[0m\n\u001b[0;32m--> 399\u001b[0;31m             raise ValueError(f\"x and y must have same first dimension, but \"\n\u001b[0m\u001b[1;32m    400\u001b[0m                              f\"have shapes {x.shape} and {y.shape}\")\n\u001b[1;32m    401\u001b[0m         \u001b[0;32mif\u001b[0m \u001b[0mx\u001b[0m\u001b[0;34m.\u001b[0m\u001b[0mndim\u001b[0m \u001b[0;34m>\u001b[0m \u001b[0;36m2\u001b[0m \u001b[0;32mor\u001b[0m \u001b[0my\u001b[0m\u001b[0;34m.\u001b[0m\u001b[0mndim\u001b[0m \u001b[0;34m>\u001b[0m \u001b[0;36m2\u001b[0m\u001b[0;34m:\u001b[0m\u001b[0;34m\u001b[0m\u001b[0;34m\u001b[0m\u001b[0m\n",
      "\u001b[0;31mValueError\u001b[0m: x and y must have same first dimension, but have shapes (1,) and (0,)"
     ]
    },
    {
     "data": {
      "image/png": "[encoded data removed]",
      "text/plain": [
       "<Figure size 432x288 with 1 Axes>"
      ]
     },
     "metadata": {
      "needs_background": "light"
     },
     "output_type": "display_data"
    }
   ],
   "source": [
    "plt.plot(bs, cs)\n",
    "plt.xlabel('batch size')\n",
    "plt.ylabel('collision checks')\n",
    "plt.legend(['GNN', 'LazySP'])\n",
    "plt.savefig('./lazysp.png')"
   ]
  },
  {
   "cell_type": "code",
   "execution_count": 69,
   "id": "b1300707-bfff-47f5-bdc1-58037f3b4100",
   "metadata": {
    "scrolled": true,
    "tags": []
   },
   "outputs": [
    {
     "name": "stderr",
     "output_type": "stream",
     "text": [
      "  0%|          | 0/1000 [00:00<?, ?it/s]"
     ]
    },
    {
     "name": "stdout",
     "output_type": "stream",
     "text": [
      "maze2easy LazySP* 2341\n"
     ]
    },
    {
     "name": "stderr",
     "output_type": "stream",
     "text": [
      "100%|██████████| 1000/1000 [01:21<00:00, 12.28it/s]\n",
      "  0%|          | 3/1000 [00:00<00:51, 19.47it/s]"
     ]
    },
    {
     "name": "stdout",
     "output_type": "stream",
     "text": [
      "success rate: 1000\n",
      "collision check: 347.97\n",
      "running time: 0.08\n",
      "path cost: 1.40\n",
      "total time: 80.88\n",
      "\n",
      "maze2easy LazySP* 3412\n"
     ]
    },
    {
     "name": "stderr",
     "output_type": "stream",
     "text": [
      "100%|██████████| 1000/1000 [01:25<00:00, 11.72it/s]\n",
      "  0%|          | 2/1000 [00:00<01:04, 15.39it/s]"
     ]
    },
    {
     "name": "stdout",
     "output_type": "stream",
     "text": [
      "success rate: 1000\n",
      "collision check: 351.51\n",
      "running time: 0.08\n",
      "path cost: 1.37\n",
      "total time: 84.78\n",
      "\n",
      "maze2easy LazySP* 4123\n"
     ]
    },
    {
     "name": "stderr",
     "output_type": "stream",
     "text": [
      "100%|██████████| 1000/1000 [01:23<00:00, 11.99it/s]\n"
     ]
    },
    {
     "name": "stdout",
     "output_type": "stream",
     "text": [
      "success rate: 1000\n",
      "collision check: 354.61\n",
      "running time: 0.08\n",
      "path cost: 1.40\n",
      "total time: 82.87\n",
      "\n",
      "maze2easy LazySP* Avg\n",
      "success rate: 1000.0\n",
      "collision check: 351.80\n",
      "running time: 0.08\n",
      "path cost: 1.39\n",
      "total time: 83.65\n",
      "\n"
     ]
    },
    {
     "name": "stderr",
     "output_type": "stream",
     "text": [
      "  0%|          | 0/1000 [00:00<?, ?it/s]"
     ]
    },
    {
     "name": "stdout",
     "output_type": "stream",
     "text": [
      "maze2hard LazySP* 2341\n"
     ]
    },
    {
     "name": "stderr",
     "output_type": "stream",
     "text": [
      "100%|██████████| 1000/1000 [04:44<00:00,  3.51it/s]\n",
      "  0%|          | 0/1000 [00:00<?, ?it/s]"
     ]
    },
    {
     "name": "stdout",
     "output_type": "stream",
     "text": [
      "success rate: 1000\n",
      "collision check: 802.53\n",
      "running time: 0.28\n",
      "path cost: 2.51\n",
      "total time: 284.00\n",
      "\n",
      "maze2hard LazySP* 3412\n"
     ]
    },
    {
     "name": "stderr",
     "output_type": "stream",
     "text": [
      "100%|██████████| 1000/1000 [04:30<00:00,  3.70it/s]\n",
      "  0%|          | 0/1000 [00:00<?, ?it/s]"
     ]
    },
    {
     "name": "stdout",
     "output_type": "stream",
     "text": [
      "success rate: 1000\n",
      "collision check: 791.11\n",
      "running time: 0.27\n",
      "path cost: 2.51\n",
      "total time: 269.29\n",
      "\n",
      "maze2hard LazySP* 4123\n"
     ]
    },
    {
     "name": "stderr",
     "output_type": "stream",
     "text": [
      "100%|██████████| 1000/1000 [05:00<00:00,  3.33it/s]\n"
     ]
    },
    {
     "name": "stdout",
     "output_type": "stream",
     "text": [
      "success rate: 1000\n",
      "collision check: 810.03\n",
      "running time: 0.30\n",
      "path cost: 2.50\n",
      "total time: 299.80\n",
      "\n",
      "maze2hard LazySP* Avg\n",
      "success rate: 1000.0\n",
      "collision check: 801.21\n",
      "running time: 0.29\n",
      "path cost: 2.50\n",
      "total time: 287.30\n",
      "\n"
     ]
    },
    {
     "name": "stderr",
     "output_type": "stream",
     "text": [
      "  0%|          | 0/1000 [00:00<?, ?it/s]"
     ]
    },
    {
     "name": "stdout",
     "output_type": "stream",
     "text": [
      "snake7 LazySP* 2341\n"
     ]
    },
    {
     "name": "stderr",
     "output_type": "stream",
     "text": [
      "100%|██████████| 1000/1000 [03:46<00:00,  4.41it/s]\n",
      "  0%|          | 0/1000 [00:00<?, ?it/s]"
     ]
    },
    {
     "name": "stdout",
     "output_type": "stream",
     "text": [
      "success rate: 999\n",
      "collision check: 1568.01\n",
      "running time: 0.21\n",
      "path cost: 6.43\n",
      "total time: 208.81\n",
      "\n",
      "snake7 LazySP* 3412\n"
     ]
    },
    {
     "name": "stderr",
     "output_type": "stream",
     "text": [
      "100%|██████████| 1000/1000 [03:39<00:00,  4.55it/s]\n",
      "  0%|          | 0/1000 [00:00<?, ?it/s]"
     ]
    },
    {
     "name": "stdout",
     "output_type": "stream",
     "text": [
      "success rate: 999\n",
      "collision check: 1531.01\n",
      "running time: 0.19\n",
      "path cost: 6.32\n",
      "total time: 201.49\n",
      "\n",
      "snake7 LazySP* 4123\n"
     ]
    },
    {
     "name": "stderr",
     "output_type": "stream",
     "text": [
      "100%|██████████| 1000/1000 [04:46<00:00,  3.49it/s] \n"
     ]
    },
    {
     "name": "stdout",
     "output_type": "stream",
     "text": [
      "success rate: 998\n",
      "collision check: 1637.60\n",
      "running time: 0.19\n",
      "path cost: 6.42\n",
      "total time: 267.60\n",
      "\n",
      "snake7 LazySP* Avg\n",
      "success rate: 998.75\n",
      "collision check: 1595.74\n",
      "running time: 0.20\n",
      "path cost: 6.40\n",
      "total time: 236.79\n",
      "\n"
     ]
    },
    {
     "name": "stderr",
     "output_type": "stream",
     "text": [
      "  0%|          | 0/1000 [00:00<?, ?it/s]"
     ]
    },
    {
     "name": "stdout",
     "output_type": "stream",
     "text": [
      "ur5 LazySP* 2341\n"
     ]
    },
    {
     "name": "stderr",
     "output_type": "stream",
     "text": [
      "100%|██████████| 1000/1000 [13:45<00:00,  1.21it/s] \n",
      "  0%|          | 1/1000 [00:00<02:31,  6.58it/s]"
     ]
    },
    {
     "name": "stdout",
     "output_type": "stream",
     "text": [
      "success rate: 987\n",
      "collision check: 2577.01\n",
      "running time: 0.50\n",
      "path cost: 11.62\n",
      "total time: 780.40\n",
      "\n",
      "ur5 LazySP* 3412\n"
     ]
    },
    {
     "name": "stderr",
     "output_type": "stream",
     "text": [
      "100%|██████████| 1000/1000 [18:17<00:00,  1.10s/it] \n",
      "  0%|          | 0/1000 [00:00<?, ?it/s]"
     ]
    },
    {
     "name": "stdout",
     "output_type": "stream",
     "text": [
      "success rate: 986\n",
      "collision check: 2862.97\n",
      "running time: 0.52\n",
      "path cost: 11.74\n",
      "total time: 1051.10\n",
      "\n",
      "ur5 LazySP* 4123\n"
     ]
    },
    {
     "name": "stderr",
     "output_type": "stream",
     "text": [
      "100%|██████████| 1000/1000 [16:02<00:00,  1.04it/s] \n"
     ]
    },
    {
     "name": "stdout",
     "output_type": "stream",
     "text": [
      "success rate: 986\n",
      "collision check: 2828.67\n",
      "running time: 0.63\n",
      "path cost: 11.84\n",
      "total time: 913.61\n",
      "\n",
      "ur5 LazySP* Avg\n",
      "success rate: 987.25\n",
      "collision check: 2742.12\n",
      "running time: 0.56\n",
      "path cost: 11.73\n",
      "total time: 905.22\n",
      "\n"
     ]
    },
    {
     "name": "stderr",
     "output_type": "stream",
     "text": [
      "  0%|          | 2/1000 [00:00<01:12, 13.69it/s]"
     ]
    },
    {
     "name": "stdout",
     "output_type": "stream",
     "text": [
      "kuka7 LazySP* 2341\n"
     ]
    },
    {
     "name": "stderr",
     "output_type": "stream",
     "text": [
      "100%|██████████| 1000/1000 [07:11<00:00,  2.32it/s] \n",
      "  0%|          | 2/1000 [00:00<01:11, 13.89it/s]"
     ]
    },
    {
     "name": "stdout",
     "output_type": "stream",
     "text": [
      "success rate: 993\n",
      "collision check: 392.01\n",
      "running time: 0.11\n",
      "path cost: 8.95\n",
      "total time: 408.54\n",
      "\n",
      "kuka7 LazySP* 3412\n"
     ]
    },
    {
     "name": "stderr",
     "output_type": "stream",
     "text": [
      "100%|██████████| 1000/1000 [05:09<00:00,  3.23it/s]\n",
      "  0%|          | 2/1000 [00:00<01:16, 13.12it/s]"
     ]
    },
    {
     "name": "stdout",
     "output_type": "stream",
     "text": [
      "success rate: 995\n",
      "collision check: 342.64\n",
      "running time: 0.08\n",
      "path cost: 9.09\n",
      "total time: 286.77\n",
      "\n",
      "kuka7 LazySP* 4123\n"
     ]
    },
    {
     "name": "stderr",
     "output_type": "stream",
     "text": [
      "100%|██████████| 1000/1000 [06:56<00:00,  2.40it/s] \n"
     ]
    },
    {
     "name": "stdout",
     "output_type": "stream",
     "text": [
      "success rate: 994\n",
      "collision check: 383.10\n",
      "running time: 0.09\n",
      "path cost: 8.99\n",
      "total time: 393.71\n",
      "\n",
      "kuka7 LazySP* Avg\n",
      "success rate: 994.0\n",
      "collision check: 369.36\n",
      "running time: 0.09\n",
      "path cost: 8.99\n",
      "total time: 339.97\n",
      "\n"
     ]
    },
    {
     "name": "stderr",
     "output_type": "stream",
     "text": [
      "  0%|          | 1/1000 [00:00<02:16,  7.31it/s]"
     ]
    },
    {
     "name": "stdout",
     "output_type": "stream",
     "text": [
      "kuka13 LazySP* 2341\n"
     ]
    },
    {
     "name": "stderr",
     "output_type": "stream",
     "text": [
      "100%|██████████| 1000/1000 [07:07<00:00,  2.34it/s] \n",
      "  0%|          | 0/1000 [00:00<?, ?it/s]"
     ]
    },
    {
     "name": "stdout",
     "output_type": "stream",
     "text": [
      "success rate: 993\n",
      "collision check: 579.96\n",
      "running time: 0.19\n",
      "path cost: 15.81\n",
      "total time: 391.65\n",
      "\n",
      "kuka13 LazySP* 3412\n"
     ]
    },
    {
     "name": "stderr",
     "output_type": "stream",
     "text": [
      "100%|██████████| 1000/1000 [04:20<00:00,  3.85it/s] \n",
      "  0%|          | 0/1000 [00:00<?, ?it/s]"
     ]
    },
    {
     "name": "stdout",
     "output_type": "stream",
     "text": [
      "success rate: 997\n",
      "collision check: 499.24\n",
      "running time: 0.15\n",
      "path cost: 15.89\n",
      "total time: 223.37\n",
      "\n",
      "kuka13 LazySP* 4123\n"
     ]
    },
    {
     "name": "stderr",
     "output_type": "stream",
     "text": [
      "100%|██████████| 1000/1000 [06:18<00:00,  2.65it/s] \n"
     ]
    },
    {
     "name": "stdout",
     "output_type": "stream",
     "text": [
      "success rate: 994\n",
      "collision check: 554.55\n",
      "running time: 0.17\n",
      "path cost: 15.92\n",
      "total time: 341.32\n",
      "\n",
      "kuka13 LazySP* Avg\n",
      "success rate: 994.75\n",
      "collision check: 546.64\n",
      "running time: 0.17\n",
      "path cost: 15.90\n",
      "total time: 301.63\n",
      "\n"
     ]
    },
    {
     "name": "stderr",
     "output_type": "stream",
     "text": [
      "  0%|          | 2/1000 [00:00<01:07, 14.90it/s]"
     ]
    },
    {
     "name": "stdout",
     "output_type": "stream",
     "text": [
      "kuka14 LazySP* 2341\n"
     ]
    },
    {
     "name": "stderr",
     "output_type": "stream",
     "text": [
      "100%|██████████| 1000/1000 [06:59<00:00,  2.39it/s] \n",
      "  0%|          | 0/1000 [00:00<?, ?it/s]"
     ]
    },
    {
     "name": "stdout",
     "output_type": "stream",
     "text": [
      "success rate: 995\n",
      "collision check: 556.95\n",
      "running time: 0.18\n",
      "path cost: 16.10\n",
      "total time: 376.13\n",
      "\n",
      "kuka14 LazySP* 3412\n"
     ]
    },
    {
     "name": "stderr",
     "output_type": "stream",
     "text": [
      "100%|██████████| 1000/1000 [09:30<00:00,  1.75it/s] \n",
      "  0%|          | 0/1000 [00:00<?, ?it/s]"
     ]
    },
    {
     "name": "stdout",
     "output_type": "stream",
     "text": [
      "success rate: 991\n",
      "collision check: 637.25\n",
      "running time: 0.19\n",
      "path cost: 16.14\n",
      "total time: 526.86\n",
      "\n",
      "kuka14 LazySP* 4123\n"
     ]
    },
    {
     "name": "stderr",
     "output_type": "stream",
     "text": [
      "100%|██████████| 1000/1000 [10:29<00:00,  1.59it/s] \n"
     ]
    },
    {
     "name": "stdout",
     "output_type": "stream",
     "text": [
      "success rate: 993\n",
      "collision check: 648.10\n",
      "running time: 0.28\n",
      "path cost: 16.20\n",
      "total time: 585.36\n",
      "\n",
      "kuka14 LazySP* Avg\n",
      "success rate: 993.25\n",
      "collision check: 604.64\n",
      "running time: 0.25\n",
      "path cost: 16.13\n",
      "total time: 465.30\n",
      "\n"
     ]
    }
   ],
   "source": [
    "from eval_gnn import eval_gnn, eval_gnn_pure\n",
    "methods = [('LazySP*', eval_lazysp)]\n",
    "seeds = [1234, 2341, 3412, 4123]\n",
    "\n",
    "try:\n",
    "    if result_total is None:\n",
    "        result_total = {}\n",
    "except:\n",
    "    result_total = {}\n",
    "\n",
    "for problem in ['maze2easy', 'maze2hard', 'snake7', 'ur5', 'kuka7', 'kuka13', 'kuka14']:\n",
    "    \n",
    "    for name, eval_method in methods:\n",
    "\n",
    "        env, indexes = str2env(problem)\n",
    "        for seed in seeds:\n",
    "            if (problem, name, str(seed)) in result_total:\n",
    "                continue\n",
    "            print(problem, name, seed)\n",
    "            result = eval_method(str(env), seed, env, indexes, use_tqdm=True, batch=100, k=10)\n",
    "            result_total[problem, name, str(seed)] = result\n",
    "\n",
    "        results = [result_total[problem, name, str(seed)] for seed in seeds]\n",
    "        print(problem, name, 'Avg')\n",
    "        print('success rate:', np.mean([result[0] for result in results]))\n",
    "        print('collision check: %.2f' % np.mean([result[1] for result in results]))\n",
    "        print('running time: %.2f' % np.mean([result[2] for result in results]))\n",
    "        print('path cost: %.2f' % np.mean([result[3] for result in results]))\n",
    "        print('total time: %.2f' % np.mean([result[4] for result in results]))\n",
    "        print('')\n",
    "        result_total[problem, name, 'Avg'] = tuple([np.mean([result[i] for result in results]) for i in range(5)])\n",
    "        results = []\n",
    "        pickle.dump(result_total, open(\"data/lazy_sp.p\", \"wb\"))"
   ]
  },
  {
   "cell_type": "code",
   "execution_count": 40,
   "id": "38b326c2-a6ec-4363-9f86-509d96edb928",
   "metadata": {},
   "outputs": [
    {
     "data": {
      "text/plain": [
       "<Figure size 432x288 with 0 Axes>"
      ]
     },
     "metadata": {},
     "output_type": "display_data"
    },
    {
     "data": {
      "image/png": "[encoded data removed]",
      "text/plain": [
       "<Figure size 288x288 with 1 Axes>"
      ]
     },
     "metadata": {
      "needs_background": "light"
     },
     "output_type": "display_data"
    }
   ],
   "source": [
    "%matplotlib inline\n",
    "import matplotlib.pyplot as plt\n",
    "from utils.plot import plot_edges\n",
    "plot_edges({}, {}, env.get_problem())\n",
    "plt.show()"
   ]
  },
  {
   "cell_type": "code",
   "execution_count": 1,
   "id": "dd0e84a7-7098-48da-986a-2d1217325e6e",
   "metadata": {
    "scrolled": true,
    "tags": []
   },
   "outputs": [
    {
     "name": "stdout",
     "output_type": "stream",
     "text": [
      "maze2easy GNN 1234\n"
     ]
    },
    {
     "name": "stderr",
     "output_type": "stream",
     "text": [
      "gnn 0.01s, search 0.03s, explored 7: 100%|██████████| 1000/1000 [00:59<00:00, 16.78it/s] \n",
      "  0%|          | 0/1000 [00:00<?, ?it/s]"
     ]
    },
    {
     "name": "stdout",
     "output_type": "stream",
     "text": [
      "success rate: 999\n",
      "collision check: 484.92\n",
      "collision check explore: 339.85\n",
      "running time: 0.06\n",
      "path cost: 1.33\n",
      "total time: 57.37\n",
      "total time explore: 42.57\n",
      "\n",
      "maze2easy GNN Avg\n",
      "success rate: 999.0\n",
      "collision check: 484.92\n",
      "running time: 0.06\n",
      "path cost: 1.33\n",
      "total time: 57.37\n",
      "\n",
      "maze2hard GNN 1234\n"
     ]
    },
    {
     "name": "stderr",
     "output_type": "stream",
     "text": [
      "gnn 0.01s, search 0.07s, explored 27: 100%|██████████| 1000/1000 [01:59<00:00,  8.34it/s]\n",
      "  0%|          | 0/1000 [00:00<?, ?it/s]"
     ]
    },
    {
     "name": "stdout",
     "output_type": "stream",
     "text": [
      "success rate: 1000\n",
      "collision check: 1010.93\n",
      "collision check explore: 709.08\n",
      "running time: 0.12\n",
      "path cost: 2.43\n",
      "total time: 117.64\n",
      "total time explore: 96.58\n",
      "\n",
      "maze2hard GNN Avg\n",
      "success rate: 1000.0\n",
      "collision check: 1010.93\n",
      "running time: 0.12\n",
      "path cost: 2.43\n",
      "total time: 117.64\n",
      "\n",
      "snake7 GNN 1234\n"
     ]
    },
    {
     "name": "stderr",
     "output_type": "stream",
     "text": [
      "gnn 0.01s, search 0.27s, explored 2: 100%|██████████| 1000/1000 [05:23<00:00,  3.09it/s] \n"
     ]
    },
    {
     "name": "stdout",
     "output_type": "stream",
     "text": [
      "success rate: 1000\n",
      "collision check: 2791.41\n",
      "collision check explore: 1559.98\n",
      "running time: 0.31\n",
      "path cost: 5.41\n",
      "total time: 305.39\n",
      "total time explore: 213.50\n",
      "\n",
      "snake7 GNN Avg\n",
      "success rate: 1000.0\n",
      "collision check: 2791.41\n",
      "running time: 0.31\n",
      "path cost: 5.41\n",
      "total time: 305.39\n",
      "\n",
      "ur5 GNN 1234\n"
     ]
    },
    {
     "name": "stderr",
     "output_type": "stream",
     "text": [
      "gnn 0.01s, search 0.26s, explored 2: 100%|██████████| 1000/1000 [08:59<00:00,  1.85it/s] \n"
     ]
    },
    {
     "name": "stdout",
     "output_type": "stream",
     "text": [
      "success rate: 959\n",
      "collision check: 5268.62\n",
      "collision check explore: 2517.51\n",
      "running time: 0.44\n",
      "path cost: 9.26\n",
      "total time: 497.69\n",
      "total time explore: 309.97\n",
      "\n",
      "ur5 GNN Avg\n",
      "success rate: 959.0\n",
      "collision check: 5268.62\n",
      "running time: 0.44\n",
      "path cost: 9.26\n",
      "total time: 497.69\n",
      "\n",
      "kuka7 GNN 1234\n"
     ]
    },
    {
     "name": "stderr",
     "output_type": "stream",
     "text": [
      "gnn 0.01s, search 0.17s, explored 28: 100%|██████████| 1000/1000 [01:50<00:00,  9.08it/s]\n"
     ]
    },
    {
     "name": "stdout",
     "output_type": "stream",
     "text": [
      "success rate: 989\n",
      "collision check: 457.40\n",
      "collision check explore: 341.71\n",
      "running time: 0.05\n",
      "path cost: 6.61\n",
      "total time: 86.75\n",
      "total time explore: 70.54\n",
      "\n",
      "kuka7 GNN Avg\n",
      "success rate: 989.0\n",
      "collision check: 457.40\n",
      "running time: 0.05\n",
      "path cost: 6.61\n",
      "total time: 86.75\n",
      "\n",
      "kuka13 GNN 1234\n"
     ]
    },
    {
     "name": "stderr",
     "output_type": "stream",
     "text": [
      "gnn 0.01s, search 0.09s, explored 6: 100%|██████████| 1000/1000 [03:02<00:00,  5.48it/s] \n"
     ]
    },
    {
     "name": "stdout",
     "output_type": "stream",
     "text": [
      "success rate: 990\n",
      "collision check: 747.97\n",
      "collision check explore: 455.55\n",
      "running time: 0.12\n",
      "path cost: 10.57\n",
      "total time: 146.61\n",
      "total time explore: 105.17\n",
      "\n",
      "kuka13 GNN Avg\n",
      "success rate: 990.0\n",
      "collision check: 747.97\n",
      "running time: 0.12\n",
      "path cost: 10.57\n",
      "total time: 146.61\n",
      "\n",
      "kuka14 GNN 1234\n"
     ]
    },
    {
     "name": "stderr",
     "output_type": "stream",
     "text": [
      "gnn 0.01s, search 0.07s, explored 5: 100%|██████████| 1000/1000 [02:36<00:00,  6.39it/s] \n",
      "gnn 0.00s, search 0.03s, explored 7:   0%|          | 0/1000 [00:00<?, ?it/s]"
     ]
    },
    {
     "name": "stdout",
     "output_type": "stream",
     "text": [
      "success rate: 991\n",
      "collision check: 681.02\n",
      "collision check explore: 395.83\n",
      "running time: 0.09\n",
      "path cost: 10.41\n",
      "total time: 113.66\n",
      "total time explore: 78.23\n",
      "\n",
      "kuka14 GNN Avg\n",
      "success rate: 991.0\n",
      "collision check: 681.02\n",
      "running time: 0.09\n",
      "path cost: 10.41\n",
      "total time: 113.66\n",
      "\n",
      "maze2easy GNN_pure 1234\n"
     ]
    },
    {
     "name": "stderr",
     "output_type": "stream",
     "text": [
      "gnn 0.00s, search 0.03s, explored 7: 100%|██████████| 1000/1000 [00:55<00:00, 17.99it/s] \n",
      "  0%|          | 0/1000 [00:00<?, ?it/s]"
     ]
    },
    {
     "name": "stdout",
     "output_type": "stream",
     "text": [
      "success rate: 999\n",
      "collision check: 555.64\n",
      "collision check explore: 333.73\n",
      "running time: 0.05\n",
      "path cost: 1.66\n",
      "total time: 53.38\n",
      "total time explore: 35.77\n",
      "\n",
      "maze2easy GNN_pure Avg\n",
      "success rate: 999.0\n",
      "collision check: 555.64\n",
      "running time: 0.05\n",
      "path cost: 1.66\n",
      "total time: 53.38\n",
      "\n",
      "maze2hard GNN_pure 1234\n"
     ]
    },
    {
     "name": "stderr",
     "output_type": "stream",
     "text": [
      "gnn 0.00s, search 0.11s, explored 56:  18%|█▊        | 176/1000 [00:21<01:41,  8.13it/s] \n"
     ]
    },
    {
     "ename": "KeyboardInterrupt",
     "evalue": "",
     "output_type": "error",
     "traceback": [
      "\u001b[0;31m---------------------------------------------------------------------------\u001b[0m",
      "\u001b[0;31mKeyboardInterrupt\u001b[0m                         Traceback (most recent call last)",
      "\u001b[0;32m<ipython-input-1-9cfb73508958>\u001b[0m in \u001b[0;36m<module>\u001b[0;34m()\u001b[0m\n\u001b[1;32m     33\u001b[0m                 \u001b[0;32mcontinue\u001b[0m\u001b[0;34m\u001b[0m\u001b[0;34m\u001b[0m\u001b[0m\n\u001b[1;32m     34\u001b[0m             \u001b[0mprint\u001b[0m\u001b[0;34m(\u001b[0m\u001b[0mproblem\u001b[0m\u001b[0;34m,\u001b[0m \u001b[0mname\u001b[0m\u001b[0;34m,\u001b[0m \u001b[0mseed\u001b[0m\u001b[0;34m)\u001b[0m\u001b[0;34m\u001b[0m\u001b[0;34m\u001b[0m\u001b[0m\n\u001b[0;32m---> 35\u001b[0;31m             \u001b[0mresult\u001b[0m \u001b[0;34m=\u001b[0m \u001b[0meval_method\u001b[0m\u001b[0;34m(\u001b[0m\u001b[0mstr\u001b[0m\u001b[0;34m(\u001b[0m\u001b[0menv\u001b[0m\u001b[0;34m)\u001b[0m\u001b[0;34m,\u001b[0m \u001b[0mseed\u001b[0m\u001b[0;34m,\u001b[0m \u001b[0menv\u001b[0m\u001b[0;34m,\u001b[0m \u001b[0mindexes\u001b[0m\u001b[0;34m,\u001b[0m \u001b[0muse_tqdm\u001b[0m\u001b[0;34m=\u001b[0m\u001b[0;32mTrue\u001b[0m\u001b[0;34m,\u001b[0m \u001b[0mbatch\u001b[0m\u001b[0;34m=\u001b[0m\u001b[0;36m100\u001b[0m\u001b[0;34m,\u001b[0m \u001b[0mk\u001b[0m\u001b[0;34m=\u001b[0m\u001b[0;36m10\u001b[0m\u001b[0;34m)\u001b[0m\u001b[0;34m\u001b[0m\u001b[0;34m\u001b[0m\u001b[0m\n\u001b[0m\u001b[1;32m     36\u001b[0m             \u001b[0mresult_total\u001b[0m\u001b[0;34m[\u001b[0m\u001b[0mproblem\u001b[0m\u001b[0;34m,\u001b[0m \u001b[0mname\u001b[0m\u001b[0;34m,\u001b[0m \u001b[0mstr\u001b[0m\u001b[0;34m(\u001b[0m\u001b[0mseed\u001b[0m\u001b[0;34m)\u001b[0m\u001b[0;34m]\u001b[0m \u001b[0;34m=\u001b[0m \u001b[0mresult\u001b[0m\u001b[0;34m\u001b[0m\u001b[0;34m\u001b[0m\u001b[0m\n\u001b[1;32m     37\u001b[0m \u001b[0;34m\u001b[0m\u001b[0m\n",
      "\u001b[0;32m/home/rainorangelemon/GNN-MP/eval_gnn.py\u001b[0m in \u001b[0;36meval_gnn_pure\u001b[0;34m(str, seed, env, indexes, model, model_s, use_tqdm, smooth, batch, t_max, k, **kwargs)\u001b[0m\n\u001b[1;32m     88\u001b[0m         \u001b[0mmodel_s\u001b[0m\u001b[0;34m.\u001b[0m\u001b[0mload_state_dict\u001b[0m\u001b[0;34m(\u001b[0m\u001b[0mtorch\u001b[0m\u001b[0;34m.\u001b[0m\u001b[0mload\u001b[0m\u001b[0;34m(\u001b[0m\u001b[0mmodel_s_path\u001b[0m\u001b[0;34m,\u001b[0m \u001b[0mmap_location\u001b[0m\u001b[0;34m=\u001b[0m\u001b[0mtorch\u001b[0m\u001b[0;34m.\u001b[0m\u001b[0mdevice\u001b[0m\u001b[0;34m(\u001b[0m\u001b[0;34m\"cpu\"\u001b[0m\u001b[0;34m)\u001b[0m\u001b[0;34m)\u001b[0m\u001b[0;34m)\u001b[0m\u001b[0;34m\u001b[0m\u001b[0;34m\u001b[0m\u001b[0m\n\u001b[1;32m     89\u001b[0m \u001b[0;34m\u001b[0m\u001b[0m\n\u001b[0;32m---> 90\u001b[0;31m     \u001b[0;32mreturn\u001b[0m \u001b[0meval_gnn\u001b[0m\u001b[0;34m(\u001b[0m\u001b[0mstr\u001b[0m\u001b[0;34m,\u001b[0m \u001b[0mseed\u001b[0m\u001b[0;34m,\u001b[0m \u001b[0menv\u001b[0m\u001b[0;34m,\u001b[0m \u001b[0mindexes\u001b[0m\u001b[0;34m,\u001b[0m \u001b[0mmodel\u001b[0m\u001b[0;34m,\u001b[0m \u001b[0mmodel_s\u001b[0m\u001b[0;34m,\u001b[0m \u001b[0muse_tqdm\u001b[0m\u001b[0;34m,\u001b[0m \u001b[0msmooth\u001b[0m\u001b[0;34m,\u001b[0m \u001b[0mbatch\u001b[0m\u001b[0;34m,\u001b[0m \u001b[0mt_max\u001b[0m\u001b[0;34m,\u001b[0m \u001b[0mk\u001b[0m\u001b[0;34m,\u001b[0m \u001b[0;34m**\u001b[0m\u001b[0mkwargs\u001b[0m\u001b[0;34m)\u001b[0m\u001b[0;34m\u001b[0m\u001b[0;34m\u001b[0m\u001b[0m\n\u001b[0m\u001b[1;32m     91\u001b[0m \u001b[0;34m\u001b[0m\u001b[0m\n\u001b[1;32m     92\u001b[0m \u001b[0;34m\u001b[0m\u001b[0m\n",
      "\u001b[0;32m/home/rainorangelemon/GNN-MP/eval_gnn.py\u001b[0m in \u001b[0;36meval_gnn\u001b[0;34m(str, seed, env, indexes, model, model_s, use_tqdm, smooth, batch, t_max, k, **kwargs)\u001b[0m\n\u001b[1;32m    110\u001b[0m \u001b[0;34m\u001b[0m\u001b[0m\n\u001b[1;32m    111\u001b[0m         \u001b[0menv\u001b[0m\u001b[0;34m.\u001b[0m\u001b[0minit_new_problem\u001b[0m\u001b[0;34m(\u001b[0m\u001b[0mindex\u001b[0m\u001b[0;34m)\u001b[0m\u001b[0;34m\u001b[0m\u001b[0;34m\u001b[0m\u001b[0m\n\u001b[0;32m--> 112\u001b[0;31m         \u001b[0mresult\u001b[0m \u001b[0;34m=\u001b[0m \u001b[0mexplore\u001b[0m\u001b[0;34m(\u001b[0m\u001b[0menv\u001b[0m\u001b[0;34m,\u001b[0m \u001b[0mmodel\u001b[0m\u001b[0;34m,\u001b[0m \u001b[0mmodel_s\u001b[0m\u001b[0;34m,\u001b[0m \u001b[0msmooth\u001b[0m\u001b[0;34m,\u001b[0m \u001b[0mbatch\u001b[0m\u001b[0;34m=\u001b[0m\u001b[0mbatch\u001b[0m\u001b[0;34m,\u001b[0m \u001b[0mt_max\u001b[0m\u001b[0;34m=\u001b[0m\u001b[0mt_max\u001b[0m\u001b[0;34m,\u001b[0m \u001b[0mk\u001b[0m\u001b[0;34m=\u001b[0m\u001b[0mk\u001b[0m\u001b[0;34m,\u001b[0m \u001b[0;34m**\u001b[0m\u001b[0mkwargs\u001b[0m\u001b[0;34m)\u001b[0m\u001b[0;34m\u001b[0m\u001b[0;34m\u001b[0m\u001b[0m\n\u001b[0m\u001b[1;32m    113\u001b[0m \u001b[0;34m\u001b[0m\u001b[0m\n\u001b[1;32m    114\u001b[0m         \u001b[0mpaths\u001b[0m\u001b[0;34m.\u001b[0m\u001b[0mappend\u001b[0m\u001b[0;34m(\u001b[0m\u001b[0mresult\u001b[0m\u001b[0;34m[\u001b[0m\u001b[0;34m'path'\u001b[0m\u001b[0;34m]\u001b[0m\u001b[0;34m)\u001b[0m\u001b[0;34m\u001b[0m\u001b[0;34m\u001b[0m\u001b[0m\n",
      "\u001b[0;32m/home/rainorangelemon/anaconda3/envs/GNN/lib/python3.6/site-packages/torch/autograd/grad_mode.py\u001b[0m in \u001b[0;36mdecorate_context\u001b[0;34m(*args, **kwargs)\u001b[0m\n\u001b[1;32m     25\u001b[0m         \u001b[0;32mdef\u001b[0m \u001b[0mdecorate_context\u001b[0m\u001b[0;34m(\u001b[0m\u001b[0;34m*\u001b[0m\u001b[0margs\u001b[0m\u001b[0;34m,\u001b[0m \u001b[0;34m**\u001b[0m\u001b[0mkwargs\u001b[0m\u001b[0;34m)\u001b[0m\u001b[0;34m:\u001b[0m\u001b[0;34m\u001b[0m\u001b[0;34m\u001b[0m\u001b[0m\n\u001b[1;32m     26\u001b[0m             \u001b[0;32mwith\u001b[0m \u001b[0mself\u001b[0m\u001b[0;34m.\u001b[0m\u001b[0m__class__\u001b[0m\u001b[0;34m(\u001b[0m\u001b[0;34m)\u001b[0m\u001b[0;34m:\u001b[0m\u001b[0;34m\u001b[0m\u001b[0;34m\u001b[0m\u001b[0m\n\u001b[0;32m---> 27\u001b[0;31m                 \u001b[0;32mreturn\u001b[0m \u001b[0mfunc\u001b[0m\u001b[0;34m(\u001b[0m\u001b[0;34m*\u001b[0m\u001b[0margs\u001b[0m\u001b[0;34m,\u001b[0m \u001b[0;34m**\u001b[0m\u001b[0mkwargs\u001b[0m\u001b[0;34m)\u001b[0m\u001b[0;34m\u001b[0m\u001b[0;34m\u001b[0m\u001b[0m\n\u001b[0m\u001b[1;32m     28\u001b[0m         \u001b[0;32mreturn\u001b[0m \u001b[0mcast\u001b[0m\u001b[0;34m(\u001b[0m\u001b[0mF\u001b[0m\u001b[0;34m,\u001b[0m \u001b[0mdecorate_context\u001b[0m\u001b[0;34m)\u001b[0m\u001b[0;34m\u001b[0m\u001b[0;34m\u001b[0m\u001b[0m\n\u001b[1;32m     29\u001b[0m \u001b[0;34m\u001b[0m\u001b[0m\n",
      "\u001b[0;32m/home/rainorangelemon/GNN-MP/eval_gnn.py\u001b[0m in \u001b[0;36mexplore\u001b[0;34m(env, model, model_s, smooth, batch, t_max, k, smoother)\u001b[0m\n\u001b[1;32m    192\u001b[0m         \u001b[0;32mwhile\u001b[0m \u001b[0mpolicy\u001b[0m\u001b[0;34m[\u001b[0m\u001b[0mexplored\u001b[0m\u001b[0;34m,\u001b[0m \u001b[0;34m:\u001b[0m\u001b[0;34m]\u001b[0m\u001b[0;34m.\u001b[0m\u001b[0msum\u001b[0m\u001b[0;34m(\u001b[0m\u001b[0;34m)\u001b[0m \u001b[0;34m!=\u001b[0m \u001b[0;36m0\u001b[0m\u001b[0;34m:\u001b[0m\u001b[0;34m\u001b[0m\u001b[0;34m\u001b[0m\u001b[0m\n\u001b[1;32m    193\u001b[0m \u001b[0;34m\u001b[0m\u001b[0m\n\u001b[0;32m--> 194\u001b[0;31m             \u001b[0magent\u001b[0m \u001b[0;34m=\u001b[0m \u001b[0mpolicy\u001b[0m\u001b[0;34m[\u001b[0m\u001b[0mnp\u001b[0m\u001b[0;34m.\u001b[0m\u001b[0marray\u001b[0m\u001b[0;34m(\u001b[0m\u001b[0mexplored\u001b[0m\u001b[0;34m)\u001b[0m\u001b[0;34m[\u001b[0m\u001b[0mtorch\u001b[0m\u001b[0;34m.\u001b[0m\u001b[0mwhere\u001b[0m\u001b[0;34m(\u001b[0m\u001b[0mpolicy\u001b[0m\u001b[0;34m[\u001b[0m\u001b[0mexplored\u001b[0m\u001b[0;34m,\u001b[0m \u001b[0;34m:\u001b[0m\u001b[0;34m]\u001b[0m \u001b[0;34m!=\u001b[0m \u001b[0;36m0\u001b[0m\u001b[0;34m)\u001b[0m\u001b[0;34m[\u001b[0m\u001b[0;36m0\u001b[0m\u001b[0;34m]\u001b[0m\u001b[0;34m]\u001b[0m\u001b[0;34m,\u001b[0m \u001b[0mtorch\u001b[0m\u001b[0;34m.\u001b[0m\u001b[0mwhere\u001b[0m\u001b[0;34m(\u001b[0m\u001b[0mpolicy\u001b[0m\u001b[0;34m[\u001b[0m\u001b[0mexplored\u001b[0m\u001b[0;34m,\u001b[0m \u001b[0;34m:\u001b[0m\u001b[0;34m]\u001b[0m \u001b[0;34m!=\u001b[0m \u001b[0;36m0\u001b[0m\u001b[0;34m)\u001b[0m\u001b[0;34m[\u001b[0m\u001b[0;36m1\u001b[0m\u001b[0;34m]\u001b[0m\u001b[0;34m]\u001b[0m\u001b[0;34m.\u001b[0m\u001b[0margmax\u001b[0m\u001b[0;34m(\u001b[0m\u001b[0;34m)\u001b[0m\u001b[0;34m\u001b[0m\u001b[0;34m\u001b[0m\u001b[0m\n\u001b[0m\u001b[1;32m    195\u001b[0m \u001b[0;34m\u001b[0m\u001b[0m\n\u001b[1;32m    196\u001b[0m             \u001b[0mend_a\u001b[0m\u001b[0;34m,\u001b[0m \u001b[0mend_b\u001b[0m \u001b[0;34m=\u001b[0m \u001b[0mtorch\u001b[0m\u001b[0;34m.\u001b[0m\u001b[0mwhere\u001b[0m\u001b[0;34m(\u001b[0m\u001b[0mpolicy\u001b[0m\u001b[0;34m[\u001b[0m\u001b[0mexplored\u001b[0m\u001b[0;34m,\u001b[0m \u001b[0;34m:\u001b[0m\u001b[0;34m]\u001b[0m \u001b[0;34m!=\u001b[0m \u001b[0;36m0\u001b[0m\u001b[0;34m)\u001b[0m\u001b[0;34m[\u001b[0m\u001b[0;36m0\u001b[0m\u001b[0;34m]\u001b[0m\u001b[0;34m[\u001b[0m\u001b[0magent\u001b[0m\u001b[0;34m]\u001b[0m\u001b[0;34m,\u001b[0m \u001b[0mtorch\u001b[0m\u001b[0;34m.\u001b[0m\u001b[0mwhere\u001b[0m\u001b[0;34m(\u001b[0m\u001b[0mpolicy\u001b[0m\u001b[0;34m[\u001b[0m\u001b[0mexplored\u001b[0m\u001b[0;34m,\u001b[0m \u001b[0;34m:\u001b[0m\u001b[0;34m]\u001b[0m \u001b[0;34m!=\u001b[0m \u001b[0;36m0\u001b[0m\u001b[0;34m)\u001b[0m\u001b[0;34m[\u001b[0m\u001b[0;36m1\u001b[0m\u001b[0;34m]\u001b[0m\u001b[0;34m[\u001b[0m\u001b[0magent\u001b[0m\u001b[0;34m]\u001b[0m\u001b[0;34m\u001b[0m\u001b[0;34m\u001b[0m\u001b[0m\n",
      "\u001b[0;31mKeyboardInterrupt\u001b[0m: "
     ]
    }
   ],
   "source": [
    "import pickle\n",
    "from importlib import reload\n",
    "import eval_gnn\n",
    "reload(eval_gnn)\n",
    "from eval_gnn import eval_gnn, eval_gnn_pure\n",
    "from eval_next import eval_next\n",
    "from eval_bit import eval_bit\n",
    "from eval_rrt import eval_rrt\n",
    "import numpy as np\n",
    "from environment import UR5Env, Kuka2Env, SnakeEnv, MazeEnv, KukaEnv\n",
    "from str2env import str2env\n",
    "from str2name import str2name\n",
    "import warnings\n",
    "warnings.filterwarnings('ignore')\n",
    "indexes = np.arange(2000, 3000)\n",
    "try:\n",
    "    if result_total is None:\n",
    "        result_total = {}\n",
    "except:\n",
    "    result_total = {}\n",
    "    \n",
    "methods = [('GNN', eval_gnn), ('GNN_pure', eval_gnn_pure)]\n",
    "seeds = [1234]\n",
    "\n",
    "\n",
    "for name, eval_method in methods:\n",
    "\n",
    "    for problem in ['maze2easy', 'maze2hard', 'snake7', 'ur5', 'kuka7', 'kuka13', 'kuka14']:\n",
    "\n",
    "        env, indexes = str2env(problem)\n",
    "        for seed in seeds:\n",
    "            if (problem, name, str(seed)) in result_total:\n",
    "                continue\n",
    "            print(problem, name, seed)\n",
    "            result = eval_method(str(env), seed, env, indexes, use_tqdm=True, batch=100, k=10)\n",
    "            result_total[problem, name, str(seed)] = result\n",
    "\n",
    "        results = [result_total[problem, name, str(seed)] for seed in seeds]\n",
    "        print(problem, name, 'Avg')\n",
    "        print('success rate:', np.mean([result[0] for result in results]))\n",
    "        print('collision check: %.2f' % np.mean([result[1] for result in results]))\n",
    "        print('running time: %.2f' % np.mean([result[2] for result in results]))\n",
    "        print('path cost: %.2f' % np.mean([result[3] for result in results]))\n",
    "        print('total time: %.2f' % np.mean([result[4] for result in results]))\n",
    "        print('')\n",
    "        result_total[problem, name, 'Avg'] = tuple([np.mean([result[i] for result in results]) for i in range(5)])\n",
    "        results = []\n",
    "\n",
    "#         pickle.dump(result_total, open(\"data/gnn_new_env.p\", \"wb\"))"
   ]
  },
  {
   "cell_type": "code",
   "execution_count": null,
   "id": "fa8bbcf4-3639-4e64-bd5a-69cfc9a7c746",
   "metadata": {},
   "outputs": [],
   "source": []
  }
 ],
 "metadata": {
  "kernelspec": {
   "display_name": "Python 3",
   "language": "python",
   "name": "python3"
  },
  "language_info": {
   "codemirror_mode": {
    "name": "ipython",
    "version": 3
   },
   "file_extension": ".py",
   "mimetype": "text/x-python",
   "name": "python",
   "nbconvert_exporter": "python",
   "pygments_lexer": "ipython3",
   "version": "3.6.13"
  }
 },
 "nbformat": 4,
 "nbformat_minor": 5
}
